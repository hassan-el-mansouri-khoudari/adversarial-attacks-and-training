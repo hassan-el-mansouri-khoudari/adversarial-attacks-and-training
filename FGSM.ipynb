{
  "nbformat": 4,
  "nbformat_minor": 0,
  "metadata": {
    "colab": {
      "name": "DS.ipynb",
      "provenance": [],
      "collapsed_sections": [],
      "machine_shape": "hm"
    },
    "kernelspec": {
      "name": "python3",
      "display_name": "Python 3"
    },
    "accelerator": "GPU"
  },
  "cells": [
    {
      "cell_type": "markdown",
      "metadata": {
        "id": "bCRGUsR0oj_3"
      },
      "source": [
        "# **<center> Adversarial attacks <center>**\n",
        "\n"
      ]
    },
    {
      "cell_type": "code",
      "metadata": {
        "id": "TAja09SqmRUT"
      },
      "source": [
        "exec(open('cifar_utils.py').read())\n",
        "from keras.callbacks import ReduceLROnPlateau\n",
        "import matplotlib.pyplot as plt\n",
        "from keras.models import load_model"
      ],
      "execution_count": 21,
      "outputs": []
    },
    {
      "cell_type": "markdown",
      "metadata": {
        "id": "QTwnGf28oCLj"
      },
      "source": [
        "1- Import the cifar dataset"
      ]
    },
    {
      "cell_type": "code",
      "metadata": {
        "id": "JHdSGnFToFUw"
      },
      "source": [
        "x_train, train_labels, x_test, test_labels = load_CIFAR10_data()\n",
        "classes = ['airplane','automobile','bird','cat','deer','dog','frog','horse','ship','truck']"
      ],
      "execution_count": 22,
      "outputs": []
    },
    {
      "cell_type": "code",
      "metadata": {
        "colab": {
          "base_uri": "https://localhost:8080/",
          "height": 282
        },
        "id": "vAIGKd4poUwq",
        "outputId": "dc055c86-ae8e-4ae7-e816-69d312cdd259"
      },
      "source": [
        "plt.imshow(x_train[0])"
      ],
      "execution_count": 23,
      "outputs": [
        {
          "output_type": "execute_result",
          "data": {
            "text/plain": [
              "<matplotlib.image.AxesImage at 0x7fd1a4f51ba8>"
            ]
          },
          "metadata": {
            "tags": []
          },
          "execution_count": 23
        },
        {
          "output_type": "display_data",
          "data": {
            "image/png": "[encoded data removed]",
            "text/plain": [
              "<Figure size 432x288 with 1 Axes>"
            ]
          },
          "metadata": {
            "tags": [],
            "needs_background": "light"
          }
        }
      ]
    },
    {
      "cell_type": "markdown",
      "metadata": {
        "id": "UFBALtYMobhv"
      },
      "source": [
        "2- Train a base model"
      ]
    },
    {
      "cell_type": "code",
      "metadata": {
        "id": "AOe9UUlkmGNX"
      },
      "source": [
        "input_shape = (32,32,3)\n",
        "model = build_model_base_CNN(input_shape)"
      ],
      "execution_count": 24,
      "outputs": []
    },
    {
      "cell_type": "code",
      "metadata": {
        "colab": {
          "base_uri": "https://localhost:8080/"
        },
        "id": "6ITv10wcmNr-",
        "outputId": "19b53f24-5f47-4824-b9d5-d97eea5f65c9"
      },
      "source": [
        "model.summary()"
      ],
      "execution_count": 25,
      "outputs": [
        {
          "output_type": "stream",
          "text": [
            "Model: \"sequential_1\"\n",
            "_________________________________________________________________\n",
            "Layer (type)                 Output Shape              Param #   \n",
            "=================================================================\n",
            "conv2d_6 (Conv2D)            (None, 32, 32, 32)        896       \n",
            "_________________________________________________________________\n",
            "batch_normalization_6 (Batch (None, 32, 32, 32)        128       \n",
            "_________________________________________________________________\n",
            "conv2d_7 (Conv2D)            (None, 32, 32, 32)        9248      \n",
            "_________________________________________________________________\n",
            "batch_normalization_7 (Batch (None, 32, 32, 32)        128       \n",
            "_________________________________________________________________\n",
            "max_pooling2d_3 (MaxPooling2 (None, 16, 16, 32)        0         \n",
            "_________________________________________________________________\n",
            "dropout_4 (Dropout)          (None, 16, 16, 32)        0         \n",
            "_________________________________________________________________\n",
            "conv2d_8 (Conv2D)            (None, 16, 16, 64)        18496     \n",
            "_________________________________________________________________\n",
            "batch_normalization_8 (Batch (None, 16, 16, 64)        256       \n",
            "_________________________________________________________________\n",
            "conv2d_9 (Conv2D)            (None, 16, 16, 64)        36928     \n",
            "_________________________________________________________________\n",
            "batch_normalization_9 (Batch (None, 16, 16, 64)        256       \n",
            "_________________________________________________________________\n",
            "max_pooling2d_4 (MaxPooling2 (None, 8, 8, 64)          0         \n",
            "_________________________________________________________________\n",
            "dropout_5 (Dropout)          (None, 8, 8, 64)          0         \n",
            "_________________________________________________________________\n",
            "conv2d_10 (Conv2D)           (None, 8, 8, 128)         73856     \n",
            "_________________________________________________________________\n",
            "batch_normalization_10 (Batc (None, 8, 8, 128)         512       \n",
            "_________________________________________________________________\n",
            "conv2d_11 (Conv2D)           (None, 8, 8, 128)         147584    \n",
            "_________________________________________________________________\n",
            "batch_normalization_11 (Batc (None, 8, 8, 128)         512       \n",
            "_________________________________________________________________\n",
            "max_pooling2d_5 (MaxPooling2 (None, 4, 4, 128)         0         \n",
            "_________________________________________________________________\n",
            "dropout_6 (Dropout)          (None, 4, 4, 128)         0         \n",
            "_________________________________________________________________\n",
            "flatten_1 (Flatten)          (None, 2048)              0         \n",
            "_________________________________________________________________\n",
            "dense_2 (Dense)              (None, 128)               262272    \n",
            "_________________________________________________________________\n",
            "dropout_7 (Dropout)          (None, 128)               0         \n",
            "_________________________________________________________________\n",
            "dense_3 (Dense)              (None, 10)                1290      \n",
            "=================================================================\n",
            "Total params: 552,362\n",
            "Trainable params: 551,466\n",
            "Non-trainable params: 896\n",
            "_________________________________________________________________\n"
          ],
          "name": "stdout"
        }
      ]
    },
    {
      "cell_type": "code",
      "metadata": {
        "id": "snaQDOKgGc-D"
      },
      "source": [
        "## hot encoding of the labels\n",
        "y_train = keras.utils.to_categorical(train_labels, 10) \n",
        "y_test = keras.utils.to_categorical(test_labels, 10)"
      ],
      "execution_count": 26,
      "outputs": []
    },
    {
      "cell_type": "code",
      "metadata": {
        "colab": {
          "base_uri": "https://localhost:8080/"
        },
        "id": "biz2Bi_1n86r",
        "outputId": "ccdd50f7-2d1b-46a1-e066-5033087bc04a"
      },
      "source": [
        "\n",
        "rlrop = ReduceLROnPlateau(monitor='val_loss', factor=0.1, patience=5)\n",
        "\n",
        "es = EarlyStopping(monitor='val_loss', mode='min', verbose=1,patience=15)\n",
        "mc = ModelCheckpoint('best_model.h5', monitor='val_accuracy', mode='max', verbose=1, save_best_only=True)\n",
        "\n",
        "\n",
        "history = model.fit(x_train, y_train, epochs=100, batch_size=64,verbose=1,validation_split = 0.2,callbacks=[es,mc,rlrop])\n"
      ],
      "execution_count": 27,
      "outputs": [
        {
          "output_type": "stream",
          "text": [
            "Epoch 1/100\n",
            "621/625 [============================>.] - ETA: 0s - loss: 2.1468 - accuracy: 0.2632\n",
            "Epoch 00001: val_accuracy improved from -inf to 0.18790, saving model to best_model.h5\n",
            "625/625 [==============================] - 5s 8ms/step - loss: 2.1448 - accuracy: 0.2638 - val_loss: 3.7362 - val_accuracy: 0.1879\n",
            "Epoch 2/100\n",
            "622/625 [============================>.] - ETA: 0s - loss: 1.6395 - accuracy: 0.3943\n",
            "Epoch 00002: val_accuracy improved from 0.18790 to 0.49760, saving model to best_model.h5\n",
            "625/625 [==============================] - 4s 7ms/step - loss: 1.6387 - accuracy: 0.3946 - val_loss: 1.3902 - val_accuracy: 0.4976\n",
            "Epoch 3/100\n",
            "624/625 [============================>.] - ETA: 0s - loss: 1.3617 - accuracy: 0.5132\n",
            "Epoch 00003: val_accuracy improved from 0.49760 to 0.57760, saving model to best_model.h5\n",
            "625/625 [==============================] - 4s 7ms/step - loss: 1.3614 - accuracy: 0.5133 - val_loss: 1.2543 - val_accuracy: 0.5776\n",
            "Epoch 4/100\n",
            "623/625 [============================>.] - ETA: 0s - loss: 1.1970 - accuracy: 0.5821\n",
            "Epoch 00004: val_accuracy did not improve from 0.57760\n",
            "625/625 [==============================] - 4s 7ms/step - loss: 1.1972 - accuracy: 0.5820 - val_loss: 1.2799 - val_accuracy: 0.5400\n",
            "Epoch 5/100\n",
            "624/625 [============================>.] - ETA: 0s - loss: 1.0739 - accuracy: 0.6309\n",
            "Epoch 00005: val_accuracy improved from 0.57760 to 0.65810, saving model to best_model.h5\n",
            "625/625 [==============================] - 4s 7ms/step - loss: 1.0739 - accuracy: 0.6309 - val_loss: 0.9959 - val_accuracy: 0.6581\n",
            "Epoch 6/100\n",
            "620/625 [============================>.] - ETA: 0s - loss: 1.0021 - accuracy: 0.6578\n",
            "Epoch 00006: val_accuracy did not improve from 0.65810\n",
            "625/625 [==============================] - 4s 7ms/step - loss: 1.0033 - accuracy: 0.6575 - val_loss: 1.0963 - val_accuracy: 0.6135\n",
            "Epoch 7/100\n",
            "624/625 [============================>.] - ETA: 0s - loss: 0.9642 - accuracy: 0.6774\n",
            "Epoch 00007: val_accuracy improved from 0.65810 to 0.68280, saving model to best_model.h5\n",
            "625/625 [==============================] - 4s 7ms/step - loss: 0.9637 - accuracy: 0.6776 - val_loss: 0.9285 - val_accuracy: 0.6828\n",
            "Epoch 8/100\n",
            "620/625 [============================>.] - ETA: 0s - loss: 0.9265 - accuracy: 0.6883\n",
            "Epoch 00008: val_accuracy improved from 0.68280 to 0.68380, saving model to best_model.h5\n",
            "625/625 [==============================] - 4s 7ms/step - loss: 0.9265 - accuracy: 0.6884 - val_loss: 1.0576 - val_accuracy: 0.6838\n",
            "Epoch 9/100\n",
            "624/625 [============================>.] - ETA: 0s - loss: 0.8949 - accuracy: 0.7003\n",
            "Epoch 00009: val_accuracy did not improve from 0.68380\n",
            "625/625 [==============================] - 4s 7ms/step - loss: 0.8953 - accuracy: 0.7002 - val_loss: 1.5961 - val_accuracy: 0.5491\n",
            "Epoch 10/100\n",
            "620/625 [============================>.] - ETA: 0s - loss: 0.8845 - accuracy: 0.7037\n",
            "Epoch 00010: val_accuracy improved from 0.68380 to 0.75160, saving model to best_model.h5\n",
            "625/625 [==============================] - 4s 7ms/step - loss: 0.8845 - accuracy: 0.7037 - val_loss: 0.7386 - val_accuracy: 0.7516\n",
            "Epoch 11/100\n",
            "622/625 [============================>.] - ETA: 0s - loss: 0.8475 - accuracy: 0.7166\n",
            "Epoch 00011: val_accuracy did not improve from 0.75160\n",
            "625/625 [==============================] - 4s 7ms/step - loss: 0.8473 - accuracy: 0.7167 - val_loss: 0.8157 - val_accuracy: 0.7311\n",
            "Epoch 12/100\n",
            "623/625 [============================>.] - ETA: 0s - loss: 0.8400 - accuracy: 0.7203\n",
            "Epoch 00012: val_accuracy improved from 0.75160 to 0.76700, saving model to best_model.h5\n",
            "625/625 [==============================] - 4s 7ms/step - loss: 0.8394 - accuracy: 0.7206 - val_loss: 0.7162 - val_accuracy: 0.7670\n",
            "Epoch 13/100\n",
            "619/625 [============================>.] - ETA: 0s - loss: 0.8163 - accuracy: 0.7295\n",
            "Epoch 00013: val_accuracy did not improve from 0.76700\n",
            "625/625 [==============================] - 4s 7ms/step - loss: 0.8171 - accuracy: 0.7292 - val_loss: 0.7202 - val_accuracy: 0.7627\n",
            "Epoch 14/100\n",
            "618/625 [============================>.] - ETA: 0s - loss: 0.7966 - accuracy: 0.7373\n",
            "Epoch 00014: val_accuracy did not improve from 0.76700\n",
            "625/625 [==============================] - 4s 7ms/step - loss: 0.7966 - accuracy: 0.7371 - val_loss: 0.7488 - val_accuracy: 0.7664\n",
            "Epoch 15/100\n",
            "621/625 [============================>.] - ETA: 0s - loss: 0.7782 - accuracy: 0.7444\n",
            "Epoch 00015: val_accuracy did not improve from 0.76700\n",
            "625/625 [==============================] - 4s 7ms/step - loss: 0.7791 - accuracy: 0.7441 - val_loss: 0.7602 - val_accuracy: 0.7514\n",
            "Epoch 16/100\n",
            "618/625 [============================>.] - ETA: 0s - loss: 0.7733 - accuracy: 0.7447\n",
            "Epoch 00016: val_accuracy improved from 0.76700 to 0.76870, saving model to best_model.h5\n",
            "625/625 [==============================] - 4s 7ms/step - loss: 0.7739 - accuracy: 0.7447 - val_loss: 0.7161 - val_accuracy: 0.7687\n",
            "Epoch 17/100\n",
            "620/625 [============================>.] - ETA: 0s - loss: 0.7519 - accuracy: 0.7516\n",
            "Epoch 00017: val_accuracy improved from 0.76870 to 0.77080, saving model to best_model.h5\n",
            "625/625 [==============================] - 5s 7ms/step - loss: 0.7516 - accuracy: 0.7516 - val_loss: 0.7113 - val_accuracy: 0.7708\n",
            "Epoch 18/100\n",
            "624/625 [============================>.] - ETA: 0s - loss: 0.7524 - accuracy: 0.7534\n",
            "Epoch 00018: val_accuracy did not improve from 0.77080\n",
            "625/625 [==============================] - 5s 7ms/step - loss: 0.7524 - accuracy: 0.7533 - val_loss: 0.7484 - val_accuracy: 0.7655\n",
            "Epoch 19/100\n",
            "619/625 [============================>.] - ETA: 0s - loss: 0.7391 - accuracy: 0.7593\n",
            "Epoch 00019: val_accuracy improved from 0.77080 to 0.77320, saving model to best_model.h5\n",
            "625/625 [==============================] - 5s 7ms/step - loss: 0.7379 - accuracy: 0.7595 - val_loss: 0.7692 - val_accuracy: 0.7732\n",
            "Epoch 20/100\n",
            "620/625 [============================>.] - ETA: 0s - loss: 0.7176 - accuracy: 0.7639\n",
            "Epoch 00020: val_accuracy improved from 0.77320 to 0.77870, saving model to best_model.h5\n",
            "625/625 [==============================] - 4s 7ms/step - loss: 0.7173 - accuracy: 0.7641 - val_loss: 0.6958 - val_accuracy: 0.7787\n",
            "Epoch 21/100\n",
            "620/625 [============================>.] - ETA: 0s - loss: 0.7148 - accuracy: 0.7691\n",
            "Epoch 00021: val_accuracy did not improve from 0.77870\n",
            "625/625 [==============================] - 4s 7ms/step - loss: 0.7156 - accuracy: 0.7688 - val_loss: 0.6830 - val_accuracy: 0.7746\n",
            "Epoch 22/100\n",
            "623/625 [============================>.] - ETA: 0s - loss: 0.6965 - accuracy: 0.7720\n",
            "Epoch 00022: val_accuracy did not improve from 0.77870\n",
            "625/625 [==============================] - 4s 7ms/step - loss: 0.6964 - accuracy: 0.7721 - val_loss: 0.7570 - val_accuracy: 0.7727\n",
            "Epoch 23/100\n",
            "624/625 [============================>.] - ETA: 0s - loss: 0.6886 - accuracy: 0.7749\n",
            "Epoch 00023: val_accuracy did not improve from 0.77870\n",
            "625/625 [==============================] - 4s 7ms/step - loss: 0.6887 - accuracy: 0.7750 - val_loss: 0.8203 - val_accuracy: 0.7583\n",
            "Epoch 24/100\n",
            "621/625 [============================>.] - ETA: 0s - loss: 0.6738 - accuracy: 0.7823\n",
            "Epoch 00024: val_accuracy did not improve from 0.77870\n",
            "625/625 [==============================] - 4s 7ms/step - loss: 0.6746 - accuracy: 0.7820 - val_loss: 0.6820 - val_accuracy: 0.7668\n",
            "Epoch 25/100\n",
            "624/625 [============================>.] - ETA: 0s - loss: 0.6682 - accuracy: 0.7849\n",
            "Epoch 00025: val_accuracy improved from 0.77870 to 0.79730, saving model to best_model.h5\n",
            "625/625 [==============================] - 4s 7ms/step - loss: 0.6682 - accuracy: 0.7849 - val_loss: 0.6450 - val_accuracy: 0.7973\n",
            "Epoch 26/100\n",
            "620/625 [============================>.] - ETA: 0s - loss: 0.6646 - accuracy: 0.7824\n",
            "Epoch 00026: val_accuracy improved from 0.79730 to 0.80440, saving model to best_model.h5\n",
            "625/625 [==============================] - 4s 7ms/step - loss: 0.6648 - accuracy: 0.7824 - val_loss: 0.6058 - val_accuracy: 0.8044\n",
            "Epoch 27/100\n",
            "624/625 [============================>.] - ETA: 0s - loss: 0.6547 - accuracy: 0.7856\n",
            "Epoch 00027: val_accuracy did not improve from 0.80440\n",
            "625/625 [==============================] - 4s 7ms/step - loss: 0.6545 - accuracy: 0.7857 - val_loss: 0.8087 - val_accuracy: 0.7765\n",
            "Epoch 28/100\n",
            "620/625 [============================>.] - ETA: 0s - loss: 0.6658 - accuracy: 0.7859\n",
            "Epoch 00028: val_accuracy improved from 0.80440 to 0.80690, saving model to best_model.h5\n",
            "625/625 [==============================] - 4s 7ms/step - loss: 0.6649 - accuracy: 0.7861 - val_loss: 0.6375 - val_accuracy: 0.8069\n",
            "Epoch 29/100\n",
            "621/625 [============================>.] - ETA: 0s - loss: 0.6440 - accuracy: 0.7937\n",
            "Epoch 00029: val_accuracy did not improve from 0.80690\n",
            "625/625 [==============================] - 4s 7ms/step - loss: 0.6444 - accuracy: 0.7936 - val_loss: 0.6207 - val_accuracy: 0.8026\n",
            "Epoch 30/100\n",
            "618/625 [============================>.] - ETA: 0s - loss: 0.6361 - accuracy: 0.7951\n",
            "Epoch 00030: val_accuracy did not improve from 0.80690\n",
            "625/625 [==============================] - 4s 7ms/step - loss: 0.6377 - accuracy: 0.7945 - val_loss: 0.9318 - val_accuracy: 0.7219\n",
            "Epoch 31/100\n",
            "619/625 [============================>.] - ETA: 0s - loss: 0.6529 - accuracy: 0.7915\n",
            "Epoch 00031: val_accuracy did not improve from 0.80690\n",
            "625/625 [==============================] - 4s 7ms/step - loss: 0.6533 - accuracy: 0.7914 - val_loss: 0.8101 - val_accuracy: 0.7909\n",
            "Epoch 32/100\n",
            "623/625 [============================>.] - ETA: 0s - loss: 0.5004 - accuracy: 0.8385\n",
            "Epoch 00032: val_accuracy improved from 0.80690 to 0.83450, saving model to best_model.h5\n",
            "625/625 [==============================] - 4s 7ms/step - loss: 0.5001 - accuracy: 0.8386 - val_loss: 0.5380 - val_accuracy: 0.8345\n",
            "Epoch 33/100\n",
            "620/625 [============================>.] - ETA: 0s - loss: 0.4543 - accuracy: 0.8477\n",
            "Epoch 00033: val_accuracy improved from 0.83450 to 0.84110, saving model to best_model.h5\n",
            "625/625 [==============================] - 4s 7ms/step - loss: 0.4536 - accuracy: 0.8480 - val_loss: 0.5209 - val_accuracy: 0.8411\n",
            "Epoch 34/100\n",
            "625/625 [==============================] - ETA: 0s - loss: 0.4373 - accuracy: 0.8532\n",
            "Epoch 00034: val_accuracy improved from 0.84110 to 0.84350, saving model to best_model.h5\n",
            "625/625 [==============================] - 4s 7ms/step - loss: 0.4373 - accuracy: 0.8532 - val_loss: 0.5034 - val_accuracy: 0.8435\n",
            "Epoch 35/100\n",
            "619/625 [============================>.] - ETA: 0s - loss: 0.4304 - accuracy: 0.8568\n",
            "Epoch 00035: val_accuracy improved from 0.84350 to 0.84560, saving model to best_model.h5\n",
            "625/625 [==============================] - 4s 7ms/step - loss: 0.4306 - accuracy: 0.8568 - val_loss: 0.5035 - val_accuracy: 0.8456\n",
            "Epoch 36/100\n",
            "625/625 [==============================] - ETA: 0s - loss: 0.4222 - accuracy: 0.8597\n",
            "Epoch 00036: val_accuracy did not improve from 0.84560\n",
            "625/625 [==============================] - 4s 7ms/step - loss: 0.4222 - accuracy: 0.8597 - val_loss: 0.5061 - val_accuracy: 0.8450\n",
            "Epoch 37/100\n",
            "618/625 [============================>.] - ETA: 0s - loss: 0.4114 - accuracy: 0.8629\n",
            "Epoch 00037: val_accuracy did not improve from 0.84560\n",
            "625/625 [==============================] - 4s 7ms/step - loss: 0.4114 - accuracy: 0.8629 - val_loss: 0.4971 - val_accuracy: 0.8445\n",
            "Epoch 38/100\n",
            "623/625 [============================>.] - ETA: 0s - loss: 0.4094 - accuracy: 0.8638\n",
            "Epoch 00038: val_accuracy did not improve from 0.84560\n",
            "625/625 [==============================] - 4s 7ms/step - loss: 0.4096 - accuracy: 0.8637 - val_loss: 0.4891 - val_accuracy: 0.8450\n",
            "Epoch 39/100\n",
            "617/625 [============================>.] - ETA: 0s - loss: 0.4033 - accuracy: 0.8636\n",
            "Epoch 00039: val_accuracy improved from 0.84560 to 0.84950, saving model to best_model.h5\n",
            "625/625 [==============================] - 4s 7ms/step - loss: 0.4031 - accuracy: 0.8637 - val_loss: 0.4927 - val_accuracy: 0.8495\n",
            "Epoch 40/100\n",
            "622/625 [============================>.] - ETA: 0s - loss: 0.3980 - accuracy: 0.8656\n",
            "Epoch 00040: val_accuracy did not improve from 0.84950\n",
            "625/625 [==============================] - 4s 7ms/step - loss: 0.3975 - accuracy: 0.8658 - val_loss: 0.4919 - val_accuracy: 0.8453\n",
            "Epoch 41/100\n",
            "618/625 [============================>.] - ETA: 0s - loss: 0.3888 - accuracy: 0.8673\n",
            "Epoch 00041: val_accuracy did not improve from 0.84950\n",
            "625/625 [==============================] - 4s 7ms/step - loss: 0.3883 - accuracy: 0.8674 - val_loss: 0.4975 - val_accuracy: 0.8458\n",
            "Epoch 42/100\n",
            "622/625 [============================>.] - ETA: 0s - loss: 0.3831 - accuracy: 0.8705\n",
            "Epoch 00042: val_accuracy did not improve from 0.84950\n",
            "625/625 [==============================] - 4s 7ms/step - loss: 0.3837 - accuracy: 0.8703 - val_loss: 0.4979 - val_accuracy: 0.8468\n",
            "Epoch 43/100\n",
            "622/625 [============================>.] - ETA: 0s - loss: 0.3839 - accuracy: 0.8689\n",
            "Epoch 00043: val_accuracy did not improve from 0.84950\n",
            "625/625 [==============================] - 4s 7ms/step - loss: 0.3834 - accuracy: 0.8691 - val_loss: 0.4935 - val_accuracy: 0.8469\n",
            "Epoch 44/100\n",
            "625/625 [==============================] - ETA: 0s - loss: 0.3697 - accuracy: 0.8753\n",
            "Epoch 00044: val_accuracy improved from 0.84950 to 0.84990, saving model to best_model.h5\n",
            "625/625 [==============================] - 5s 7ms/step - loss: 0.3697 - accuracy: 0.8753 - val_loss: 0.4895 - val_accuracy: 0.8499\n",
            "Epoch 45/100\n",
            "618/625 [============================>.] - ETA: 0s - loss: 0.3641 - accuracy: 0.8757\n",
            "Epoch 00045: val_accuracy improved from 0.84990 to 0.85020, saving model to best_model.h5\n",
            "625/625 [==============================] - 4s 7ms/step - loss: 0.3644 - accuracy: 0.8755 - val_loss: 0.4866 - val_accuracy: 0.8502\n",
            "Epoch 46/100\n",
            "620/625 [============================>.] - ETA: 0s - loss: 0.3625 - accuracy: 0.8773\n",
            "Epoch 00046: val_accuracy did not improve from 0.85020\n",
            "625/625 [==============================] - 4s 7ms/step - loss: 0.3625 - accuracy: 0.8773 - val_loss: 0.4890 - val_accuracy: 0.8495\n",
            "Epoch 47/100\n",
            "624/625 [============================>.] - ETA: 0s - loss: 0.3591 - accuracy: 0.8780\n",
            "Epoch 00047: val_accuracy did not improve from 0.85020\n",
            "625/625 [==============================] - 4s 7ms/step - loss: 0.3591 - accuracy: 0.8780 - val_loss: 0.4878 - val_accuracy: 0.8501\n",
            "Epoch 48/100\n",
            "617/625 [============================>.] - ETA: 0s - loss: 0.3645 - accuracy: 0.8761\n",
            "Epoch 00048: val_accuracy did not improve from 0.85020\n",
            "625/625 [==============================] - 4s 7ms/step - loss: 0.3645 - accuracy: 0.8760 - val_loss: 0.4885 - val_accuracy: 0.8501\n",
            "Epoch 49/100\n",
            "621/625 [============================>.] - ETA: 0s - loss: 0.3591 - accuracy: 0.8775\n",
            "Epoch 00049: val_accuracy did not improve from 0.85020\n",
            "625/625 [==============================] - 4s 7ms/step - loss: 0.3589 - accuracy: 0.8776 - val_loss: 0.4878 - val_accuracy: 0.8491\n",
            "Epoch 50/100\n",
            "618/625 [============================>.] - ETA: 0s - loss: 0.3570 - accuracy: 0.8787\n",
            "Epoch 00050: val_accuracy did not improve from 0.85020\n",
            "625/625 [==============================] - 4s 7ms/step - loss: 0.3579 - accuracy: 0.8784 - val_loss: 0.4853 - val_accuracy: 0.8495\n",
            "Epoch 51/100\n",
            "624/625 [============================>.] - ETA: 0s - loss: 0.3605 - accuracy: 0.8768\n",
            "Epoch 00051: val_accuracy improved from 0.85020 to 0.85030, saving model to best_model.h5\n",
            "625/625 [==============================] - 4s 7ms/step - loss: 0.3607 - accuracy: 0.8767 - val_loss: 0.4857 - val_accuracy: 0.8503\n",
            "Epoch 52/100\n",
            "620/625 [============================>.] - ETA: 0s - loss: 0.3583 - accuracy: 0.8772\n",
            "Epoch 00052: val_accuracy improved from 0.85030 to 0.85060, saving model to best_model.h5\n",
            "625/625 [==============================] - 4s 7ms/step - loss: 0.3581 - accuracy: 0.8771 - val_loss: 0.4850 - val_accuracy: 0.8506\n",
            "Epoch 53/100\n",
            "622/625 [============================>.] - ETA: 0s - loss: 0.3612 - accuracy: 0.8782\n",
            "Epoch 00053: val_accuracy did not improve from 0.85060\n",
            "625/625 [==============================] - 4s 7ms/step - loss: 0.3606 - accuracy: 0.8784 - val_loss: 0.4819 - val_accuracy: 0.8503\n",
            "Epoch 54/100\n",
            "623/625 [============================>.] - ETA: 0s - loss: 0.3545 - accuracy: 0.8781\n",
            "Epoch 00054: val_accuracy improved from 0.85060 to 0.85120, saving model to best_model.h5\n",
            "625/625 [==============================] - 4s 7ms/step - loss: 0.3549 - accuracy: 0.8780 - val_loss: 0.4851 - val_accuracy: 0.8512\n",
            "Epoch 55/100\n",
            "617/625 [============================>.] - ETA: 0s - loss: 0.3544 - accuracy: 0.8785\n",
            "Epoch 00055: val_accuracy did not improve from 0.85120\n",
            "625/625 [==============================] - 4s 7ms/step - loss: 0.3537 - accuracy: 0.8786 - val_loss: 0.4866 - val_accuracy: 0.8510\n",
            "Epoch 56/100\n",
            "623/625 [============================>.] - ETA: 0s - loss: 0.3568 - accuracy: 0.8782\n",
            "Epoch 00056: val_accuracy did not improve from 0.85120\n",
            "625/625 [==============================] - 4s 7ms/step - loss: 0.3568 - accuracy: 0.8782 - val_loss: 0.4877 - val_accuracy: 0.8494\n",
            "Epoch 57/100\n",
            "617/625 [============================>.] - ETA: 0s - loss: 0.3569 - accuracy: 0.8786\n",
            "Epoch 00057: val_accuracy did not improve from 0.85120\n",
            "625/625 [==============================] - 4s 7ms/step - loss: 0.3562 - accuracy: 0.8787 - val_loss: 0.4833 - val_accuracy: 0.8500\n",
            "Epoch 58/100\n",
            "624/625 [============================>.] - ETA: 0s - loss: 0.3558 - accuracy: 0.8792\n",
            "Epoch 00058: val_accuracy improved from 0.85120 to 0.85160, saving model to best_model.h5\n",
            "625/625 [==============================] - 4s 7ms/step - loss: 0.3557 - accuracy: 0.8792 - val_loss: 0.4836 - val_accuracy: 0.8516\n",
            "Epoch 59/100\n",
            "624/625 [============================>.] - ETA: 0s - loss: 0.3530 - accuracy: 0.8793\n",
            "Epoch 00059: val_accuracy did not improve from 0.85160\n",
            "625/625 [==============================] - 4s 7ms/step - loss: 0.3531 - accuracy: 0.8793 - val_loss: 0.4844 - val_accuracy: 0.8503\n",
            "Epoch 60/100\n",
            "625/625 [==============================] - ETA: 0s - loss: 0.3504 - accuracy: 0.8783\n",
            "Epoch 00060: val_accuracy did not improve from 0.85160\n",
            "625/625 [==============================] - 4s 7ms/step - loss: 0.3504 - accuracy: 0.8783 - val_loss: 0.4850 - val_accuracy: 0.8500\n",
            "Epoch 61/100\n",
            "622/625 [============================>.] - ETA: 0s - loss: 0.3530 - accuracy: 0.8797\n",
            "Epoch 00061: val_accuracy did not improve from 0.85160\n",
            "625/625 [==============================] - 4s 7ms/step - loss: 0.3532 - accuracy: 0.8797 - val_loss: 0.4839 - val_accuracy: 0.8510\n",
            "Epoch 62/100\n",
            "621/625 [============================>.] - ETA: 0s - loss: 0.3586 - accuracy: 0.8779\n",
            "Epoch 00062: val_accuracy did not improve from 0.85160\n",
            "625/625 [==============================] - 4s 7ms/step - loss: 0.3584 - accuracy: 0.8781 - val_loss: 0.4837 - val_accuracy: 0.8509\n",
            "Epoch 63/100\n",
            "625/625 [==============================] - ETA: 0s - loss: 0.3554 - accuracy: 0.8791\n",
            "Epoch 00063: val_accuracy did not improve from 0.85160\n",
            "625/625 [==============================] - 4s 7ms/step - loss: 0.3554 - accuracy: 0.8791 - val_loss: 0.4827 - val_accuracy: 0.8513\n",
            "Epoch 64/100\n",
            "618/625 [============================>.] - ETA: 0s - loss: 0.3510 - accuracy: 0.8797\n",
            "Epoch 00064: val_accuracy did not improve from 0.85160\n",
            "625/625 [==============================] - 4s 7ms/step - loss: 0.3512 - accuracy: 0.8796 - val_loss: 0.4830 - val_accuracy: 0.8510\n",
            "Epoch 65/100\n",
            "618/625 [============================>.] - ETA: 0s - loss: 0.3497 - accuracy: 0.8800\n",
            "Epoch 00065: val_accuracy did not improve from 0.85160\n",
            "625/625 [==============================] - 4s 7ms/step - loss: 0.3505 - accuracy: 0.8798 - val_loss: 0.4849 - val_accuracy: 0.8511\n",
            "Epoch 66/100\n",
            "622/625 [============================>.] - ETA: 0s - loss: 0.3547 - accuracy: 0.8796\n",
            "Epoch 00066: val_accuracy did not improve from 0.85160\n",
            "625/625 [==============================] - 4s 7ms/step - loss: 0.3546 - accuracy: 0.8797 - val_loss: 0.4840 - val_accuracy: 0.8509\n",
            "Epoch 67/100\n",
            "624/625 [============================>.] - ETA: 0s - loss: 0.3554 - accuracy: 0.8809\n",
            "Epoch 00067: val_accuracy did not improve from 0.85160\n",
            "625/625 [==============================] - 4s 7ms/step - loss: 0.3554 - accuracy: 0.8809 - val_loss: 0.4835 - val_accuracy: 0.8505\n",
            "Epoch 68/100\n",
            "624/625 [============================>.] - ETA: 0s - loss: 0.3502 - accuracy: 0.8795\n",
            "Epoch 00068: val_accuracy did not improve from 0.85160\n",
            "625/625 [==============================] - 4s 7ms/step - loss: 0.3500 - accuracy: 0.8795 - val_loss: 0.4840 - val_accuracy: 0.8506\n",
            "Epoch 00068: early stopping\n"
          ],
          "name": "stdout"
        }
      ]
    },
    {
      "cell_type": "markdown",
      "metadata": {
        "id": "JZ6r5Hy1z-IU"
      },
      "source": [
        "Plot Training loss"
      ]
    },
    {
      "cell_type": "code",
      "metadata": {
        "colab": {
          "base_uri": "https://localhost:8080/",
          "height": 279
        },
        "id": "Rek0aDKn0EDx",
        "outputId": "f163b0b6-bf2b-4da3-a2a7-9cd3573f99e3"
      },
      "source": [
        "\n",
        "\n",
        "history_dict = history.history\n",
        "loss_values = history_dict['loss']\n",
        "\n",
        "epochs = range(1, len(loss_values) + 1)\n",
        "plt.plot(epochs, loss_values, label='train loss for the NN')\n",
        "\n",
        "plt.xlabel('Epochs')\n",
        "plt.ylabel('Loss')\n",
        "plt.legend()\n",
        "plt.show()"
      ],
      "execution_count": 28,
      "outputs": [
        {
          "output_type": "display_data",
          "data": {
            "image/png": "[encoded data removed]",
            "text/plain": [
              "<Figure size 432x288 with 1 Axes>"
            ]
          },
          "metadata": {
            "tags": [],
            "needs_background": "light"
          }
        }
      ]
    },
    {
      "cell_type": "markdown",
      "metadata": {
        "id": "cSwYfKpL0Bu0"
      },
      "source": [
        "Plot validation loss"
      ]
    },
    {
      "cell_type": "code",
      "metadata": {
        "colab": {
          "base_uri": "https://localhost:8080/",
          "height": 279
        },
        "id": "riRWo7Ib0DeU",
        "outputId": "2915cb68-cb7b-418c-9357-f7e0f25540db"
      },
      "source": [
        "\n",
        "loss_values = history_dict['val_loss']\n",
        "\n",
        "epochs = range(1, len(loss_values) + 1)\n",
        "plt.plot(epochs, loss_values, label='validation loss for the NN')\n",
        "\n",
        "plt.xlabel('Epochs')\n",
        "plt.ylabel('Loss')\n",
        "plt.legend()\n",
        "plt.show()"
      ],
      "execution_count": 29,
      "outputs": [
        {
          "output_type": "display_data",
          "data": {
            "image/png": "[encoded data removed]",
            "text/plain": [
              "<Figure size 432x288 with 1 Axes>"
            ]
          },
          "metadata": {
            "tags": [],
            "needs_background": "light"
          }
        }
      ]
    },
    {
      "cell_type": "markdown",
      "metadata": {
        "id": "i7vFOeMFBlfw"
      },
      "source": [
        "3- Evaluate on train and test set "
      ]
    },
    {
      "cell_type": "code",
      "metadata": {
        "colab": {
          "base_uri": "https://localhost:8080/"
        },
        "id": "H7UFPIN1CCTW",
        "outputId": "a0c63ff1-c7d7-40e6-c994-5c6b31fb0702"
      },
      "source": [
        "print(\"Base accuracy on regular train images:\", model.evaluate(x=x_train, y=y_train, verbose=0)[1])"
      ],
      "execution_count": 30,
      "outputs": [
        {
          "output_type": "stream",
          "text": [
            "Base accuracy on regular train images: 0.9208800196647644\n"
          ],
          "name": "stdout"
        }
      ]
    },
    {
      "cell_type": "code",
      "metadata": {
        "colab": {
          "base_uri": "https://localhost:8080/"
        },
        "id": "bBCLf1QjCYaF",
        "outputId": "49da112a-9ba7-46e8-ba76-daf31bb54450"
      },
      "source": [
        "print(\"Base accuracy on regular test images:\", model.evaluate(x=x_test, y=y_test, verbose=0)[1])"
      ],
      "execution_count": 31,
      "outputs": [
        {
          "output_type": "stream",
          "text": [
            "Base accuracy on regular test images: 0.8497999906539917\n"
          ],
          "name": "stdout"
        }
      ]
    },
    {
      "cell_type": "markdown",
      "metadata": {
        "id": "mcpA4nGI3uix"
      },
      "source": [
        "*4 - Generate FGSM ATTACK"
      ]
    },
    {
      "cell_type": "markdown",
      "metadata": {
        "id": "oPfftJMvfYYg"
      },
      "source": [
        "Example on one image and different values of epsilon, we plot the predictions as well as the confidence of the predictions\n",
        "\n"
      ]
    },
    {
      "cell_type": "code",
      "metadata": {
        "id": "CUvwNnvOpdx6"
      },
      "source": [
        "image = x_train[1,:]\n",
        "image_label = y_train[1,:].reshape((1,-1))"
      ],
      "execution_count": 32,
      "outputs": []
    },
    {
      "cell_type": "code",
      "metadata": {
        "id": "YFYi161weUI3"
      },
      "source": [
        "perturbations = adversarial_pattern(image.reshape((-1,32,32,3)), image_label).numpy()\n"
      ],
      "execution_count": 33,
      "outputs": []
    },
    {
      "cell_type": "code",
      "metadata": {
        "id": "KUKg3ldwei7r",
        "colab": {
          "base_uri": "https://localhost:8080/",
          "height": 319
        },
        "outputId": "a24b0629-b62a-40c3-d753-01ff126eb236"
      },
      "source": [
        "fig = plt.figure(figsize=(25,5))\n",
        "epsilons = [0, 0.01, 0.1, 0.15]\n",
        "descriptions = [('Epsilon = {:0.3f}'.format(eps)+' FGSM ATTACK' if eps else 'Input : Natural image')\n",
        "                for eps in epsilons]\n",
        "\n",
        "for i in range(len(epsilons)) : \n",
        "  adversarial = image + perturbations * epsilons[i]\n",
        "  adversarial = tf.clip_by_value(adversarial, 0, 1).numpy()\n",
        "  label = classes[model.predict(adversarial.reshape(-1,32,32,3)).argmax()]\n",
        "  confidence = model.predict(adversarial.reshape(-1,32,32,3)).max()\n",
        "  subplot = fig.add_subplot(1,5,i+1)\n",
        "  plt.imshow(adversarial.reshape(32,32,3))\n",
        "  subplot.title.set_text(descriptions[i]+'\\n {} : {:.2f}% Confidence'.format(label, confidence*100))"
      ],
      "execution_count": 34,
      "outputs": [
        {
          "output_type": "display_data",
          "data": {
            "image/png": "[encoded data removed]",
            "text/plain": [
              "<Figure size 1800x360 with 4 Axes>"
            ]
          },
          "metadata": {
            "tags": [],
            "needs_background": "light"
          }
        }
      ]
    },
    {
      "cell_type": "markdown",
      "metadata": {
        "id": "LG471FHEjlD7"
      },
      "source": [
        "Compute the accuracy of the model on some adversarial examples only :"
      ]
    },
    {
      "cell_type": "code",
      "metadata": {
        "id": "9iqM2FG5hnTG"
      },
      "source": [
        "batch_size = 10000\n",
        "eps = 0.1\n",
        "x_adversarial_test, y_adversarial_test = generate_adversarials_test_FGSM(batch_size, eps)\n",
        "\n"
      ],
      "execution_count": 61,
      "outputs": []
    },
    {
      "cell_type": "code",
      "metadata": {
        "colab": {
          "base_uri": "https://localhost:8080/"
        },
        "id": "DkxsYON0l_Ov",
        "outputId": "3c2ce8f0-ee2b-4c1a-e62d-e81ed2faecc5"
      },
      "source": [
        "print(\"Accuracy on adversarial images for epsilon = 0.1:\", model.evaluate(x=np.array(x_adversarial_test).reshape(-1,32,32,3), y=np.array(y_adversarial_test), verbose=0)[1])"
      ],
      "execution_count": 62,
      "outputs": [
        {
          "output_type": "stream",
          "text": [
            "Accuracy on adversarial images for epsilon = 0.1: 0.09279999881982803\n"
          ],
          "name": "stdout"
        }
      ]
    },
    {
      "cell_type": "markdown",
      "metadata": {
        "id": "UtBCftZBUlW3"
      },
      "source": [
        "Plot the accuracy for different epsilons : "
      ]
    },
    {
      "cell_type": "code",
      "metadata": {
        "id": "O3a5GwF7j1lQ",
        "colab": {
          "base_uri": "https://localhost:8080/",
          "height": 281
        },
        "outputId": "ebbb2cbd-c40e-40eb-b4a7-d5cd3a62d549"
      },
      "source": [
        "epsilons2 = np.arange(0,0.5,0.03)\n",
        "batch_size = 10000\n",
        "accuracies = []\n",
        "for eps in epsilons2 :\n",
        "  x_adversarial_test, y_adversarial_test = generate_adversarials_test_FGSM(batch_size, eps)\n",
        "  accuracy =  model.evaluate(x=np.array(x_adversarial_test).reshape(-1,32,32,3), y=np.array(y_adversarial_test), verbose=0)[1]\n",
        "  accuracies.append(accuracy)\n",
        "plt.plot(epsilons2,accuracies)\n",
        "plt.title('Accuracy on adversarial examples (FGSM) with respect to epsilon without adversarial training')\n",
        "plt.show()\n"
      ],
      "execution_count": 37,
      "outputs": [
        {
          "output_type": "display_data",
          "data": {
            "image/png": "[encoded data removed]",
            "text/plain": [
              "<Figure size 432x288 with 1 Axes>"
            ]
          },
          "metadata": {
            "tags": [],
            "needs_background": "light"
          }
        }
      ]
    },
    {
      "cell_type": "markdown",
      "metadata": {
        "id": "amLDxjupW7kE"
      },
      "source": [
        "5- Adversarial training (training on adversarial images )"
      ]
    },
    {
      "cell_type": "markdown",
      "metadata": {
        "id": "Pl0xV15T1-xo"
      },
      "source": [
        "we generate train data : "
      ]
    },
    {
      "cell_type": "code",
      "metadata": {
        "id": "4btuIx6k0uYs"
      },
      "source": [
        "##  a portion of adversarial\n",
        "n_examples = 20000\n",
        "eps = 0.1\n",
        "x_adversarial_train, y_adversarial_train = generate_adversarials_train_FGSM(n_examples, eps)\n",
        "\n",
        "\n"
      ],
      "execution_count": 20,
      "outputs": []
    },
    {
      "cell_type": "code",
      "metadata": {
        "id": "yoTn_qxQ6U09"
      },
      "source": [
        "## portion of  regular examples\n",
        "indexes = np.random.choice(x_train.shape[0],30000)\n",
        "x_regular = x_train[indexes]\n",
        "y_regular = y_train[indexes]"
      ],
      "execution_count": 41,
      "outputs": []
    },
    {
      "cell_type": "code",
      "metadata": {
        "id": "kW78Z8zujNM3"
      },
      "source": [
        "x_train_mixed = np.concatenate([x_regular,x_adversarial_train],axis = 0)"
      ],
      "execution_count": 43,
      "outputs": []
    },
    {
      "cell_type": "code",
      "metadata": {
        "id": "X69QTpgXjbY3"
      },
      "source": [
        "y_train_mixed = np.concatenate([y_regular,y_adversarial_train],axis = 0)"
      ],
      "execution_count": 44,
      "outputs": []
    },
    {
      "cell_type": "code",
      "metadata": {
        "id": "uYdcGY7bjetL"
      },
      "source": [
        "from sklearn.utils import shuffle\n",
        "x_train_mixed,y_train_mixed = shuffle(x_train_mixed,y_train_mixed, random_state = 0)"
      ],
      "execution_count": 54,
      "outputs": []
    },
    {
      "cell_type": "markdown",
      "metadata": {
        "id": "jxafy3nL2L8L"
      },
      "source": [
        "define the second model and train it "
      ]
    },
    {
      "cell_type": "code",
      "metadata": {
        "colab": {
          "base_uri": "https://localhost:8080/"
        },
        "id": "op2ZmPiY2LYT",
        "outputId": "e1faadff-ad31-4685-b5ee-72a894b62e6a"
      },
      "source": [
        "input_shape = (32,32,3)\n",
        "model_adv = build_model_base_CNN(input_shape)\n",
        "\n",
        "rlrop = ReduceLROnPlateau(monitor='val_loss', factor=0.1, patience=5)\n",
        "\n",
        "es = EarlyStopping(monitor='val_loss', mode='min', verbose=1,patience=15)\n",
        "mc = ModelCheckpoint('best_model_adv.h5', monitor='val_accuracy', mode='max', verbose=1, save_best_only=True)\n",
        "\n",
        "history_adv = model_adv.fit(np.array(x_train_mixed).reshape(-1,32,32,3), np.array(y_train_mixed), epochs=100, batch_size=64,verbose=1,validation_split = 0.2,callbacks=[es,mc,rlrop])\n"
      ],
      "execution_count": 55,
      "outputs": [
        {
          "output_type": "stream",
          "text": [
            "Epoch 1/100\n",
            "496/500 [============================>.] - ETA: 0s - loss: 2.2309 - accuracy: 0.1942\n",
            "Epoch 00001: val_accuracy improved from -inf to 0.24737, saving model to best_model_adv.h5\n",
            "500/500 [==============================] - 4s 7ms/step - loss: 2.2282 - accuracy: 0.1949 - val_loss: 1.8634 - val_accuracy: 0.2474\n",
            "Epoch 2/100\n",
            "493/500 [============================>.] - ETA: 0s - loss: 1.8519 - accuracy: 0.2896\n",
            "Epoch 00002: val_accuracy improved from 0.24737 to 0.36575, saving model to best_model_adv.h5\n",
            "500/500 [==============================] - 4s 7ms/step - loss: 1.8499 - accuracy: 0.2901 - val_loss: 1.7444 - val_accuracy: 0.3658\n",
            "Epoch 3/100\n",
            "497/500 [============================>.] - ETA: 0s - loss: 1.7135 - accuracy: 0.3527\n",
            "Epoch 00003: val_accuracy improved from 0.36575 to 0.37475, saving model to best_model_adv.h5\n",
            "500/500 [==============================] - 4s 7ms/step - loss: 1.7136 - accuracy: 0.3530 - val_loss: 1.7066 - val_accuracy: 0.3747\n",
            "Epoch 4/100\n",
            "497/500 [============================>.] - ETA: 0s - loss: 1.5913 - accuracy: 0.4147\n",
            "Epoch 00004: val_accuracy improved from 0.37475 to 0.47425, saving model to best_model_adv.h5\n",
            "500/500 [==============================] - 4s 7ms/step - loss: 1.5912 - accuracy: 0.4148 - val_loss: 1.4923 - val_accuracy: 0.4742\n",
            "Epoch 5/100\n",
            "498/500 [============================>.] - ETA: 0s - loss: 1.4855 - accuracy: 0.4561\n",
            "Epoch 00005: val_accuracy improved from 0.47425 to 0.51213, saving model to best_model_adv.h5\n",
            "500/500 [==============================] - 4s 7ms/step - loss: 1.4861 - accuracy: 0.4559 - val_loss: 1.3654 - val_accuracy: 0.5121\n",
            "Epoch 6/100\n",
            "496/500 [============================>.] - ETA: 0s - loss: 1.4342 - accuracy: 0.4799\n",
            "Epoch 00006: val_accuracy did not improve from 0.51213\n",
            "500/500 [==============================] - 3s 7ms/step - loss: 1.4349 - accuracy: 0.4796 - val_loss: 1.4388 - val_accuracy: 0.4710\n",
            "Epoch 7/100\n",
            "494/500 [============================>.] - ETA: 0s - loss: 1.3849 - accuracy: 0.5009\n",
            "Epoch 00007: val_accuracy did not improve from 0.51213\n",
            "500/500 [==============================] - 3s 7ms/step - loss: 1.3858 - accuracy: 0.5008 - val_loss: 1.4092 - val_accuracy: 0.4925\n",
            "Epoch 8/100\n",
            "496/500 [============================>.] - ETA: 0s - loss: 1.3306 - accuracy: 0.5215\n",
            "Epoch 00008: val_accuracy improved from 0.51213 to 0.54225, saving model to best_model_adv.h5\n",
            "500/500 [==============================] - 4s 7ms/step - loss: 1.3302 - accuracy: 0.5214 - val_loss: 1.3526 - val_accuracy: 0.5422\n",
            "Epoch 9/100\n",
            "493/500 [============================>.] - ETA: 0s - loss: 1.2882 - accuracy: 0.5378\n",
            "Epoch 00009: val_accuracy improved from 0.54225 to 0.54663, saving model to best_model_adv.h5\n",
            "500/500 [==============================] - 4s 7ms/step - loss: 1.2889 - accuracy: 0.5376 - val_loss: 1.2561 - val_accuracy: 0.5466\n",
            "Epoch 10/100\n",
            "499/500 [============================>.] - ETA: 0s - loss: 1.2424 - accuracy: 0.5587\n",
            "Epoch 00010: val_accuracy improved from 0.54663 to 0.56287, saving model to best_model_adv.h5\n",
            "500/500 [==============================] - 4s 7ms/step - loss: 1.2423 - accuracy: 0.5588 - val_loss: 1.2032 - val_accuracy: 0.5629\n",
            "Epoch 11/100\n",
            "500/500 [==============================] - ETA: 0s - loss: 1.2116 - accuracy: 0.5709\n",
            "Epoch 00011: val_accuracy did not improve from 0.56287\n",
            "500/500 [==============================] - 3s 7ms/step - loss: 1.2116 - accuracy: 0.5709 - val_loss: 1.2222 - val_accuracy: 0.5514\n",
            "Epoch 12/100\n",
            "495/500 [============================>.] - ETA: 0s - loss: 1.1804 - accuracy: 0.5818\n",
            "Epoch 00012: val_accuracy improved from 0.56287 to 0.59787, saving model to best_model_adv.h5\n",
            "500/500 [==============================] - 4s 7ms/step - loss: 1.1811 - accuracy: 0.5818 - val_loss: 1.1335 - val_accuracy: 0.5979\n",
            "Epoch 13/100\n",
            "494/500 [============================>.] - ETA: 0s - loss: 1.1570 - accuracy: 0.5906\n",
            "Epoch 00013: val_accuracy improved from 0.59787 to 0.61100, saving model to best_model_adv.h5\n",
            "500/500 [==============================] - 4s 7ms/step - loss: 1.1560 - accuracy: 0.5907 - val_loss: 1.0698 - val_accuracy: 0.6110\n",
            "Epoch 14/100\n",
            "500/500 [==============================] - ETA: 0s - loss: 1.1230 - accuracy: 0.6075\n",
            "Epoch 00014: val_accuracy improved from 0.61100 to 0.66188, saving model to best_model_adv.h5\n",
            "500/500 [==============================] - 4s 7ms/step - loss: 1.1230 - accuracy: 0.6075 - val_loss: 0.9521 - val_accuracy: 0.6619\n",
            "Epoch 15/100\n",
            "494/500 [============================>.] - ETA: 0s - loss: 1.0823 - accuracy: 0.6192\n",
            "Epoch 00015: val_accuracy did not improve from 0.66188\n",
            "500/500 [==============================] - 3s 7ms/step - loss: 1.0823 - accuracy: 0.6189 - val_loss: 1.0129 - val_accuracy: 0.6431\n",
            "Epoch 16/100\n",
            "500/500 [==============================] - ETA: 0s - loss: 1.0757 - accuracy: 0.6270\n",
            "Epoch 00016: val_accuracy improved from 0.66188 to 0.67687, saving model to best_model_adv.h5\n",
            "500/500 [==============================] - 4s 7ms/step - loss: 1.0757 - accuracy: 0.6270 - val_loss: 0.9398 - val_accuracy: 0.6769\n",
            "Epoch 17/100\n",
            "493/500 [============================>.] - ETA: 0s - loss: 1.0535 - accuracy: 0.6343\n",
            "Epoch 00017: val_accuracy did not improve from 0.67687\n",
            "500/500 [==============================] - 3s 7ms/step - loss: 1.0558 - accuracy: 0.6333 - val_loss: 1.0572 - val_accuracy: 0.6325\n",
            "Epoch 18/100\n",
            "492/500 [============================>.] - ETA: 0s - loss: 1.0301 - accuracy: 0.6393\n",
            "Epoch 00018: val_accuracy did not improve from 0.67687\n",
            "500/500 [==============================] - 3s 7ms/step - loss: 1.0305 - accuracy: 0.6389 - val_loss: 0.9934 - val_accuracy: 0.6599\n",
            "Epoch 19/100\n",
            "497/500 [============================>.] - ETA: 0s - loss: 1.0203 - accuracy: 0.6468\n",
            "Epoch 00019: val_accuracy did not improve from 0.67687\n",
            "500/500 [==============================] - 3s 7ms/step - loss: 1.0197 - accuracy: 0.6470 - val_loss: 0.9942 - val_accuracy: 0.6499\n",
            "Epoch 20/100\n",
            "497/500 [============================>.] - ETA: 0s - loss: 1.0013 - accuracy: 0.6524\n",
            "Epoch 00020: val_accuracy improved from 0.67687 to 0.68950, saving model to best_model_adv.h5\n",
            "500/500 [==============================] - 4s 7ms/step - loss: 1.0014 - accuracy: 0.6524 - val_loss: 0.9127 - val_accuracy: 0.6895\n",
            "Epoch 21/100\n",
            "496/500 [============================>.] - ETA: 0s - loss: 0.9753 - accuracy: 0.6606\n",
            "Epoch 00021: val_accuracy did not improve from 0.68950\n",
            "500/500 [==============================] - 3s 7ms/step - loss: 0.9753 - accuracy: 0.6606 - val_loss: 0.9266 - val_accuracy: 0.6884\n",
            "Epoch 22/100\n",
            "493/500 [============================>.] - ETA: 0s - loss: 0.9577 - accuracy: 0.6726\n",
            "Epoch 00022: val_accuracy improved from 0.68950 to 0.71175, saving model to best_model_adv.h5\n",
            "500/500 [==============================] - 4s 7ms/step - loss: 0.9565 - accuracy: 0.6727 - val_loss: 0.8453 - val_accuracy: 0.7117\n",
            "Epoch 23/100\n",
            "500/500 [==============================] - ETA: 0s - loss: 0.9453 - accuracy: 0.6766\n",
            "Epoch 00023: val_accuracy did not improve from 0.71175\n",
            "500/500 [==============================] - 3s 7ms/step - loss: 0.9453 - accuracy: 0.6766 - val_loss: 1.0569 - val_accuracy: 0.6492\n",
            "Epoch 24/100\n",
            "495/500 [============================>.] - ETA: 0s - loss: 0.9325 - accuracy: 0.6777\n",
            "Epoch 00024: val_accuracy did not improve from 0.71175\n",
            "500/500 [==============================] - 3s 7ms/step - loss: 0.9331 - accuracy: 0.6773 - val_loss: 1.2300 - val_accuracy: 0.5924\n",
            "Epoch 25/100\n",
            "499/500 [============================>.] - ETA: 0s - loss: 0.9266 - accuracy: 0.6865\n",
            "Epoch 00025: val_accuracy did not improve from 0.71175\n",
            "500/500 [==============================] - 3s 7ms/step - loss: 0.9264 - accuracy: 0.6866 - val_loss: 0.9173 - val_accuracy: 0.6886\n",
            "Epoch 26/100\n",
            "500/500 [==============================] - ETA: 0s - loss: 0.8945 - accuracy: 0.6920\n",
            "Epoch 00026: val_accuracy did not improve from 0.71175\n",
            "500/500 [==============================] - 3s 7ms/step - loss: 0.8945 - accuracy: 0.6920 - val_loss: 0.8990 - val_accuracy: 0.6871\n",
            "Epoch 27/100\n",
            "495/500 [============================>.] - ETA: 0s - loss: 0.8825 - accuracy: 0.7003\n",
            "Epoch 00027: val_accuracy improved from 0.71175 to 0.72125, saving model to best_model_adv.h5\n",
            "500/500 [==============================] - 4s 7ms/step - loss: 0.8819 - accuracy: 0.7005 - val_loss: 0.8877 - val_accuracy: 0.7212\n",
            "Epoch 28/100\n",
            "498/500 [============================>.] - ETA: 0s - loss: 0.7366 - accuracy: 0.7448\n",
            "Epoch 00028: val_accuracy improved from 0.72125 to 0.77487, saving model to best_model_adv.h5\n",
            "500/500 [==============================] - 4s 7ms/step - loss: 0.7373 - accuracy: 0.7448 - val_loss: 0.6731 - val_accuracy: 0.7749\n",
            "Epoch 29/100\n",
            "498/500 [============================>.] - ETA: 0s - loss: 0.6936 - accuracy: 0.7587\n",
            "Epoch 00029: val_accuracy improved from 0.77487 to 0.78150, saving model to best_model_adv.h5\n",
            "500/500 [==============================] - 4s 7ms/step - loss: 0.6939 - accuracy: 0.7586 - val_loss: 0.6522 - val_accuracy: 0.7815\n",
            "Epoch 30/100\n",
            "493/500 [============================>.] - ETA: 0s - loss: 0.6723 - accuracy: 0.7658\n",
            "Epoch 00030: val_accuracy improved from 0.78150 to 0.78550, saving model to best_model_adv.h5\n",
            "500/500 [==============================] - 4s 7ms/step - loss: 0.6724 - accuracy: 0.7656 - val_loss: 0.6444 - val_accuracy: 0.7855\n",
            "Epoch 31/100\n",
            "498/500 [============================>.] - ETA: 0s - loss: 0.6589 - accuracy: 0.7704\n",
            "Epoch 00031: val_accuracy improved from 0.78550 to 0.78825, saving model to best_model_adv.h5\n",
            "500/500 [==============================] - 4s 7ms/step - loss: 0.6593 - accuracy: 0.7702 - val_loss: 0.6309 - val_accuracy: 0.7883\n",
            "Epoch 32/100\n",
            "493/500 [============================>.] - ETA: 0s - loss: 0.6535 - accuracy: 0.7719\n",
            "Epoch 00032: val_accuracy improved from 0.78825 to 0.79013, saving model to best_model_adv.h5\n",
            "500/500 [==============================] - 4s 7ms/step - loss: 0.6538 - accuracy: 0.7715 - val_loss: 0.6329 - val_accuracy: 0.7901\n",
            "Epoch 33/100\n",
            "499/500 [============================>.] - ETA: 0s - loss: 0.6384 - accuracy: 0.7773\n",
            "Epoch 00033: val_accuracy improved from 0.79013 to 0.79200, saving model to best_model_adv.h5\n",
            "500/500 [==============================] - 4s 7ms/step - loss: 0.6386 - accuracy: 0.7772 - val_loss: 0.6391 - val_accuracy: 0.7920\n",
            "Epoch 34/100\n",
            "495/500 [============================>.] - ETA: 0s - loss: 0.6336 - accuracy: 0.7806\n",
            "Epoch 00034: val_accuracy did not improve from 0.79200\n",
            "500/500 [==============================] - 3s 7ms/step - loss: 0.6337 - accuracy: 0.7806 - val_loss: 0.6281 - val_accuracy: 0.7920\n",
            "Epoch 35/100\n",
            "496/500 [============================>.] - ETA: 0s - loss: 0.6305 - accuracy: 0.7807\n",
            "Epoch 00035: val_accuracy improved from 0.79200 to 0.79887, saving model to best_model_adv.h5\n",
            "500/500 [==============================] - 4s 7ms/step - loss: 0.6311 - accuracy: 0.7805 - val_loss: 0.6354 - val_accuracy: 0.7989\n",
            "Epoch 36/100\n",
            "494/500 [============================>.] - ETA: 0s - loss: 0.6117 - accuracy: 0.7872\n",
            "Epoch 00036: val_accuracy did not improve from 0.79887\n",
            "500/500 [==============================] - 3s 7ms/step - loss: 0.6120 - accuracy: 0.7872 - val_loss: 0.6281 - val_accuracy: 0.7979\n",
            "Epoch 37/100\n",
            "500/500 [==============================] - ETA: 0s - loss: 0.6061 - accuracy: 0.7890\n",
            "Epoch 00037: val_accuracy did not improve from 0.79887\n",
            "500/500 [==============================] - 3s 7ms/step - loss: 0.6061 - accuracy: 0.7890 - val_loss: 0.6147 - val_accuracy: 0.7980\n",
            "Epoch 38/100\n",
            "498/500 [============================>.] - ETA: 0s - loss: 0.5961 - accuracy: 0.7914\n",
            "Epoch 00038: val_accuracy improved from 0.79887 to 0.80100, saving model to best_model_adv.h5\n",
            "500/500 [==============================] - 4s 7ms/step - loss: 0.5963 - accuracy: 0.7913 - val_loss: 0.6153 - val_accuracy: 0.8010\n",
            "Epoch 39/100\n",
            "493/500 [============================>.] - ETA: 0s - loss: 0.5832 - accuracy: 0.7950\n",
            "Epoch 00039: val_accuracy improved from 0.80100 to 0.80537, saving model to best_model_adv.h5\n",
            "500/500 [==============================] - 4s 7ms/step - loss: 0.5843 - accuracy: 0.7947 - val_loss: 0.6117 - val_accuracy: 0.8054\n",
            "Epoch 40/100\n",
            "495/500 [============================>.] - ETA: 0s - loss: 0.5810 - accuracy: 0.7981\n",
            "Epoch 00040: val_accuracy improved from 0.80537 to 0.80550, saving model to best_model_adv.h5\n",
            "500/500 [==============================] - 4s 7ms/step - loss: 0.5807 - accuracy: 0.7980 - val_loss: 0.6022 - val_accuracy: 0.8055\n",
            "Epoch 41/100\n",
            "500/500 [==============================] - ETA: 0s - loss: 0.5776 - accuracy: 0.7972\n",
            "Epoch 00041: val_accuracy did not improve from 0.80550\n",
            "500/500 [==============================] - 3s 7ms/step - loss: 0.5776 - accuracy: 0.7972 - val_loss: 0.6050 - val_accuracy: 0.8031\n",
            "Epoch 42/100\n",
            "496/500 [============================>.] - ETA: 0s - loss: 0.5724 - accuracy: 0.8003\n",
            "Epoch 00042: val_accuracy improved from 0.80550 to 0.80750, saving model to best_model_adv.h5\n",
            "500/500 [==============================] - 4s 7ms/step - loss: 0.5723 - accuracy: 0.8002 - val_loss: 0.5944 - val_accuracy: 0.8075\n",
            "Epoch 43/100\n",
            "499/500 [============================>.] - ETA: 0s - loss: 0.5638 - accuracy: 0.8031\n",
            "Epoch 00043: val_accuracy did not improve from 0.80750\n",
            "500/500 [==============================] - 3s 7ms/step - loss: 0.5638 - accuracy: 0.8031 - val_loss: 0.6187 - val_accuracy: 0.8021\n",
            "Epoch 44/100\n",
            "496/500 [============================>.] - ETA: 0s - loss: 0.5623 - accuracy: 0.8054\n",
            "Epoch 00044: val_accuracy improved from 0.80750 to 0.81037, saving model to best_model_adv.h5\n",
            "500/500 [==============================] - 4s 7ms/step - loss: 0.5630 - accuracy: 0.8050 - val_loss: 0.5910 - val_accuracy: 0.8104\n",
            "Epoch 45/100\n",
            "492/500 [============================>.] - ETA: 0s - loss: 0.5493 - accuracy: 0.8110\n",
            "Epoch 00045: val_accuracy improved from 0.81037 to 0.81125, saving model to best_model_adv.h5\n",
            "500/500 [==============================] - 4s 7ms/step - loss: 0.5505 - accuracy: 0.8105 - val_loss: 0.5972 - val_accuracy: 0.8112\n",
            "Epoch 46/100\n",
            "498/500 [============================>.] - ETA: 0s - loss: 0.5455 - accuracy: 0.8078\n",
            "Epoch 00046: val_accuracy improved from 0.81125 to 0.81200, saving model to best_model_adv.h5\n",
            "500/500 [==============================] - 4s 7ms/step - loss: 0.5456 - accuracy: 0.8077 - val_loss: 0.5883 - val_accuracy: 0.8120\n",
            "Epoch 47/100\n",
            "497/500 [============================>.] - ETA: 0s - loss: 0.5394 - accuracy: 0.8097\n",
            "Epoch 00047: val_accuracy improved from 0.81200 to 0.81325, saving model to best_model_adv.h5\n",
            "500/500 [==============================] - 4s 7ms/step - loss: 0.5392 - accuracy: 0.8099 - val_loss: 0.5838 - val_accuracy: 0.8133\n",
            "Epoch 48/100\n",
            "493/500 [============================>.] - ETA: 0s - loss: 0.5409 - accuracy: 0.8120\n",
            "Epoch 00048: val_accuracy improved from 0.81325 to 0.81662, saving model to best_model_adv.h5\n",
            "500/500 [==============================] - 4s 7ms/step - loss: 0.5403 - accuracy: 0.8124 - val_loss: 0.5815 - val_accuracy: 0.8166\n",
            "Epoch 49/100\n",
            "499/500 [============================>.] - ETA: 0s - loss: 0.5333 - accuracy: 0.8145\n",
            "Epoch 00049: val_accuracy did not improve from 0.81662\n",
            "500/500 [==============================] - 3s 7ms/step - loss: 0.5332 - accuracy: 0.8145 - val_loss: 0.5724 - val_accuracy: 0.8139\n",
            "Epoch 50/100\n",
            "496/500 [============================>.] - ETA: 0s - loss: 0.5340 - accuracy: 0.8148\n",
            "Epoch 00050: val_accuracy did not improve from 0.81662\n",
            "500/500 [==============================] - 3s 7ms/step - loss: 0.5342 - accuracy: 0.8147 - val_loss: 0.5901 - val_accuracy: 0.8136\n",
            "Epoch 51/100\n",
            "497/500 [============================>.] - ETA: 0s - loss: 0.5144 - accuracy: 0.8210\n",
            "Epoch 00051: val_accuracy did not improve from 0.81662\n",
            "500/500 [==============================] - 3s 7ms/step - loss: 0.5148 - accuracy: 0.8209 - val_loss: 0.5840 - val_accuracy: 0.8135\n",
            "Epoch 52/100\n",
            "500/500 [==============================] - ETA: 0s - loss: 0.5148 - accuracy: 0.8219\n",
            "Epoch 00052: val_accuracy did not improve from 0.81662\n",
            "500/500 [==============================] - 3s 7ms/step - loss: 0.5148 - accuracy: 0.8219 - val_loss: 0.5795 - val_accuracy: 0.8163\n",
            "Epoch 53/100\n",
            "496/500 [============================>.] - ETA: 0s - loss: 0.5137 - accuracy: 0.8191\n",
            "Epoch 00053: val_accuracy improved from 0.81662 to 0.81675, saving model to best_model_adv.h5\n",
            "500/500 [==============================] - 4s 7ms/step - loss: 0.5140 - accuracy: 0.8189 - val_loss: 0.5796 - val_accuracy: 0.8167\n",
            "Epoch 54/100\n",
            "499/500 [============================>.] - ETA: 0s - loss: 0.5103 - accuracy: 0.8237\n",
            "Epoch 00054: val_accuracy did not improve from 0.81675\n",
            "500/500 [==============================] - 3s 7ms/step - loss: 0.5100 - accuracy: 0.8239 - val_loss: 0.5825 - val_accuracy: 0.8163\n",
            "Epoch 55/100\n",
            "495/500 [============================>.] - ETA: 0s - loss: 0.5011 - accuracy: 0.8250\n",
            "Epoch 00055: val_accuracy improved from 0.81675 to 0.81912, saving model to best_model_adv.h5\n",
            "500/500 [==============================] - 4s 7ms/step - loss: 0.5009 - accuracy: 0.8252 - val_loss: 0.5722 - val_accuracy: 0.8191\n",
            "Epoch 56/100\n",
            "492/500 [============================>.] - ETA: 0s - loss: 0.4976 - accuracy: 0.8288\n",
            "Epoch 00056: val_accuracy improved from 0.81912 to 0.82000, saving model to best_model_adv.h5\n",
            "500/500 [==============================] - 4s 7ms/step - loss: 0.4967 - accuracy: 0.8292 - val_loss: 0.5686 - val_accuracy: 0.8200\n",
            "Epoch 57/100\n",
            "497/500 [============================>.] - ETA: 0s - loss: 0.4890 - accuracy: 0.8315\n",
            "Epoch 00057: val_accuracy improved from 0.82000 to 0.82112, saving model to best_model_adv.h5\n",
            "500/500 [==============================] - 4s 7ms/step - loss: 0.4886 - accuracy: 0.8318 - val_loss: 0.5696 - val_accuracy: 0.8211\n",
            "Epoch 58/100\n",
            "493/500 [============================>.] - ETA: 0s - loss: 0.4862 - accuracy: 0.8293\n",
            "Epoch 00058: val_accuracy improved from 0.82112 to 0.82125, saving model to best_model_adv.h5\n",
            "500/500 [==============================] - 4s 7ms/step - loss: 0.4865 - accuracy: 0.8293 - val_loss: 0.5615 - val_accuracy: 0.8213\n",
            "Epoch 59/100\n",
            "498/500 [============================>.] - ETA: 0s - loss: 0.4876 - accuracy: 0.8315\n",
            "Epoch 00059: val_accuracy did not improve from 0.82125\n",
            "500/500 [==============================] - 3s 7ms/step - loss: 0.4877 - accuracy: 0.8315 - val_loss: 0.5649 - val_accuracy: 0.8210\n",
            "Epoch 60/100\n",
            "493/500 [============================>.] - ETA: 0s - loss: 0.4847 - accuracy: 0.8296\n",
            "Epoch 00060: val_accuracy improved from 0.82125 to 0.82225, saving model to best_model_adv.h5\n",
            "500/500 [==============================] - 4s 7ms/step - loss: 0.4850 - accuracy: 0.8294 - val_loss: 0.5620 - val_accuracy: 0.8223\n",
            "Epoch 61/100\n",
            "499/500 [============================>.] - ETA: 0s - loss: 0.4811 - accuracy: 0.8323\n",
            "Epoch 00061: val_accuracy improved from 0.82225 to 0.82388, saving model to best_model_adv.h5\n",
            "500/500 [==============================] - 4s 7ms/step - loss: 0.4810 - accuracy: 0.8322 - val_loss: 0.5650 - val_accuracy: 0.8239\n",
            "Epoch 62/100\n",
            "494/500 [============================>.] - ETA: 0s - loss: 0.4912 - accuracy: 0.8305\n",
            "Epoch 00062: val_accuracy did not improve from 0.82388\n",
            "500/500 [==============================] - 3s 7ms/step - loss: 0.4912 - accuracy: 0.8305 - val_loss: 0.5678 - val_accuracy: 0.8209\n",
            "Epoch 63/100\n",
            "494/500 [============================>.] - ETA: 0s - loss: 0.4797 - accuracy: 0.8338\n",
            "Epoch 00063: val_accuracy did not improve from 0.82388\n",
            "500/500 [==============================] - 3s 7ms/step - loss: 0.4797 - accuracy: 0.8339 - val_loss: 0.5634 - val_accuracy: 0.8236\n",
            "Epoch 64/100\n",
            "495/500 [============================>.] - ETA: 0s - loss: 0.4795 - accuracy: 0.8313\n",
            "Epoch 00064: val_accuracy improved from 0.82388 to 0.82425, saving model to best_model_adv.h5\n",
            "500/500 [==============================] - 4s 7ms/step - loss: 0.4791 - accuracy: 0.8317 - val_loss: 0.5622 - val_accuracy: 0.8242\n",
            "Epoch 65/100\n",
            "496/500 [============================>.] - ETA: 0s - loss: 0.4807 - accuracy: 0.8344\n",
            "Epoch 00065: val_accuracy improved from 0.82425 to 0.82475, saving model to best_model_adv.h5\n",
            "500/500 [==============================] - 4s 7ms/step - loss: 0.4809 - accuracy: 0.8344 - val_loss: 0.5633 - val_accuracy: 0.8248\n",
            "Epoch 66/100\n",
            "493/500 [============================>.] - ETA: 0s - loss: 0.4791 - accuracy: 0.8326\n",
            "Epoch 00066: val_accuracy did not improve from 0.82475\n",
            "500/500 [==============================] - 3s 7ms/step - loss: 0.4784 - accuracy: 0.8330 - val_loss: 0.5628 - val_accuracy: 0.8244\n",
            "Epoch 67/100\n",
            "494/500 [============================>.] - ETA: 0s - loss: 0.4812 - accuracy: 0.8304\n",
            "Epoch 00067: val_accuracy did not improve from 0.82475\n",
            "500/500 [==============================] - 3s 7ms/step - loss: 0.4807 - accuracy: 0.8306 - val_loss: 0.5624 - val_accuracy: 0.8242\n",
            "Epoch 68/100\n",
            "496/500 [============================>.] - ETA: 0s - loss: 0.4788 - accuracy: 0.8338\n",
            "Epoch 00068: val_accuracy did not improve from 0.82475\n",
            "500/500 [==============================] - 4s 7ms/step - loss: 0.4790 - accuracy: 0.8337 - val_loss: 0.5631 - val_accuracy: 0.8248\n",
            "Epoch 69/100\n",
            "496/500 [============================>.] - ETA: 0s - loss: 0.4778 - accuracy: 0.8333\n",
            "Epoch 00069: val_accuracy did not improve from 0.82475\n",
            "500/500 [==============================] - 4s 7ms/step - loss: 0.4771 - accuracy: 0.8336 - val_loss: 0.5627 - val_accuracy: 0.8240\n",
            "Epoch 70/100\n",
            "497/500 [============================>.] - ETA: 0s - loss: 0.4790 - accuracy: 0.8323\n",
            "Epoch 00070: val_accuracy did not improve from 0.82475\n",
            "500/500 [==============================] - 4s 7ms/step - loss: 0.4795 - accuracy: 0.8322 - val_loss: 0.5627 - val_accuracy: 0.8242\n",
            "Epoch 71/100\n",
            "500/500 [==============================] - ETA: 0s - loss: 0.4824 - accuracy: 0.8324\n",
            "Epoch 00071: val_accuracy did not improve from 0.82475\n",
            "500/500 [==============================] - 3s 7ms/step - loss: 0.4824 - accuracy: 0.8324 - val_loss: 0.5620 - val_accuracy: 0.8244\n",
            "Epoch 72/100\n",
            "494/500 [============================>.] - ETA: 0s - loss: 0.4817 - accuracy: 0.8344\n",
            "Epoch 00072: val_accuracy did not improve from 0.82475\n",
            "500/500 [==============================] - 3s 7ms/step - loss: 0.4807 - accuracy: 0.8347 - val_loss: 0.5620 - val_accuracy: 0.8244\n",
            "Epoch 73/100\n",
            "499/500 [============================>.] - ETA: 0s - loss: 0.4758 - accuracy: 0.8345\n",
            "Epoch 00073: val_accuracy did not improve from 0.82475\n",
            "500/500 [==============================] - 3s 7ms/step - loss: 0.4760 - accuracy: 0.8345 - val_loss: 0.5619 - val_accuracy: 0.8240\n",
            "Epoch 00073: early stopping\n"
          ],
          "name": "stdout"
        }
      ]
    },
    {
      "cell_type": "code",
      "metadata": {
        "colab": {
          "base_uri": "https://localhost:8080/",
          "height": 279
        },
        "id": "be9ZX8knClBm",
        "outputId": "d5b8fcf4-f473-441b-9093-638ce23f1489"
      },
      "source": [
        "\n",
        "history_dict = history_adv.history\n",
        "loss_values = history_dict['loss']\n",
        "\n",
        "epochs = range(1, len(loss_values) + 1)\n",
        "plt.plot(epochs, loss_values, label='train loss for the NN trained on both adversarial examples and regular examples')\n",
        "\n",
        "plt.xlabel('Epochs')\n",
        "plt.ylabel('Loss')\n",
        "plt.legend()\n",
        "plt.show()"
      ],
      "execution_count": 57,
      "outputs": [
        {
          "output_type": "display_data",
          "data": {
            "image/png": "[encoded data removed]",
            "text/plain": [
              "<Figure size 432x288 with 1 Axes>"
            ]
          },
          "metadata": {
            "tags": [],
            "needs_background": "light"
          }
        }
      ]
    },
    {
      "cell_type": "code",
      "metadata": {
        "colab": {
          "base_uri": "https://localhost:8080/",
          "height": 279
        },
        "id": "kRdJhk9FCuie",
        "outputId": "eb3fa4f3-03e4-43bb-9905-5bd508541972"
      },
      "source": [
        "\n",
        "loss_values = history_dict['val_loss']\n",
        "\n",
        "epochs = range(1, len(loss_values) + 1)\n",
        "plt.plot(epochs, loss_values, label='validation loss for the NN trained on adversarial example and regular examples')\n",
        "\n",
        "plt.xlabel('Epochs')\n",
        "plt.ylabel('Loss')\n",
        "plt.legend()\n",
        "plt.show()"
      ],
      "execution_count": 58,
      "outputs": [
        {
          "output_type": "display_data",
          "data": {
            "image/png": "[encoded data removed]",
            "text/plain": [
              "<Figure size 432x288 with 1 Axes>"
            ]
          },
          "metadata": {
            "tags": [],
            "needs_background": "light"
          }
        }
      ]
    },
    {
      "cell_type": "code",
      "metadata": {
        "colab": {
          "base_uri": "https://localhost:8080/"
        },
        "id": "lZnTODfC4Fnk",
        "outputId": "633247b8-2752-464f-c062-e0fed994efea"
      },
      "source": [
        "\n",
        "print(\"Defended accuracy on regular images:\", model_adv.evaluate(x=x_test, y=y_test, verbose=0)[1])"
      ],
      "execution_count": 59,
      "outputs": [
        {
          "output_type": "stream",
          "text": [
            "Defended accuracy on regular images: 0.7605999708175659\n"
          ],
          "name": "stdout"
        }
      ]
    },
    {
      "cell_type": "code",
      "metadata": {
        "colab": {
          "base_uri": "https://localhost:8080/"
        },
        "id": "y77gQ7Y6CcNW",
        "outputId": "626976f5-8b5e-428f-ffc6-5db7145981c6"
      },
      "source": [
        "print(\"Defended accuracy on adversarial images:\", model_adv.evaluate(x=np.array(x_adversarial_test).reshape(-1,32,32,3), y=np.array(y_adversarial_test), verbose=0)[1])"
      ],
      "execution_count": 63,
      "outputs": [
        {
          "output_type": "stream",
          "text": [
            "Defended accuracy on adversarial images: 0.5677000284194946\n"
          ],
          "name": "stdout"
        }
      ]
    },
    {
      "cell_type": "markdown",
      "metadata": {
        "id": "3eZ2KmQGmllJ"
      },
      "source": [
        "Results of adversarial training : \n",
        "* 76% accuracy on regular test images which is less that 85% obtained by normal neural network. <br>\n",
        "* 56,7% accuracy on adversarial test images which is better than 9% obtained by normal neural network. "
      ]
    },
    {
      "cell_type": "code",
      "metadata": {
        "id": "xcn2N9qADZjW"
      },
      "source": [
        ""
      ],
      "execution_count": null,
      "outputs": []
    }
  ]
}