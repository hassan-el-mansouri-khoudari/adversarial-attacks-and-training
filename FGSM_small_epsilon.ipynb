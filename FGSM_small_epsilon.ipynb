{
  "nbformat": 4,
  "nbformat_minor": 0,
  "metadata": {
    "colab": {
      "name": "FGSM_small_epsilon.ipynb",
      "provenance": [],
      "collapsed_sections": [],
      "toc_visible": true,
      "machine_shape": "hm"
    },
    "kernelspec": {
      "name": "python3",
      "display_name": "Python 3"
    },
    "accelerator": "GPU"
  },
  "cells": [
    {
      "cell_type": "markdown",
      "metadata": {
        "id": "bCRGUsR0oj_3"
      },
      "source": [
        "# **<center> Adversarial attacks <center>**\n",
        "\n"
      ]
    },
    {
      "cell_type": "code",
      "metadata": {
        "id": "TAja09SqmRUT"
      },
      "source": [
        "exec(open('cifar_utils.py').read())\n",
        "from keras.callbacks import ReduceLROnPlateau\n",
        "import matplotlib.pyplot as plt\n",
        "from keras.models import load_model\n",
        "import random"
      ],
      "execution_count": null,
      "outputs": []
    },
    {
      "cell_type": "markdown",
      "metadata": {
        "id": "QTwnGf28oCLj"
      },
      "source": [
        "1- Import the cifar dataset"
      ]
    },
    {
      "cell_type": "code",
      "metadata": {
        "id": "JHdSGnFToFUw"
      },
      "source": [
        "x_train, train_labels, x_test, test_labels = load_CIFAR10_data()\n",
        "classes = ['airplane','automobile','bird','cat','deer','dog','frog','horse','ship','truck']"
      ],
      "execution_count": null,
      "outputs": []
    },
    {
      "cell_type": "code",
      "metadata": {
        "colab": {
          "base_uri": "https://localhost:8080/",
          "height": 285
        },
        "id": "vAIGKd4poUwq",
        "outputId": "45758c87-f459-47a8-c052-06d1ee89d8f7"
      },
      "source": [
        "plt.imshow(x_train[0])"
      ],
      "execution_count": null,
      "outputs": [
        {
          "output_type": "execute_result",
          "data": {
            "text/plain": [
              "<matplotlib.image.AxesImage at 0x7f11223422e8>"
            ]
          },
          "metadata": {
            "tags": []
          },
          "execution_count": 4
        },
        {
          "output_type": "display_data",
          "data": {
            "image/png": "[encoded data removed]",
            "text/plain": [
              "<Figure size 432x288 with 1 Axes>"
            ]
          },
          "metadata": {
            "tags": [],
            "needs_background": "light"
          }
        }
      ]
    },
    {
      "cell_type": "markdown",
      "metadata": {
        "id": "UFBALtYMobhv"
      },
      "source": [
        "2- Train a base model"
      ]
    },
    {
      "cell_type": "code",
      "metadata": {
        "id": "XrSKrWThdU6V"
      },
      "source": [
        "model = load_model('best_model.h5')"
      ],
      "execution_count": null,
      "outputs": []
    },
    {
      "cell_type": "code",
      "metadata": {
        "id": "AOe9UUlkmGNX"
      },
      "source": [
        "input_shape = (32,32,3)\n",
        "model = build_model_base_CNN(input_shape)"
      ],
      "execution_count": null,
      "outputs": []
    },
    {
      "cell_type": "code",
      "metadata": {
        "colab": {
          "base_uri": "https://localhost:8080/"
        },
        "id": "6ITv10wcmNr-",
        "outputId": "bb067301-786e-4cdd-8b95-150e5abb6a17"
      },
      "source": [
        "model.summary()"
      ],
      "execution_count": null,
      "outputs": [
        {
          "output_type": "stream",
          "text": [
            "Model: \"sequential\"\n",
            "_________________________________________________________________\n",
            "Layer (type)                 Output Shape              Param #   \n",
            "=================================================================\n",
            "conv2d (Conv2D)              (None, 32, 32, 32)        896       \n",
            "_________________________________________________________________\n",
            "batch_normalization (BatchNo (None, 32, 32, 32)        128       \n",
            "_________________________________________________________________\n",
            "conv2d_1 (Conv2D)            (None, 32, 32, 32)        9248      \n",
            "_________________________________________________________________\n",
            "batch_normalization_1 (Batch (None, 32, 32, 32)        128       \n",
            "_________________________________________________________________\n",
            "max_pooling2d (MaxPooling2D) (None, 16, 16, 32)        0         \n",
            "_________________________________________________________________\n",
            "dropout (Dropout)            (None, 16, 16, 32)        0         \n",
            "_________________________________________________________________\n",
            "conv2d_2 (Conv2D)            (None, 16, 16, 64)        18496     \n",
            "_________________________________________________________________\n",
            "batch_normalization_2 (Batch (None, 16, 16, 64)        256       \n",
            "_________________________________________________________________\n",
            "conv2d_3 (Conv2D)            (None, 16, 16, 64)        36928     \n",
            "_________________________________________________________________\n",
            "batch_normalization_3 (Batch (None, 16, 16, 64)        256       \n",
            "_________________________________________________________________\n",
            "max_pooling2d_1 (MaxPooling2 (None, 8, 8, 64)          0         \n",
            "_________________________________________________________________\n",
            "dropout_1 (Dropout)          (None, 8, 8, 64)          0         \n",
            "_________________________________________________________________\n",
            "conv2d_4 (Conv2D)            (None, 8, 8, 128)         73856     \n",
            "_________________________________________________________________\n",
            "batch_normalization_4 (Batch (None, 8, 8, 128)         512       \n",
            "_________________________________________________________________\n",
            "conv2d_5 (Conv2D)            (None, 8, 8, 128)         147584    \n",
            "_________________________________________________________________\n",
            "batch_normalization_5 (Batch (None, 8, 8, 128)         512       \n",
            "_________________________________________________________________\n",
            "max_pooling2d_2 (MaxPooling2 (None, 4, 4, 128)         0         \n",
            "_________________________________________________________________\n",
            "dropout_2 (Dropout)          (None, 4, 4, 128)         0         \n",
            "_________________________________________________________________\n",
            "flatten (Flatten)            (None, 2048)              0         \n",
            "_________________________________________________________________\n",
            "dense (Dense)                (None, 128)               262272    \n",
            "_________________________________________________________________\n",
            "dropout_3 (Dropout)          (None, 128)               0         \n",
            "_________________________________________________________________\n",
            "dense_1 (Dense)              (None, 10)                1290      \n",
            "=================================================================\n",
            "Total params: 552,362\n",
            "Trainable params: 551,466\n",
            "Non-trainable params: 896\n",
            "_________________________________________________________________\n"
          ],
          "name": "stdout"
        }
      ]
    },
    {
      "cell_type": "code",
      "metadata": {
        "id": "snaQDOKgGc-D"
      },
      "source": [
        "## hot encoding of the labels\n",
        "y_train = keras.utils.to_categorical(train_labels, 10) \n",
        "y_test = keras.utils.to_categorical(test_labels, 10)"
      ],
      "execution_count": null,
      "outputs": []
    },
    {
      "cell_type": "code",
      "metadata": {
        "colab": {
          "base_uri": "https://localhost:8080/"
        },
        "id": "biz2Bi_1n86r",
        "outputId": "70653041-ffaf-4e6b-ff71-8a6ba50f9560"
      },
      "source": [
        "\n",
        "rlrop = ReduceLROnPlateau(monitor='val_loss', factor=0.1, patience=5)\n",
        "\n",
        "es = EarlyStopping(monitor='val_loss', mode='min', verbose=1,patience=15)\n",
        "mc = ModelCheckpoint('best_model.h5', monitor='val_accuracy', mode='max', verbose=1, save_best_only=True)\n",
        "\n",
        "\n",
        "history = model.fit(x_train, y_train, epochs=100, batch_size=64,verbose=1,validation_split = 0.2,callbacks=[es,mc,rlrop])\n"
      ],
      "execution_count": null,
      "outputs": [
        {
          "output_type": "stream",
          "text": [
            "Epoch 1/100\n",
            "620/625 [============================>.] - ETA: 0s - loss: 2.0795 - accuracy: 0.2629\n",
            "Epoch 00001: val_accuracy improved from -inf to 0.35920, saving model to best_model.h5\n",
            "625/625 [==============================] - 5s 8ms/step - loss: 2.0772 - accuracy: 0.2632 - val_loss: 1.7947 - val_accuracy: 0.3592\n",
            "Epoch 2/100\n",
            "625/625 [==============================] - ETA: 0s - loss: 1.6141 - accuracy: 0.4165\n",
            "Epoch 00002: val_accuracy did not improve from 0.35920\n",
            "625/625 [==============================] - 5s 7ms/step - loss: 1.6141 - accuracy: 0.4165 - val_loss: 2.0535 - val_accuracy: 0.3359\n",
            "Epoch 3/100\n",
            "624/625 [============================>.] - ETA: 0s - loss: 1.3660 - accuracy: 0.5142\n",
            "Epoch 00003: val_accuracy improved from 0.35920 to 0.53120, saving model to best_model.h5\n",
            "625/625 [==============================] - 5s 8ms/step - loss: 1.3656 - accuracy: 0.5145 - val_loss: 1.4814 - val_accuracy: 0.5312\n",
            "Epoch 4/100\n",
            "622/625 [============================>.] - ETA: 0s - loss: 1.1587 - accuracy: 0.5977\n",
            "Epoch 00004: val_accuracy improved from 0.53120 to 0.65030, saving model to best_model.h5\n",
            "625/625 [==============================] - 5s 8ms/step - loss: 1.1584 - accuracy: 0.5978 - val_loss: 1.4902 - val_accuracy: 0.6503\n",
            "Epoch 5/100\n",
            "624/625 [============================>.] - ETA: 0s - loss: 1.0586 - accuracy: 0.6350\n",
            "Epoch 00005: val_accuracy did not improve from 0.65030\n",
            "625/625 [==============================] - 5s 8ms/step - loss: 1.0591 - accuracy: 0.6348 - val_loss: 1.6567 - val_accuracy: 0.6255\n",
            "Epoch 6/100\n",
            "623/625 [============================>.] - ETA: 0s - loss: 0.9994 - accuracy: 0.6586\n",
            "Epoch 00006: val_accuracy did not improve from 0.65030\n",
            "625/625 [==============================] - 5s 7ms/step - loss: 0.9993 - accuracy: 0.6586 - val_loss: 1.0818 - val_accuracy: 0.6390\n",
            "Epoch 7/100\n",
            "624/625 [============================>.] - ETA: 0s - loss: 0.9509 - accuracy: 0.6743\n",
            "Epoch 00007: val_accuracy improved from 0.65030 to 0.70930, saving model to best_model.h5\n",
            "625/625 [==============================] - 5s 8ms/step - loss: 0.9511 - accuracy: 0.6743 - val_loss: 0.8530 - val_accuracy: 0.7093\n",
            "Epoch 8/100\n",
            "624/625 [============================>.] - ETA: 0s - loss: 0.9167 - accuracy: 0.6891\n",
            "Epoch 00008: val_accuracy did not improve from 0.70930\n",
            "625/625 [==============================] - 5s 7ms/step - loss: 0.9166 - accuracy: 0.6891 - val_loss: 0.8780 - val_accuracy: 0.7019\n",
            "Epoch 9/100\n",
            "623/625 [============================>.] - ETA: 0s - loss: 0.8968 - accuracy: 0.6949\n",
            "Epoch 00009: val_accuracy improved from 0.70930 to 0.71590, saving model to best_model.h5\n",
            "625/625 [==============================] - 5s 8ms/step - loss: 0.8963 - accuracy: 0.6950 - val_loss: 0.8476 - val_accuracy: 0.7159\n",
            "Epoch 10/100\n",
            "622/625 [============================>.] - ETA: 0s - loss: 0.8719 - accuracy: 0.7036\n",
            "Epoch 00010: val_accuracy did not improve from 0.71590\n",
            "625/625 [==============================] - 5s 8ms/step - loss: 0.8717 - accuracy: 0.7036 - val_loss: 1.2261 - val_accuracy: 0.6065\n",
            "Epoch 11/100\n",
            "625/625 [==============================] - ETA: 0s - loss: 0.8508 - accuracy: 0.7151\n",
            "Epoch 00011: val_accuracy did not improve from 0.71590\n",
            "625/625 [==============================] - 5s 8ms/step - loss: 0.8508 - accuracy: 0.7151 - val_loss: 0.8710 - val_accuracy: 0.7072\n",
            "Epoch 12/100\n",
            "623/625 [============================>.] - ETA: 0s - loss: 0.8346 - accuracy: 0.7199\n",
            "Epoch 00012: val_accuracy improved from 0.71590 to 0.73090, saving model to best_model.h5\n",
            "625/625 [==============================] - 5s 8ms/step - loss: 0.8342 - accuracy: 0.7199 - val_loss: 0.8093 - val_accuracy: 0.7309\n",
            "Epoch 13/100\n",
            "622/625 [============================>.] - ETA: 0s - loss: 0.8109 - accuracy: 0.7285\n",
            "Epoch 00013: val_accuracy did not improve from 0.73090\n",
            "625/625 [==============================] - 5s 7ms/step - loss: 0.8102 - accuracy: 0.7289 - val_loss: 0.9102 - val_accuracy: 0.7229\n",
            "Epoch 14/100\n",
            "624/625 [============================>.] - ETA: 0s - loss: 0.8005 - accuracy: 0.7345\n",
            "Epoch 00014: val_accuracy improved from 0.73090 to 0.77270, saving model to best_model.h5\n",
            "625/625 [==============================] - 5s 8ms/step - loss: 0.8003 - accuracy: 0.7346 - val_loss: 0.6964 - val_accuracy: 0.7727\n",
            "Epoch 15/100\n",
            "624/625 [============================>.] - ETA: 0s - loss: 0.7738 - accuracy: 0.7427\n",
            "Epoch 00015: val_accuracy improved from 0.77270 to 0.77670, saving model to best_model.h5\n",
            "625/625 [==============================] - 5s 8ms/step - loss: 0.7737 - accuracy: 0.7426 - val_loss: 0.6886 - val_accuracy: 0.7767\n",
            "Epoch 16/100\n",
            "622/625 [============================>.] - ETA: 0s - loss: 0.7666 - accuracy: 0.7484\n",
            "Epoch 00016: val_accuracy did not improve from 0.77670\n",
            "625/625 [==============================] - 5s 7ms/step - loss: 0.7658 - accuracy: 0.7487 - val_loss: 0.7389 - val_accuracy: 0.7644\n",
            "Epoch 17/100\n",
            "623/625 [============================>.] - ETA: 0s - loss: 0.7591 - accuracy: 0.7492\n",
            "Epoch 00017: val_accuracy did not improve from 0.77670\n",
            "625/625 [==============================] - 5s 8ms/step - loss: 0.7590 - accuracy: 0.7492 - val_loss: 0.7594 - val_accuracy: 0.7503\n",
            "Epoch 18/100\n",
            "623/625 [============================>.] - ETA: 0s - loss: 0.7406 - accuracy: 0.7532\n",
            "Epoch 00018: val_accuracy did not improve from 0.77670\n",
            "625/625 [==============================] - 5s 7ms/step - loss: 0.7414 - accuracy: 0.7529 - val_loss: 0.7716 - val_accuracy: 0.7427\n",
            "Epoch 19/100\n",
            "625/625 [==============================] - ETA: 0s - loss: 0.7401 - accuracy: 0.7570\n",
            "Epoch 00019: val_accuracy did not improve from 0.77670\n",
            "625/625 [==============================] - 5s 7ms/step - loss: 0.7401 - accuracy: 0.7570 - val_loss: 0.6809 - val_accuracy: 0.7742\n",
            "Epoch 20/100\n",
            "625/625 [==============================] - ETA: 0s - loss: 0.7064 - accuracy: 0.7690\n",
            "Epoch 00020: val_accuracy did not improve from 0.77670\n",
            "625/625 [==============================] - 5s 8ms/step - loss: 0.7064 - accuracy: 0.7690 - val_loss: 0.7774 - val_accuracy: 0.7569\n",
            "Epoch 21/100\n",
            "624/625 [============================>.] - ETA: 0s - loss: 0.7113 - accuracy: 0.7676\n",
            "Epoch 00021: val_accuracy did not improve from 0.77670\n",
            "625/625 [==============================] - 5s 7ms/step - loss: 0.7112 - accuracy: 0.7676 - val_loss: 0.7972 - val_accuracy: 0.7313\n",
            "Epoch 22/100\n",
            "620/625 [============================>.] - ETA: 0s - loss: 0.6986 - accuracy: 0.7704\n",
            "Epoch 00022: val_accuracy did not improve from 0.77670\n",
            "625/625 [==============================] - 5s 8ms/step - loss: 0.6992 - accuracy: 0.7704 - val_loss: 0.7872 - val_accuracy: 0.7420\n",
            "Epoch 23/100\n",
            "625/625 [==============================] - ETA: 0s - loss: 0.6904 - accuracy: 0.7777\n",
            "Epoch 00023: val_accuracy improved from 0.77670 to 0.79450, saving model to best_model.h5\n",
            "625/625 [==============================] - 5s 8ms/step - loss: 0.6904 - accuracy: 0.7777 - val_loss: 0.6509 - val_accuracy: 0.7945\n",
            "Epoch 24/100\n",
            "623/625 [============================>.] - ETA: 0s - loss: 0.6797 - accuracy: 0.7783\n",
            "Epoch 00024: val_accuracy did not improve from 0.79450\n",
            "625/625 [==============================] - 5s 7ms/step - loss: 0.6795 - accuracy: 0.7784 - val_loss: 0.6997 - val_accuracy: 0.7832\n",
            "Epoch 25/100\n",
            "625/625 [==============================] - ETA: 0s - loss: 0.6756 - accuracy: 0.7814\n",
            "Epoch 00025: val_accuracy improved from 0.79450 to 0.79500, saving model to best_model.h5\n",
            "625/625 [==============================] - 5s 8ms/step - loss: 0.6756 - accuracy: 0.7814 - val_loss: 0.7693 - val_accuracy: 0.7950\n",
            "Epoch 26/100\n",
            "623/625 [============================>.] - ETA: 0s - loss: 0.6657 - accuracy: 0.7822\n",
            "Epoch 00026: val_accuracy did not improve from 0.79500\n",
            "625/625 [==============================] - 5s 7ms/step - loss: 0.6654 - accuracy: 0.7822 - val_loss: 0.6922 - val_accuracy: 0.7891\n",
            "Epoch 27/100\n",
            "625/625 [==============================] - ETA: 0s - loss: 0.6686 - accuracy: 0.7851\n",
            "Epoch 00027: val_accuracy did not improve from 0.79500\n",
            "625/625 [==============================] - 5s 8ms/step - loss: 0.6686 - accuracy: 0.7851 - val_loss: 0.6717 - val_accuracy: 0.7942\n",
            "Epoch 28/100\n",
            "624/625 [============================>.] - ETA: 0s - loss: 0.6481 - accuracy: 0.7898\n",
            "Epoch 00028: val_accuracy improved from 0.79500 to 0.81180, saving model to best_model.h5\n",
            "625/625 [==============================] - 5s 8ms/step - loss: 0.6478 - accuracy: 0.7898 - val_loss: 0.5895 - val_accuracy: 0.8118\n",
            "Epoch 29/100\n",
            "618/625 [============================>.] - ETA: 0s - loss: 0.6395 - accuracy: 0.7920\n",
            "Epoch 00029: val_accuracy did not improve from 0.81180\n",
            "625/625 [==============================] - 5s 7ms/step - loss: 0.6399 - accuracy: 0.7918 - val_loss: 0.7846 - val_accuracy: 0.7725\n",
            "Epoch 30/100\n",
            "624/625 [============================>.] - ETA: 0s - loss: 0.6597 - accuracy: 0.7866\n",
            "Epoch 00030: val_accuracy did not improve from 0.81180\n",
            "625/625 [==============================] - 5s 8ms/step - loss: 0.6596 - accuracy: 0.7866 - val_loss: 0.7262 - val_accuracy: 0.7868\n",
            "Epoch 31/100\n",
            "624/625 [============================>.] - ETA: 0s - loss: 0.6394 - accuracy: 0.7967\n",
            "Epoch 00031: val_accuracy did not improve from 0.81180\n",
            "625/625 [==============================] - 5s 7ms/step - loss: 0.6396 - accuracy: 0.7966 - val_loss: 0.6354 - val_accuracy: 0.8074\n",
            "Epoch 32/100\n",
            "624/625 [============================>.] - ETA: 0s - loss: 0.6258 - accuracy: 0.8013\n",
            "Epoch 00032: val_accuracy did not improve from 0.81180\n",
            "625/625 [==============================] - 5s 7ms/step - loss: 0.6258 - accuracy: 0.8013 - val_loss: 0.6034 - val_accuracy: 0.8100\n",
            "Epoch 33/100\n",
            "623/625 [============================>.] - ETA: 0s - loss: 0.6245 - accuracy: 0.7967\n",
            "Epoch 00033: val_accuracy did not improve from 0.81180\n",
            "625/625 [==============================] - 5s 8ms/step - loss: 0.6240 - accuracy: 0.7969 - val_loss: 0.7851 - val_accuracy: 0.7813\n",
            "Epoch 34/100\n",
            "625/625 [==============================] - ETA: 0s - loss: 0.4883 - accuracy: 0.8410\n",
            "Epoch 00034: val_accuracy improved from 0.81180 to 0.84140, saving model to best_model.h5\n",
            "625/625 [==============================] - 5s 8ms/step - loss: 0.4883 - accuracy: 0.8410 - val_loss: 0.5139 - val_accuracy: 0.8414\n",
            "Epoch 35/100\n",
            "623/625 [============================>.] - ETA: 0s - loss: 0.4437 - accuracy: 0.8517\n",
            "Epoch 00035: val_accuracy improved from 0.84140 to 0.84370, saving model to best_model.h5\n",
            "625/625 [==============================] - 5s 8ms/step - loss: 0.4439 - accuracy: 0.8516 - val_loss: 0.5166 - val_accuracy: 0.8437\n",
            "Epoch 36/100\n",
            "625/625 [==============================] - ETA: 0s - loss: 0.4313 - accuracy: 0.8561\n",
            "Epoch 00036: val_accuracy improved from 0.84370 to 0.84600, saving model to best_model.h5\n",
            "625/625 [==============================] - 5s 8ms/step - loss: 0.4313 - accuracy: 0.8561 - val_loss: 0.4883 - val_accuracy: 0.8460\n",
            "Epoch 37/100\n",
            "624/625 [============================>.] - ETA: 0s - loss: 0.4233 - accuracy: 0.8599\n",
            "Epoch 00037: val_accuracy improved from 0.84600 to 0.84870, saving model to best_model.h5\n",
            "625/625 [==============================] - 5s 8ms/step - loss: 0.4232 - accuracy: 0.8600 - val_loss: 0.4900 - val_accuracy: 0.8487\n",
            "Epoch 38/100\n",
            "624/625 [============================>.] - ETA: 0s - loss: 0.4162 - accuracy: 0.8614\n",
            "Epoch 00038: val_accuracy did not improve from 0.84870\n",
            "625/625 [==============================] - 5s 7ms/step - loss: 0.4165 - accuracy: 0.8612 - val_loss: 0.4919 - val_accuracy: 0.8487\n",
            "Epoch 39/100\n",
            "625/625 [==============================] - ETA: 0s - loss: 0.4102 - accuracy: 0.8623\n",
            "Epoch 00039: val_accuracy improved from 0.84870 to 0.84900, saving model to best_model.h5\n",
            "625/625 [==============================] - 5s 8ms/step - loss: 0.4102 - accuracy: 0.8623 - val_loss: 0.4951 - val_accuracy: 0.8490\n",
            "Epoch 40/100\n",
            "623/625 [============================>.] - ETA: 0s - loss: 0.4023 - accuracy: 0.8639\n",
            "Epoch 00040: val_accuracy improved from 0.84900 to 0.85420, saving model to best_model.h5\n",
            "625/625 [==============================] - 5s 8ms/step - loss: 0.4023 - accuracy: 0.8640 - val_loss: 0.4787 - val_accuracy: 0.8542\n",
            "Epoch 41/100\n",
            "620/625 [============================>.] - ETA: 0s - loss: 0.4025 - accuracy: 0.8641\n",
            "Epoch 00041: val_accuracy did not improve from 0.85420\n",
            "625/625 [==============================] - 5s 7ms/step - loss: 0.4029 - accuracy: 0.8641 - val_loss: 0.4757 - val_accuracy: 0.8504\n",
            "Epoch 42/100\n",
            "625/625 [==============================] - ETA: 0s - loss: 0.3945 - accuracy: 0.8668\n",
            "Epoch 00042: val_accuracy did not improve from 0.85420\n",
            "625/625 [==============================] - 5s 7ms/step - loss: 0.3945 - accuracy: 0.8668 - val_loss: 0.4752 - val_accuracy: 0.8523\n",
            "Epoch 43/100\n",
            "625/625 [==============================] - ETA: 0s - loss: 0.3828 - accuracy: 0.8697\n",
            "Epoch 00043: val_accuracy did not improve from 0.85420\n",
            "625/625 [==============================] - 5s 7ms/step - loss: 0.3828 - accuracy: 0.8697 - val_loss: 0.4900 - val_accuracy: 0.8488\n",
            "Epoch 44/100\n",
            "624/625 [============================>.] - ETA: 0s - loss: 0.3846 - accuracy: 0.8704\n",
            "Epoch 00044: val_accuracy did not improve from 0.85420\n",
            "625/625 [==============================] - 5s 7ms/step - loss: 0.3846 - accuracy: 0.8704 - val_loss: 0.4820 - val_accuracy: 0.8525\n",
            "Epoch 45/100\n",
            "623/625 [============================>.] - ETA: 0s - loss: 0.3794 - accuracy: 0.8732\n",
            "Epoch 00045: val_accuracy did not improve from 0.85420\n",
            "625/625 [==============================] - 5s 7ms/step - loss: 0.3801 - accuracy: 0.8731 - val_loss: 0.4708 - val_accuracy: 0.8521\n",
            "Epoch 46/100\n",
            "625/625 [==============================] - ETA: 0s - loss: 0.3713 - accuracy: 0.8741\n",
            "Epoch 00046: val_accuracy improved from 0.85420 to 0.85430, saving model to best_model.h5\n",
            "625/625 [==============================] - 5s 8ms/step - loss: 0.3713 - accuracy: 0.8741 - val_loss: 0.4800 - val_accuracy: 0.8543\n",
            "Epoch 47/100\n",
            "623/625 [============================>.] - ETA: 0s - loss: 0.3719 - accuracy: 0.8731\n",
            "Epoch 00047: val_accuracy improved from 0.85430 to 0.85570, saving model to best_model.h5\n",
            "625/625 [==============================] - 5s 8ms/step - loss: 0.3721 - accuracy: 0.8730 - val_loss: 0.4659 - val_accuracy: 0.8557\n",
            "Epoch 48/100\n",
            "624/625 [============================>.] - ETA: 0s - loss: 0.3641 - accuracy: 0.8770\n",
            "Epoch 00048: val_accuracy did not improve from 0.85570\n",
            "625/625 [==============================] - 5s 7ms/step - loss: 0.3644 - accuracy: 0.8769 - val_loss: 0.4882 - val_accuracy: 0.8521\n",
            "Epoch 49/100\n",
            "624/625 [============================>.] - ETA: 0s - loss: 0.3593 - accuracy: 0.8782\n",
            "Epoch 00049: val_accuracy did not improve from 0.85570\n",
            "625/625 [==============================] - 5s 7ms/step - loss: 0.3595 - accuracy: 0.8781 - val_loss: 0.4752 - val_accuracy: 0.8542\n",
            "Epoch 50/100\n",
            "625/625 [==============================] - ETA: 0s - loss: 0.3610 - accuracy: 0.8779\n",
            "Epoch 00050: val_accuracy did not improve from 0.85570\n",
            "625/625 [==============================] - 5s 8ms/step - loss: 0.3610 - accuracy: 0.8779 - val_loss: 0.4740 - val_accuracy: 0.8553\n",
            "Epoch 51/100\n",
            "625/625 [==============================] - ETA: 0s - loss: 0.3539 - accuracy: 0.8783\n",
            "Epoch 00051: val_accuracy did not improve from 0.85570\n",
            "625/625 [==============================] - 5s 7ms/step - loss: 0.3539 - accuracy: 0.8783 - val_loss: 0.4877 - val_accuracy: 0.8537\n",
            "Epoch 52/100\n",
            "624/625 [============================>.] - ETA: 0s - loss: 0.3500 - accuracy: 0.8798\n",
            "Epoch 00052: val_accuracy did not improve from 0.85570\n",
            "625/625 [==============================] - 5s 8ms/step - loss: 0.3502 - accuracy: 0.8797 - val_loss: 0.4994 - val_accuracy: 0.8520\n",
            "Epoch 53/100\n",
            "623/625 [============================>.] - ETA: 0s - loss: 0.3423 - accuracy: 0.8827\n",
            "Epoch 00053: val_accuracy did not improve from 0.85570\n",
            "625/625 [==============================] - 5s 7ms/step - loss: 0.3421 - accuracy: 0.8828 - val_loss: 0.4762 - val_accuracy: 0.8537\n",
            "Epoch 54/100\n",
            "621/625 [============================>.] - ETA: 0s - loss: 0.3417 - accuracy: 0.8839\n",
            "Epoch 00054: val_accuracy did not improve from 0.85570\n",
            "625/625 [==============================] - 5s 7ms/step - loss: 0.3418 - accuracy: 0.8838 - val_loss: 0.4738 - val_accuracy: 0.8541\n",
            "Epoch 55/100\n",
            "623/625 [============================>.] - ETA: 0s - loss: 0.3391 - accuracy: 0.8841\n",
            "Epoch 00055: val_accuracy did not improve from 0.85570\n",
            "625/625 [==============================] - 5s 7ms/step - loss: 0.3392 - accuracy: 0.8842 - val_loss: 0.4749 - val_accuracy: 0.8555\n",
            "Epoch 56/100\n",
            "623/625 [============================>.] - ETA: 0s - loss: 0.3364 - accuracy: 0.8858\n",
            "Epoch 00056: val_accuracy did not improve from 0.85570\n",
            "625/625 [==============================] - 5s 8ms/step - loss: 0.3367 - accuracy: 0.8856 - val_loss: 0.4735 - val_accuracy: 0.8555\n",
            "Epoch 57/100\n",
            "623/625 [============================>.] - ETA: 0s - loss: 0.3391 - accuracy: 0.8848\n",
            "Epoch 00057: val_accuracy improved from 0.85570 to 0.85590, saving model to best_model.h5\n",
            "625/625 [==============================] - 5s 8ms/step - loss: 0.3387 - accuracy: 0.8849 - val_loss: 0.4717 - val_accuracy: 0.8559\n",
            "Epoch 58/100\n",
            "623/625 [============================>.] - ETA: 0s - loss: 0.3325 - accuracy: 0.8872\n",
            "Epoch 00058: val_accuracy did not improve from 0.85590\n",
            "625/625 [==============================] - 5s 7ms/step - loss: 0.3323 - accuracy: 0.8873 - val_loss: 0.4738 - val_accuracy: 0.8549\n",
            "Epoch 59/100\n",
            "624/625 [============================>.] - ETA: 0s - loss: 0.3380 - accuracy: 0.8839\n",
            "Epoch 00059: val_accuracy did not improve from 0.85590\n",
            "625/625 [==============================] - 5s 8ms/step - loss: 0.3379 - accuracy: 0.8839 - val_loss: 0.4725 - val_accuracy: 0.8552\n",
            "Epoch 60/100\n",
            "624/625 [============================>.] - ETA: 0s - loss: 0.3368 - accuracy: 0.8861\n",
            "Epoch 00060: val_accuracy did not improve from 0.85590\n",
            "625/625 [==============================] - 5s 7ms/step - loss: 0.3367 - accuracy: 0.8862 - val_loss: 0.4739 - val_accuracy: 0.8557\n",
            "Epoch 61/100\n",
            "624/625 [============================>.] - ETA: 0s - loss: 0.3321 - accuracy: 0.8860\n",
            "Epoch 00061: val_accuracy improved from 0.85590 to 0.85630, saving model to best_model.h5\n",
            "625/625 [==============================] - 5s 8ms/step - loss: 0.3320 - accuracy: 0.8860 - val_loss: 0.4740 - val_accuracy: 0.8563\n",
            "Epoch 62/100\n",
            "625/625 [==============================] - ETA: 0s - loss: 0.3356 - accuracy: 0.8862\n",
            "Epoch 00062: val_accuracy did not improve from 0.85630\n",
            "625/625 [==============================] - 5s 7ms/step - loss: 0.3356 - accuracy: 0.8862 - val_loss: 0.4733 - val_accuracy: 0.8558\n",
            "Epoch 00062: early stopping\n"
          ],
          "name": "stdout"
        }
      ]
    },
    {
      "cell_type": "markdown",
      "metadata": {
        "id": "JZ6r5Hy1z-IU"
      },
      "source": [
        "Plot Training loss"
      ]
    },
    {
      "cell_type": "code",
      "metadata": {
        "colab": {
          "base_uri": "https://localhost:8080/",
          "height": 279
        },
        "id": "Rek0aDKn0EDx",
        "outputId": "d9ab57be-7376-437a-eb50-4dc59d4fc610"
      },
      "source": [
        "\n",
        "\n",
        "history_dict = history.history\n",
        "loss_values = history_dict['loss']\n",
        "\n",
        "epochs = range(1, len(loss_values) + 1)\n",
        "plt.plot(epochs, loss_values, label='train loss for the NN')\n",
        "\n",
        "plt.xlabel('Epochs')\n",
        "plt.ylabel('Loss')\n",
        "plt.legend()\n",
        "plt.show()"
      ],
      "execution_count": null,
      "outputs": [
        {
          "output_type": "display_data",
          "data": {
            "image/png": "[encoded data removed]",
            "text/plain": [
              "<Figure size 432x288 with 1 Axes>"
            ]
          },
          "metadata": {
            "tags": [],
            "needs_background": "light"
          }
        }
      ]
    },
    {
      "cell_type": "markdown",
      "metadata": {
        "id": "cSwYfKpL0Bu0"
      },
      "source": [
        "Plot validation loss"
      ]
    },
    {
      "cell_type": "code",
      "metadata": {
        "colab": {
          "base_uri": "https://localhost:8080/",
          "height": 279
        },
        "id": "riRWo7Ib0DeU",
        "outputId": "d0e070f1-bf11-4403-be68-9599b91bb4b2"
      },
      "source": [
        "\n",
        "loss_values = history_dict['val_loss']\n",
        "\n",
        "epochs = range(1, len(loss_values) + 1)\n",
        "plt.plot(epochs, loss_values, label='validation loss for the NN')\n",
        "\n",
        "plt.xlabel('Epochs')\n",
        "plt.ylabel('Loss')\n",
        "plt.legend()\n",
        "plt.show()"
      ],
      "execution_count": null,
      "outputs": [
        {
          "output_type": "display_data",
          "data": {
            "image/png": "[encoded data removed]",
            "text/plain": [
              "<Figure size 432x288 with 1 Axes>"
            ]
          },
          "metadata": {
            "tags": [],
            "needs_background": "light"
          }
        }
      ]
    },
    {
      "cell_type": "markdown",
      "metadata": {
        "id": "i7vFOeMFBlfw"
      },
      "source": [
        "3- Evaluate on train and test set "
      ]
    },
    {
      "cell_type": "code",
      "metadata": {
        "colab": {
          "base_uri": "https://localhost:8080/"
        },
        "id": "H7UFPIN1CCTW",
        "outputId": "385bbb6f-0b67-490f-9353-cba4d1f04809"
      },
      "source": [
        "print(\"Base accuracy on regular train images:\", model.evaluate(x=x_train, y=y_train, verbose=0)[1])"
      ],
      "execution_count": null,
      "outputs": [
        {
          "output_type": "stream",
          "text": [
            "Base accuracy on regular train images: 0.9287400245666504\n"
          ],
          "name": "stdout"
        }
      ]
    },
    {
      "cell_type": "code",
      "metadata": {
        "colab": {
          "base_uri": "https://localhost:8080/"
        },
        "id": "bBCLf1QjCYaF",
        "outputId": "1fd3bca2-2288-445d-db88-6f893756e82f"
      },
      "source": [
        "print(\"Base accuracy on regular test images:\", model.evaluate(x=x_test, y=y_test, verbose=0)[1])"
      ],
      "execution_count": null,
      "outputs": [
        {
          "output_type": "stream",
          "text": [
            "Base accuracy on regular test images: 0.8500999808311462\n"
          ],
          "name": "stdout"
        }
      ]
    },
    {
      "cell_type": "markdown",
      "metadata": {
        "id": "mcpA4nGI3uix"
      },
      "source": [
        "*4 - Generate FGSM ATTACK"
      ]
    },
    {
      "cell_type": "markdown",
      "metadata": {
        "id": "oPfftJMvfYYg"
      },
      "source": [
        "Example on one image and different values of epsilon, we plot the predictions as well as the confidence of the predictions\n",
        "\n"
      ]
    },
    {
      "cell_type": "code",
      "metadata": {
        "id": "CUvwNnvOpdx6"
      },
      "source": [
        "image = x_train[1,:]\n",
        "image_label = y_train[1,:].reshape((1,-1))"
      ],
      "execution_count": null,
      "outputs": []
    },
    {
      "cell_type": "code",
      "metadata": {
        "id": "YFYi161weUI3"
      },
      "source": [
        "perturbations = adversarial_pattern2(image.reshape((-1,32,32,3)), image_label,model).numpy()\n"
      ],
      "execution_count": null,
      "outputs": []
    },
    {
      "cell_type": "code",
      "metadata": {
        "id": "KUKg3ldwei7r",
        "colab": {
          "base_uri": "https://localhost:8080/",
          "height": 339
        },
        "outputId": "2f28ef48-121c-433d-b4b9-5c2df35ece27"
      },
      "source": [
        "fig = plt.figure(figsize=(25,5))\n",
        "epsilons = [0, 0.01, 0.02, 0.03]\n",
        "descriptions = [('Epsilon = {:0.3f}'.format(eps)+' FGSM ATTACK' if eps else 'Input : Natural image')\n",
        "                for eps in epsilons]\n",
        "\n",
        "for i in range(len(epsilons)) : \n",
        "  adversarial = image + perturbations * epsilons[i]\n",
        "  adversarial = tf.clip_by_value(adversarial, 0, 1).numpy()\n",
        "  label = classes[model.predict(adversarial.reshape(-1,32,32,3)).argmax()]\n",
        "  confidence = model.predict(adversarial.reshape(-1,32,32,3)).max()\n",
        "  subplot = fig.add_subplot(1,5,i+1)\n",
        "  plt.imshow(adversarial.reshape(32,32,3))\n",
        "  subplot.title.set_text(descriptions[i]+'\\n {} : {:.2f}% Confidence'.format(label, confidence*100))"
      ],
      "execution_count": null,
      "outputs": [
        {
          "output_type": "display_data",
          "data": {
            "image/png": "[encoded data removed]",
            "text/plain": [
              "<Figure size 1800x360 with 4 Axes>"
            ]
          },
          "metadata": {
            "tags": [],
            "needs_background": "light"
          }
        }
      ]
    },
    {
      "cell_type": "markdown",
      "metadata": {
        "id": "LG471FHEjlD7"
      },
      "source": [
        "Compute the accuracy of the model on some adversarial examples only :"
      ]
    },
    {
      "cell_type": "code",
      "metadata": {
        "id": "9iqM2FG5hnTG"
      },
      "source": [
        "batch_size = 10000\n",
        "eps = 0.03\n",
        "x_adversarial_test, y_adversarial_test = generate_adversarials_test_FGSM(batch_size, eps,model)\n",
        "\n"
      ],
      "execution_count": null,
      "outputs": []
    },
    {
      "cell_type": "code",
      "metadata": {
        "colab": {
          "base_uri": "https://localhost:8080/"
        },
        "id": "DkxsYON0l_Ov",
        "outputId": "65ff8852-0b09-4e5f-e1b1-2551c7dc2119"
      },
      "source": [
        "print(\"Accuracy on adversarial images for epsilon = 0.03:\", model.evaluate(x=np.array(x_adversarial_test).reshape(-1,32,32,3), y=np.array(y_adversarial_test), verbose=0)[1])"
      ],
      "execution_count": null,
      "outputs": [
        {
          "output_type": "stream",
          "text": [
            "Accuracy on adversarial images for epsilon = 0.03: 0.08669999986886978\n"
          ],
          "name": "stdout"
        }
      ]
    },
    {
      "cell_type": "markdown",
      "metadata": {
        "id": "UtBCftZBUlW3"
      },
      "source": [
        "Plot the accuracy for different epsilons : "
      ]
    },
    {
      "cell_type": "code",
      "metadata": {
        "id": "O3a5GwF7j1lQ",
        "colab": {
          "base_uri": "https://localhost:8080/",
          "height": 281
        },
        "outputId": "5ee36e02-2429-429b-be75-6659e3cc107c"
      },
      "source": [
        "epsilons2 = np.arange(0,0.035,0.005)\n",
        "batch_size = 10000\n",
        "accuracies1 = []\n",
        "for eps in epsilons2 :\n",
        "  x_adversarial_test, y_adversarial_test = generate_adversarials_test_FGSM(batch_size, eps,model)\n",
        "  accuracy =  model.evaluate(x=np.array(x_adversarial_test).reshape(-1,32,32,3), y=np.array(y_adversarial_test), verbose=0)[1]\n",
        "  accuracies1.append(accuracy)\n",
        "plt.plot(epsilons2,accuracies1)\n",
        "plt.title('Accuracy on adversarial examples (FGSM) with respect to epsilon without adversarial training')\n",
        "plt.show()\n"
      ],
      "execution_count": null,
      "outputs": [
        {
          "output_type": "display_data",
          "data": {
            "image/png": "[encoded data removed]",
            "text/plain": [
              "<Figure size 432x288 with 1 Axes>"
            ]
          },
          "metadata": {
            "tags": [],
            "needs_background": "light"
          }
        }
      ]
    },
    {
      "cell_type": "markdown",
      "metadata": {
        "id": "amLDxjupW7kE"
      },
      "source": [
        "5- Adversarial training (training on adversarial images )"
      ]
    },
    {
      "cell_type": "markdown",
      "metadata": {
        "id": "Pl0xV15T1-xo"
      },
      "source": [
        "\r\n",
        "we generate the first train data : "
      ]
    },
    {
      "cell_type": "code",
      "metadata": {
        "id": "4btuIx6k0uYs"
      },
      "source": [
        "##  a portion of adversarial\n",
        "\n",
        "n_examples = 2*x_train.shape[0]//3\n",
        "# vector_eps = np.arange(0.01,0.2,0.01)\n",
        "\n",
        "eps = 0.03\n",
        "x_adversarial_train, y_adversarial_train = generate_adversarials_train_FGSM(n_examples, eps,model)\n",
        "\n",
        "## portion of  regular examples\n",
        "indexes = np.random.choice(x_train.shape[0],2*x_train.shape[0]//3)\n",
        "x_regular = x_train[indexes]\n",
        "y_regular = y_train[indexes]\n",
        "x_train_mixed = np.concatenate([x_regular,x_adversarial_train],axis = 0)\n",
        "y_train_mixed = np.concatenate([y_regular,y_adversarial_train],axis = 0)\n",
        "from sklearn.utils import shuffle\n",
        "x_train_mixed,y_train_mixed = shuffle(x_train_mixed,y_train_mixed, random_state = 0)"
      ],
      "execution_count": null,
      "outputs": []
    },
    {
      "cell_type": "markdown",
      "metadata": {
        "id": "jxafy3nL2L8L"
      },
      "source": [
        "define the second model and train it "
      ]
    },
    {
      "cell_type": "code",
      "metadata": {
        "colab": {
          "base_uri": "https://localhost:8080/"
        },
        "id": "op2ZmPiY2LYT",
        "outputId": "dd5ac73c-adea-4de5-b1e4-bc63bf40fe03"
      },
      "source": [
        "input_shape = (32,32,3)\n",
        "model_adv = build_model_base_CNN(input_shape)\n",
        "\n",
        "rlrop = ReduceLROnPlateau(monitor='val_loss', factor=0.1, patience=5)\n",
        "courbes = []\n",
        "val_courbes = []\n",
        "\n",
        "es = EarlyStopping(monitor='val_loss', mode='min', verbose=1,patience=15)\n",
        "mc = ModelCheckpoint('best_model_adv.h5', monitor='val_accuracy', mode='max', verbose=1, save_best_only=True)\n",
        "for i in range(1, 50):\n",
        "  print('epoch'+str(i))\n",
        "\n",
        "  history_adv = model_adv.fit(np.array(x_train_mixed).reshape(-1,32,32,3), np.array(y_train_mixed), epochs=1, batch_size=64,verbose=1,validation_split = 0.2,callbacks=[es,mc,rlrop])\n",
        "\n",
        "\n",
        "  x_adversarial_train, y_adversarial_train = generate_adversarials_train_FGSM(n_examples, eps,model_adv)\n",
        "  \n",
        "  history_dict = history_adv.history\n",
        "  courbes.append(history_dict['loss'])\n",
        "  val_courbes.append(history_dict['val_loss'])\n",
        "  ## portion of  regular examples\n",
        "  indexes = np.random.choice(x_train.shape[0],2*x_train.shape[0]//3)\n",
        "  x_regular = x_train[indexes]\n",
        "  y_regular = y_train[indexes]\n",
        "  ## prepare data for next epoch\n",
        "  x_train_mixed = np.concatenate([x_regular,x_adversarial_train],axis = 0)\n",
        "  y_train_mixed = np.concatenate([y_regular,y_adversarial_train],axis = 0)\n",
        "  x_train_mixed,y_train_mixed = shuffle(x_train_mixed,y_train_mixed, random_state = 0)"
      ],
      "execution_count": null,
      "outputs": [
        {
          "output_type": "stream",
          "text": [
            "epoch1\n",
            "833/834 [============================>.] - ETA: 0s - loss: 1.9695 - accuracy: 0.2912\n",
            "Epoch 00001: val_accuracy improved from -inf to 0.32428, saving model to best_model_adv.h5\n",
            "834/834 [==============================] - 6s 7ms/step - loss: 1.9694 - accuracy: 0.2913 - val_loss: 1.7384 - val_accuracy: 0.3243\n",
            "epoch2\n",
            "834/834 [==============================] - ETA: 0s - loss: 1.6170 - accuracy: 0.4084\n",
            "Epoch 00001: val_accuracy improved from 0.32428 to 0.48125, saving model to best_model_adv.h5\n",
            "834/834 [==============================] - 6s 7ms/step - loss: 1.6170 - accuracy: 0.4084 - val_loss: 1.4368 - val_accuracy: 0.4813\n",
            "epoch3\n",
            "831/834 [============================>.] - ETA: 0s - loss: 1.3342 - accuracy: 0.5217\n",
            "Epoch 00001: val_accuracy improved from 0.48125 to 0.61602, saving model to best_model_adv.h5\n",
            "834/834 [==============================] - 6s 7ms/step - loss: 1.3340 - accuracy: 0.5218 - val_loss: 1.1437 - val_accuracy: 0.6160\n",
            "epoch4\n",
            "827/834 [============================>.] - ETA: 0s - loss: 1.1565 - accuracy: 0.5894\n",
            "Epoch 00001: val_accuracy improved from 0.61602 to 0.70984, saving model to best_model_adv.h5\n",
            "834/834 [==============================] - 6s 7ms/step - loss: 1.1555 - accuracy: 0.5899 - val_loss: 0.8704 - val_accuracy: 0.7098\n",
            "epoch5\n",
            "829/834 [============================>.] - ETA: 0s - loss: 1.0380 - accuracy: 0.6415\n",
            "Epoch 00001: val_accuracy improved from 0.70984 to 0.72769, saving model to best_model_adv.h5\n",
            "834/834 [==============================] - 6s 7ms/step - loss: 1.0368 - accuracy: 0.6420 - val_loss: 0.8354 - val_accuracy: 0.7277\n",
            "epoch6\n",
            "831/834 [============================>.] - ETA: 0s - loss: 1.0465 - accuracy: 0.6371\n",
            "Epoch 00001: val_accuracy improved from 0.72769 to 0.75806, saving model to best_model_adv.h5\n",
            "834/834 [==============================] - 6s 7ms/step - loss: 1.0459 - accuracy: 0.6373 - val_loss: 0.7735 - val_accuracy: 0.7581\n",
            "epoch7\n",
            "832/834 [============================>.] - ETA: 0s - loss: 1.0208 - accuracy: 0.6446\n",
            "Epoch 00001: val_accuracy improved from 0.75806 to 0.79384, saving model to best_model_adv.h5\n",
            "834/834 [==============================] - 6s 7ms/step - loss: 1.0202 - accuracy: 0.6448 - val_loss: 0.6340 - val_accuracy: 0.7938\n",
            "epoch8\n",
            "826/834 [============================>.] - ETA: 0s - loss: 1.0801 - accuracy: 0.6157\n",
            "Epoch 00001: val_accuracy did not improve from 0.79384\n",
            "834/834 [==============================] - 6s 7ms/step - loss: 1.0766 - accuracy: 0.6172 - val_loss: 0.7304 - val_accuracy: 0.7476\n",
            "epoch9\n",
            "826/834 [============================>.] - ETA: 0s - loss: 0.9648 - accuracy: 0.6724\n",
            "Epoch 00001: val_accuracy improved from 0.79384 to 0.79969, saving model to best_model_adv.h5\n",
            "834/834 [==============================] - 6s 7ms/step - loss: 0.9636 - accuracy: 0.6729 - val_loss: 0.5983 - val_accuracy: 0.7997\n",
            "epoch10\n",
            "828/834 [============================>.] - ETA: 0s - loss: 0.9554 - accuracy: 0.6713\n",
            "Epoch 00001: val_accuracy did not improve from 0.79969\n",
            "834/834 [==============================] - 6s 7ms/step - loss: 0.9542 - accuracy: 0.6718 - val_loss: 0.5964 - val_accuracy: 0.7985\n",
            "epoch11\n",
            "833/834 [============================>.] - ETA: 0s - loss: 0.9307 - accuracy: 0.6928\n",
            "Epoch 00001: val_accuracy did not improve from 0.79969\n",
            "834/834 [==============================] - 6s 7ms/step - loss: 0.9304 - accuracy: 0.6929 - val_loss: 0.6401 - val_accuracy: 0.7872\n",
            "epoch12\n",
            "826/834 [============================>.] - ETA: 0s - loss: 0.8528 - accuracy: 0.7186\n",
            "Epoch 00001: val_accuracy improved from 0.79969 to 0.82803, saving model to best_model_adv.h5\n",
            "834/834 [==============================] - 6s 7ms/step - loss: 0.8514 - accuracy: 0.7191 - val_loss: 0.5193 - val_accuracy: 0.8280\n",
            "epoch13\n",
            "833/834 [============================>.] - ETA: 0s - loss: 0.8338 - accuracy: 0.7279\n",
            "Epoch 00001: val_accuracy did not improve from 0.82803\n",
            "834/834 [==============================] - 6s 7ms/step - loss: 0.8338 - accuracy: 0.7279 - val_loss: 0.6649 - val_accuracy: 0.7864\n",
            "epoch14\n",
            "826/834 [============================>.] - ETA: 0s - loss: 0.8891 - accuracy: 0.7085\n",
            "Epoch 00001: val_accuracy did not improve from 0.82803\n",
            "834/834 [==============================] - 6s 7ms/step - loss: 0.8883 - accuracy: 0.7088 - val_loss: 0.6565 - val_accuracy: 0.7821\n",
            "epoch15\n",
            "826/834 [============================>.] - ETA: 0s - loss: 0.9056 - accuracy: 0.7049\n",
            "Epoch 00001: val_accuracy did not improve from 0.82803\n",
            "834/834 [==============================] - 6s 7ms/step - loss: 0.9051 - accuracy: 0.7053 - val_loss: 0.6650 - val_accuracy: 0.7838\n",
            "epoch16\n",
            "828/834 [============================>.] - ETA: 0s - loss: 0.8611 - accuracy: 0.7198\n",
            "Epoch 00001: val_accuracy did not improve from 0.82803\n",
            "834/834 [==============================] - 6s 7ms/step - loss: 0.8604 - accuracy: 0.7199 - val_loss: 0.7013 - val_accuracy: 0.7680\n",
            "epoch17\n",
            "829/834 [============================>.] - ETA: 0s - loss: 0.8369 - accuracy: 0.7294\n",
            "Epoch 00001: val_accuracy did not improve from 0.82803\n",
            "834/834 [==============================] - 6s 7ms/step - loss: 0.8361 - accuracy: 0.7295 - val_loss: 0.5829 - val_accuracy: 0.8091\n",
            "epoch18\n",
            "828/834 [============================>.] - ETA: 0s - loss: 0.8543 - accuracy: 0.7244\n",
            "Epoch 00001: val_accuracy did not improve from 0.82803\n",
            "834/834 [==============================] - 6s 7ms/step - loss: 0.8534 - accuracy: 0.7247 - val_loss: 0.5450 - val_accuracy: 0.8211\n",
            "epoch19\n",
            "834/834 [==============================] - ETA: 0s - loss: 0.8301 - accuracy: 0.7338\n",
            "Epoch 00001: val_accuracy did not improve from 0.82803\n",
            "834/834 [==============================] - 6s 7ms/step - loss: 0.8301 - accuracy: 0.7338 - val_loss: 0.6301 - val_accuracy: 0.8004\n",
            "epoch20\n",
            "830/834 [============================>.] - ETA: 0s - loss: 0.8533 - accuracy: 0.7253\n",
            "Epoch 00001: val_accuracy did not improve from 0.82803\n",
            "834/834 [==============================] - 6s 7ms/step - loss: 0.8530 - accuracy: 0.7255 - val_loss: 0.6797 - val_accuracy: 0.7865\n",
            "epoch21\n",
            "829/834 [============================>.] - ETA: 0s - loss: 0.8141 - accuracy: 0.7372\n",
            "Epoch 00001: val_accuracy did not improve from 0.82803\n",
            "834/834 [==============================] - 6s 7ms/step - loss: 0.8139 - accuracy: 0.7371 - val_loss: 0.6300 - val_accuracy: 0.7999\n",
            "epoch22\n",
            "826/834 [============================>.] - ETA: 0s - loss: 0.8977 - accuracy: 0.7026\n",
            "Epoch 00001: val_accuracy did not improve from 0.82803\n",
            "834/834 [==============================] - 6s 7ms/step - loss: 0.8965 - accuracy: 0.7033 - val_loss: 0.5560 - val_accuracy: 0.8187\n",
            "epoch23\n",
            "827/834 [============================>.] - ETA: 0s - loss: 0.8342 - accuracy: 0.7329\n",
            "Epoch 00001: val_accuracy did not improve from 0.82803\n",
            "834/834 [==============================] - 6s 7ms/step - loss: 0.8333 - accuracy: 0.7332 - val_loss: 0.5945 - val_accuracy: 0.8039\n",
            "epoch24\n",
            "828/834 [============================>.] - ETA: 0s - loss: 0.8168 - accuracy: 0.7401\n",
            "Epoch 00001: val_accuracy did not improve from 0.82803\n",
            "834/834 [==============================] - 6s 7ms/step - loss: 0.8163 - accuracy: 0.7403 - val_loss: 0.5273 - val_accuracy: 0.8264\n",
            "epoch25\n",
            "828/834 [============================>.] - ETA: 0s - loss: 0.8073 - accuracy: 0.7431\n",
            "Epoch 00001: val_accuracy improved from 0.82803 to 0.83291, saving model to best_model_adv.h5\n",
            "834/834 [==============================] - 6s 7ms/step - loss: 0.8071 - accuracy: 0.7433 - val_loss: 0.5279 - val_accuracy: 0.8329\n",
            "epoch26\n",
            "827/834 [============================>.] - ETA: 0s - loss: 0.8184 - accuracy: 0.7395\n",
            "Epoch 00001: val_accuracy did not improve from 0.83291\n",
            "834/834 [==============================] - 6s 7ms/step - loss: 0.8172 - accuracy: 0.7399 - val_loss: 0.5131 - val_accuracy: 0.8328\n",
            "epoch27\n",
            "829/834 [============================>.] - ETA: 0s - loss: 0.7935 - accuracy: 0.7443\n",
            "Epoch 00001: val_accuracy improved from 0.83291 to 0.85466, saving model to best_model_adv.h5\n",
            "834/834 [==============================] - 6s 7ms/step - loss: 0.7925 - accuracy: 0.7445 - val_loss: 0.4494 - val_accuracy: 0.8547\n",
            "epoch28\n",
            "828/834 [============================>.] - ETA: 0s - loss: 0.8171 - accuracy: 0.7386\n",
            "Epoch 00001: val_accuracy did not improve from 0.85466\n",
            "834/834 [==============================] - 6s 7ms/step - loss: 0.8162 - accuracy: 0.7389 - val_loss: 0.5258 - val_accuracy: 0.8308\n",
            "epoch29\n",
            "827/834 [============================>.] - ETA: 0s - loss: 0.7762 - accuracy: 0.7514\n",
            "Epoch 00001: val_accuracy did not improve from 0.85466\n",
            "834/834 [==============================] - 6s 7ms/step - loss: 0.7753 - accuracy: 0.7518 - val_loss: 0.4771 - val_accuracy: 0.8481\n",
            "epoch30\n",
            "828/834 [============================>.] - ETA: 0s - loss: 0.8042 - accuracy: 0.7431\n",
            "Epoch 00001: val_accuracy did not improve from 0.85466\n",
            "834/834 [==============================] - 6s 7ms/step - loss: 0.8039 - accuracy: 0.7436 - val_loss: 0.4488 - val_accuracy: 0.8532\n",
            "epoch31\n",
            "828/834 [============================>.] - ETA: 0s - loss: 0.7548 - accuracy: 0.7576\n",
            "Epoch 00001: val_accuracy improved from 0.85466 to 0.85526, saving model to best_model_adv.h5\n",
            "834/834 [==============================] - 6s 7ms/step - loss: 0.7540 - accuracy: 0.7579 - val_loss: 0.4545 - val_accuracy: 0.8553\n",
            "epoch32\n",
            "831/834 [============================>.] - ETA: 0s - loss: 0.8206 - accuracy: 0.7373\n",
            "Epoch 00001: val_accuracy did not improve from 0.85526\n",
            "834/834 [==============================] - 6s 7ms/step - loss: 0.8200 - accuracy: 0.7375 - val_loss: 0.4866 - val_accuracy: 0.8507\n",
            "epoch33\n",
            "830/834 [============================>.] - ETA: 0s - loss: 0.7360 - accuracy: 0.7674\n",
            "Epoch 00001: val_accuracy did not improve from 0.85526\n",
            "834/834 [==============================] - 6s 7ms/step - loss: 0.7350 - accuracy: 0.7677 - val_loss: 0.4605 - val_accuracy: 0.8536\n",
            "epoch34\n",
            "829/834 [============================>.] - ETA: 0s - loss: 0.8494 - accuracy: 0.7283\n",
            "Epoch 00001: val_accuracy improved from 0.85526 to 0.85616, saving model to best_model_adv.h5\n",
            "834/834 [==============================] - 6s 7ms/step - loss: 0.8487 - accuracy: 0.7286 - val_loss: 0.6423 - val_accuracy: 0.8562\n",
            "epoch35\n",
            "829/834 [============================>.] - ETA: 0s - loss: 0.7827 - accuracy: 0.7501\n",
            "Epoch 00001: val_accuracy did not improve from 0.85616\n",
            "834/834 [==============================] - 6s 7ms/step - loss: 0.7822 - accuracy: 0.7503 - val_loss: 0.5409 - val_accuracy: 0.8292\n",
            "epoch36\n",
            "827/834 [============================>.] - ETA: 0s - loss: 0.8077 - accuracy: 0.7399\n",
            "Epoch 00001: val_accuracy did not improve from 0.85616\n",
            "834/834 [==============================] - 6s 7ms/step - loss: 0.8067 - accuracy: 0.7403 - val_loss: 0.5377 - val_accuracy: 0.8262\n",
            "epoch37\n",
            "828/834 [============================>.] - ETA: 0s - loss: 0.7566 - accuracy: 0.7605\n",
            "Epoch 00001: val_accuracy did not improve from 0.85616\n",
            "834/834 [==============================] - 6s 7ms/step - loss: 0.7559 - accuracy: 0.7607 - val_loss: 0.4634 - val_accuracy: 0.8432\n",
            "epoch38\n",
            "829/834 [============================>.] - ETA: 0s - loss: 0.7612 - accuracy: 0.7572\n",
            "Epoch 00001: val_accuracy did not improve from 0.85616\n",
            "834/834 [==============================] - 6s 7ms/step - loss: 0.7604 - accuracy: 0.7575 - val_loss: 0.6060 - val_accuracy: 0.8335\n",
            "epoch39\n",
            "828/834 [============================>.] - ETA: 0s - loss: 0.7898 - accuracy: 0.7477\n",
            "Epoch 00001: val_accuracy did not improve from 0.85616\n",
            "834/834 [==============================] - 6s 7ms/step - loss: 0.7890 - accuracy: 0.7480 - val_loss: 0.4490 - val_accuracy: 0.8536\n",
            "epoch40\n",
            "829/834 [============================>.] - ETA: 0s - loss: 0.7266 - accuracy: 0.7682\n",
            "Epoch 00001: val_accuracy improved from 0.85616 to 0.86508, saving model to best_model_adv.h5\n",
            "834/834 [==============================] - 6s 7ms/step - loss: 0.7260 - accuracy: 0.7684 - val_loss: 0.4166 - val_accuracy: 0.8651\n",
            "epoch41\n",
            "828/834 [============================>.] - ETA: 0s - loss: 0.7518 - accuracy: 0.7619\n",
            "Epoch 00001: val_accuracy improved from 0.86508 to 0.86591, saving model to best_model_adv.h5\n",
            "834/834 [==============================] - 6s 7ms/step - loss: 0.7508 - accuracy: 0.7624 - val_loss: 0.4011 - val_accuracy: 0.8659\n",
            "epoch42\n",
            "830/834 [============================>.] - ETA: 0s - loss: 0.7175 - accuracy: 0.7705\n",
            "Epoch 00001: val_accuracy did not improve from 0.86591\n",
            "834/834 [==============================] - 6s 7ms/step - loss: 0.7170 - accuracy: 0.7707 - val_loss: 0.5552 - val_accuracy: 0.8421\n",
            "epoch43\n",
            "827/834 [============================>.] - ETA: 0s - loss: 0.7208 - accuracy: 0.7688\n",
            "Epoch 00001: val_accuracy improved from 0.86591 to 0.87438, saving model to best_model_adv.h5\n",
            "834/834 [==============================] - 6s 7ms/step - loss: 0.7195 - accuracy: 0.7692 - val_loss: 0.3863 - val_accuracy: 0.8744\n",
            "epoch44\n",
            "830/834 [============================>.] - ETA: 0s - loss: 0.8011 - accuracy: 0.7411\n",
            "Epoch 00001: val_accuracy did not improve from 0.87438\n",
            "834/834 [==============================] - 6s 7ms/step - loss: 0.8002 - accuracy: 0.7413 - val_loss: 0.4499 - val_accuracy: 0.8550\n",
            "epoch45\n",
            "830/834 [============================>.] - ETA: 0s - loss: 0.7832 - accuracy: 0.7513\n",
            "Epoch 00001: val_accuracy did not improve from 0.87438\n",
            "834/834 [==============================] - 6s 7ms/step - loss: 0.7825 - accuracy: 0.7515 - val_loss: 0.4388 - val_accuracy: 0.8573\n",
            "epoch46\n",
            "827/834 [============================>.] - ETA: 0s - loss: 0.7131 - accuracy: 0.7746\n",
            "Epoch 00001: val_accuracy did not improve from 0.87438\n",
            "834/834 [==============================] - 6s 7ms/step - loss: 0.7116 - accuracy: 0.7751 - val_loss: 0.3958 - val_accuracy: 0.8718\n",
            "epoch47\n",
            "827/834 [============================>.] - ETA: 0s - loss: 0.7351 - accuracy: 0.7673\n",
            "Epoch 00001: val_accuracy did not improve from 0.87438\n",
            "834/834 [==============================] - 6s 7ms/step - loss: 0.7345 - accuracy: 0.7676 - val_loss: 0.4500 - val_accuracy: 0.8559\n",
            "epoch48\n",
            "832/834 [============================>.] - ETA: 0s - loss: 0.7283 - accuracy: 0.7680\n",
            "Epoch 00001: val_accuracy did not improve from 0.87438\n",
            "834/834 [==============================] - 6s 7ms/step - loss: 0.7284 - accuracy: 0.7680 - val_loss: 0.4183 - val_accuracy: 0.8595\n",
            "epoch49\n",
            "832/834 [============================>.] - ETA: 0s - loss: 0.7170 - accuracy: 0.7708\n",
            "Epoch 00001: val_accuracy did not improve from 0.87438\n",
            "834/834 [==============================] - 6s 7ms/step - loss: 0.7167 - accuracy: 0.7709 - val_loss: 0.3949 - val_accuracy: 0.8737\n"
          ],
          "name": "stdout"
        }
      ]
    },
    {
      "cell_type": "code",
      "metadata": {
        "colab": {
          "base_uri": "https://localhost:8080/"
        },
        "id": "3C0U4GZcF7F4",
        "outputId": "e91261f2-d68a-4e00-8035-69f8d5a9c952"
      },
      "source": [
        "for i in range(1, 30):\r\n",
        "  print('epoch'+str(i+50))\r\n",
        "\r\n",
        "  history_adv = model_adv.fit(np.array(x_train_mixed).reshape(-1,32,32,3), np.array(y_train_mixed), epochs=1, batch_size=64,verbose=1,validation_split = 0.2,callbacks=[es,mc,rlrop])\r\n",
        "\r\n",
        "\r\n",
        "  x_adversarial_train, y_adversarial_train = generate_adversarials_train_FGSM(n_examples, eps,model_adv)\r\n",
        "  \r\n",
        "  history_dict = history_adv.history\r\n",
        "  courbes.append(history_dict['loss'])\r\n",
        "  val_courbes.append(history_dict['val_loss'])\r\n",
        "  ## portion of  regular examples\r\n",
        "  indexes = np.random.choice(x_train.shape[0],2*x_train.shape[0]//3)\r\n",
        "  x_regular = x_train[indexes]\r\n",
        "  y_regular = y_train[indexes]\r\n",
        "  ## prepare data for next epoch\r\n",
        "  x_train_mixed = np.concatenate([x_regular,x_adversarial_train],axis = 0)\r\n",
        "  y_train_mixed = np.concatenate([y_regular,y_adversarial_train],axis = 0)\r\n",
        "  x_train_mixed,y_train_mixed = shuffle(x_train_mixed,y_train_mixed, random_state = 0)"
      ],
      "execution_count": null,
      "outputs": [
        {
          "output_type": "stream",
          "text": [
            "epoch51\n",
            "827/834 [============================>.] - ETA: 0s - loss: 0.9301 - accuracy: 0.7030\n",
            "Epoch 00001: val_accuracy did not improve from 0.87438\n",
            "834/834 [==============================] - 6s 7ms/step - loss: 0.9283 - accuracy: 0.7036 - val_loss: 0.4473 - val_accuracy: 0.8559\n",
            "epoch52\n",
            "829/834 [============================>.] - ETA: 0s - loss: 0.8246 - accuracy: 0.7412\n",
            "Epoch 00001: val_accuracy did not improve from 0.87438\n",
            "834/834 [==============================] - 6s 7ms/step - loss: 0.8237 - accuracy: 0.7415 - val_loss: 0.4809 - val_accuracy: 0.8443\n",
            "epoch53\n",
            "829/834 [============================>.] - ETA: 0s - loss: 0.8577 - accuracy: 0.7252\n",
            "Epoch 00001: val_accuracy did not improve from 0.87438\n",
            "834/834 [==============================] - 6s 7ms/step - loss: 0.8578 - accuracy: 0.7252 - val_loss: 0.5601 - val_accuracy: 0.8248\n",
            "epoch54\n",
            "827/834 [============================>.] - ETA: 0s - loss: 0.8305 - accuracy: 0.7359\n",
            "Epoch 00001: val_accuracy did not improve from 0.87438\n",
            "834/834 [==============================] - 6s 7ms/step - loss: 0.8304 - accuracy: 0.7359 - val_loss: 0.5960 - val_accuracy: 0.8163\n",
            "epoch55\n",
            "833/834 [============================>.] - ETA: 0s - loss: 0.8442 - accuracy: 0.7297\n",
            "Epoch 00001: val_accuracy did not improve from 0.87438\n",
            "834/834 [==============================] - 6s 7ms/step - loss: 0.8442 - accuracy: 0.7297 - val_loss: 0.4777 - val_accuracy: 0.8460\n",
            "epoch56\n",
            "832/834 [============================>.] - ETA: 0s - loss: 0.8853 - accuracy: 0.7157\n",
            "Epoch 00001: val_accuracy did not improve from 0.87438\n",
            "834/834 [==============================] - 6s 7ms/step - loss: 0.8856 - accuracy: 0.7156 - val_loss: 0.5947 - val_accuracy: 0.8074\n",
            "epoch57\n",
            "833/834 [============================>.] - ETA: 0s - loss: 0.8264 - accuracy: 0.7325\n",
            "Epoch 00001: val_accuracy did not improve from 0.87438\n",
            "834/834 [==============================] - 6s 7ms/step - loss: 0.8263 - accuracy: 0.7325 - val_loss: 0.4930 - val_accuracy: 0.8422\n",
            "epoch58\n",
            "826/834 [============================>.] - ETA: 0s - loss: 0.8307 - accuracy: 0.7368\n",
            "Epoch 00001: val_accuracy did not improve from 0.87438\n",
            "834/834 [==============================] - 6s 7ms/step - loss: 0.8291 - accuracy: 0.7373 - val_loss: 0.5733 - val_accuracy: 0.8299\n",
            "epoch59\n",
            "832/834 [============================>.] - ETA: 0s - loss: 0.8424 - accuracy: 0.7310\n",
            "Epoch 00001: val_accuracy did not improve from 0.87438\n",
            "834/834 [==============================] - 6s 7ms/step - loss: 0.8422 - accuracy: 0.7311 - val_loss: 0.4592 - val_accuracy: 0.8494\n",
            "epoch60\n",
            "833/834 [============================>.] - ETA: 0s - loss: 0.8671 - accuracy: 0.7247\n",
            "Epoch 00001: val_accuracy did not improve from 0.87438\n",
            "834/834 [==============================] - 6s 7ms/step - loss: 0.8670 - accuracy: 0.7247 - val_loss: 0.5065 - val_accuracy: 0.8402\n",
            "epoch61\n",
            "827/834 [============================>.] - ETA: 0s - loss: 0.7733 - accuracy: 0.7544\n",
            "Epoch 00001: val_accuracy did not improve from 0.87438\n",
            "834/834 [==============================] - 6s 7ms/step - loss: 0.7723 - accuracy: 0.7546 - val_loss: 0.4435 - val_accuracy: 0.8623\n",
            "epoch62\n",
            "828/834 [============================>.] - ETA: 0s - loss: 0.8032 - accuracy: 0.7443\n",
            "Epoch 00001: val_accuracy did not improve from 0.87438\n",
            "834/834 [==============================] - 6s 7ms/step - loss: 0.8021 - accuracy: 0.7448 - val_loss: 0.4421 - val_accuracy: 0.8625\n",
            "epoch63\n",
            "828/834 [============================>.] - ETA: 0s - loss: 0.8141 - accuracy: 0.7451\n",
            "Epoch 00001: val_accuracy did not improve from 0.87438\n",
            "834/834 [==============================] - 6s 7ms/step - loss: 0.8135 - accuracy: 0.7452 - val_loss: 0.4334 - val_accuracy: 0.8616\n",
            "epoch64\n",
            "830/834 [============================>.] - ETA: 0s - loss: 0.7723 - accuracy: 0.7553\n",
            "Epoch 00001: val_accuracy did not improve from 0.87438\n",
            "834/834 [==============================] - 6s 7ms/step - loss: 0.7716 - accuracy: 0.7555 - val_loss: 0.4542 - val_accuracy: 0.8571\n",
            "epoch65\n",
            "830/834 [============================>.] - ETA: 0s - loss: 0.7620 - accuracy: 0.7597\n",
            "Epoch 00001: val_accuracy did not improve from 0.87438\n",
            "834/834 [==============================] - 6s 7ms/step - loss: 0.7620 - accuracy: 0.7596 - val_loss: 0.4688 - val_accuracy: 0.8520\n",
            "epoch66\n",
            "831/834 [============================>.] - ETA: 0s - loss: 0.7673 - accuracy: 0.7570\n",
            "Epoch 00001: val_accuracy did not improve from 0.87438\n",
            "834/834 [==============================] - 6s 7ms/step - loss: 0.7670 - accuracy: 0.7571 - val_loss: 0.5083 - val_accuracy: 0.8397\n",
            "epoch67\n",
            "831/834 [============================>.] - ETA: 0s - loss: 0.7738 - accuracy: 0.7531\n",
            "Epoch 00001: val_accuracy did not improve from 0.87438\n",
            "834/834 [==============================] - 6s 7ms/step - loss: 0.7736 - accuracy: 0.7532 - val_loss: 0.4116 - val_accuracy: 0.8697\n",
            "epoch68\n",
            "832/834 [============================>.] - ETA: 0s - loss: 0.8172 - accuracy: 0.7400\n",
            "Epoch 00001: val_accuracy did not improve from 0.87438\n",
            "834/834 [==============================] - 6s 7ms/step - loss: 0.8168 - accuracy: 0.7402 - val_loss: 0.4554 - val_accuracy: 0.8613\n",
            "epoch69\n",
            "831/834 [============================>.] - ETA: 0s - loss: 0.7661 - accuracy: 0.7567\n",
            "Epoch 00001: val_accuracy did not improve from 0.87438\n",
            "834/834 [==============================] - 6s 7ms/step - loss: 0.7662 - accuracy: 0.7565 - val_loss: 3.6417 - val_accuracy: 0.3514\n",
            "epoch70\n",
            "827/834 [============================>.] - ETA: 0s - loss: 0.8938 - accuracy: 0.7048\n",
            "Epoch 00001: val_accuracy did not improve from 0.87438\n",
            "834/834 [==============================] - 6s 7ms/step - loss: 0.8931 - accuracy: 0.7050 - val_loss: 0.5473 - val_accuracy: 0.8214\n",
            "epoch71\n",
            "828/834 [============================>.] - ETA: 0s - loss: 1.0014 - accuracy: 0.6694\n",
            "Epoch 00001: val_accuracy did not improve from 0.87438\n",
            "834/834 [==============================] - 6s 7ms/step - loss: 1.0010 - accuracy: 0.6694 - val_loss: 0.6378 - val_accuracy: 0.7894\n",
            "epoch72\n",
            "826/834 [============================>.] - ETA: 0s - loss: 0.9155 - accuracy: 0.7065\n",
            "Epoch 00001: val_accuracy did not improve from 0.87438\n",
            "834/834 [==============================] - 6s 7ms/step - loss: 0.9142 - accuracy: 0.7067 - val_loss: 0.6783 - val_accuracy: 0.7854\n",
            "epoch73\n",
            "829/834 [============================>.] - ETA: 0s - loss: 0.8625 - accuracy: 0.7219\n",
            "Epoch 00001: val_accuracy did not improve from 0.87438\n",
            "834/834 [==============================] - 6s 7ms/step - loss: 0.8622 - accuracy: 0.7220 - val_loss: 0.5844 - val_accuracy: 0.8100\n",
            "epoch74\n",
            "827/834 [============================>.] - ETA: 0s - loss: 0.8019 - accuracy: 0.7420\n",
            "Epoch 00001: val_accuracy did not improve from 0.87438\n",
            "834/834 [==============================] - 6s 7ms/step - loss: 0.8016 - accuracy: 0.7422 - val_loss: 0.5280 - val_accuracy: 0.8322\n",
            "epoch75\n",
            "833/834 [============================>.] - ETA: 0s - loss: 0.8394 - accuracy: 0.7280\n",
            "Epoch 00001: val_accuracy did not improve from 0.87438\n",
            "834/834 [==============================] - 6s 7ms/step - loss: 0.8393 - accuracy: 0.7281 - val_loss: 0.5064 - val_accuracy: 0.8339\n",
            "epoch76\n",
            "832/834 [============================>.] - ETA: 0s - loss: 0.7458 - accuracy: 0.7601\n",
            "Epoch 00001: val_accuracy did not improve from 0.87438\n",
            "834/834 [==============================] - 6s 7ms/step - loss: 0.7460 - accuracy: 0.7601 - val_loss: 0.4696 - val_accuracy: 0.8466\n",
            "epoch77\n",
            "833/834 [============================>.] - ETA: 0s - loss: 0.7521 - accuracy: 0.7618\n",
            "Epoch 00001: val_accuracy did not improve from 0.87438\n",
            "834/834 [==============================] - 6s 7ms/step - loss: 0.7520 - accuracy: 0.7618 - val_loss: 0.4814 - val_accuracy: 0.8551\n",
            "epoch78\n",
            "833/834 [============================>.] - ETA: 0s - loss: 0.7843 - accuracy: 0.7511\n",
            "Epoch 00001: val_accuracy did not improve from 0.87438\n",
            "834/834 [==============================] - 6s 7ms/step - loss: 0.7842 - accuracy: 0.7511 - val_loss: 0.5015 - val_accuracy: 0.8401\n",
            "epoch79\n",
            "828/834 [============================>.] - ETA: 0s - loss: 0.7649 - accuracy: 0.7611\n",
            "Epoch 00001: val_accuracy did not improve from 0.87438\n",
            "834/834 [==============================] - 6s 7ms/step - loss: 0.7643 - accuracy: 0.7611 - val_loss: 0.4556 - val_accuracy: 0.8538\n"
          ],
          "name": "stdout"
        }
      ]
    },
    {
      "cell_type": "code",
      "metadata": {
        "colab": {
          "base_uri": "https://localhost:8080/"
        },
        "id": "IPpajJg2HtQO",
        "outputId": "5d301635-1daa-45e7-c701-6bd7f186fcc2"
      },
      "source": [
        "for i in range(1, 30):\r\n",
        "  print('epoch'+str(i+80))\r\n",
        "\r\n",
        "  history_adv = model_adv.fit(np.array(x_train_mixed).reshape(-1,32,32,3), np.array(y_train_mixed), epochs=1, batch_size=64,verbose=1,validation_split = 0.2,callbacks=[es,mc,rlrop])\r\n",
        "\r\n",
        "\r\n",
        "  x_adversarial_train, y_adversarial_train = generate_adversarials_train_FGSM(n_examples, eps,model_adv)\r\n",
        "  \r\n",
        "  history_dict = history_adv.history\r\n",
        "  courbes.append(history_dict['loss'])\r\n",
        "  val_courbes.append(history_dict['val_loss'])\r\n",
        "  ## portion of  regular examples\r\n",
        "  indexes = np.random.choice(x_train.shape[0],2*x_train.shape[0]//3)\r\n",
        "  x_regular = x_train[indexes]\r\n",
        "  y_regular = y_train[indexes]\r\n",
        "  ## prepare data for next epoch\r\n",
        "  x_train_mixed = np.concatenate([x_regular,x_adversarial_train],axis = 0)\r\n",
        "  y_train_mixed = np.concatenate([y_regular,y_adversarial_train],axis = 0)\r\n",
        "  x_train_mixed,y_train_mixed = shuffle(x_train_mixed,y_train_mixed, random_state = 0)"
      ],
      "execution_count": null,
      "outputs": [
        {
          "output_type": "stream",
          "text": [
            "epoch81\n",
            "829/834 [============================>.] - ETA: 0s - loss: 0.7160 - accuracy: 0.7755\n",
            "Epoch 00001: val_accuracy did not improve from 0.87438\n",
            "834/834 [==============================] - 6s 7ms/step - loss: 0.7163 - accuracy: 0.7754 - val_loss: 0.4435 - val_accuracy: 0.8709\n",
            "epoch82\n",
            "829/834 [============================>.] - ETA: 0s - loss: 0.7804 - accuracy: 0.7539\n",
            "Epoch 00001: val_accuracy did not improve from 0.87438\n",
            "834/834 [==============================] - 6s 7ms/step - loss: 0.7795 - accuracy: 0.7541 - val_loss: 0.4957 - val_accuracy: 0.8460\n",
            "epoch83\n",
            "826/834 [============================>.] - ETA: 0s - loss: 0.7558 - accuracy: 0.7646\n",
            "Epoch 00001: val_accuracy did not improve from 0.87438\n",
            "834/834 [==============================] - 6s 7ms/step - loss: 0.7549 - accuracy: 0.7648 - val_loss: 0.4707 - val_accuracy: 0.8561\n",
            "epoch84\n",
            "829/834 [============================>.] - ETA: 0s - loss: 0.7477 - accuracy: 0.7647\n",
            "Epoch 00001: val_accuracy did not improve from 0.87438\n",
            "834/834 [==============================] - 6s 7ms/step - loss: 0.7474 - accuracy: 0.7649 - val_loss: 0.4324 - val_accuracy: 0.8670\n",
            "epoch85\n",
            "832/834 [============================>.] - ETA: 0s - loss: 0.7491 - accuracy: 0.7674\n",
            "Epoch 00001: val_accuracy did not improve from 0.87438\n",
            "834/834 [==============================] - 6s 7ms/step - loss: 0.7493 - accuracy: 0.7674 - val_loss: 0.4644 - val_accuracy: 0.8517\n",
            "epoch86\n",
            "827/834 [============================>.] - ETA: 0s - loss: 0.7379 - accuracy: 0.7704\n",
            "Epoch 00001: val_accuracy improved from 0.87438 to 0.87446, saving model to best_model_adv.h5\n",
            "834/834 [==============================] - 6s 7ms/step - loss: 0.7368 - accuracy: 0.7708 - val_loss: 0.3975 - val_accuracy: 0.8745\n",
            "epoch87\n",
            "828/834 [============================>.] - ETA: 0s - loss: 0.7442 - accuracy: 0.7681\n",
            "Epoch 00001: val_accuracy did not improve from 0.87446\n",
            "834/834 [==============================] - 6s 7ms/step - loss: 0.7439 - accuracy: 0.7682 - val_loss: 0.4644 - val_accuracy: 0.8561\n",
            "epoch88\n",
            "833/834 [============================>.] - ETA: 0s - loss: 0.7366 - accuracy: 0.7701\n",
            "Epoch 00001: val_accuracy did not improve from 0.87446\n",
            "834/834 [==============================] - 6s 7ms/step - loss: 0.7370 - accuracy: 0.7700 - val_loss: 0.4554 - val_accuracy: 0.8555\n",
            "epoch89\n",
            "832/834 [============================>.] - ETA: 0s - loss: 0.8403 - accuracy: 0.7353\n",
            "Epoch 00001: val_accuracy did not improve from 0.87446\n",
            "834/834 [==============================] - 6s 7ms/step - loss: 0.8405 - accuracy: 0.7352 - val_loss: 0.5537 - val_accuracy: 0.8238\n",
            "epoch90\n",
            "831/834 [============================>.] - ETA: 0s - loss: 0.7272 - accuracy: 0.7692\n",
            "Epoch 00001: val_accuracy did not improve from 0.87446\n",
            "834/834 [==============================] - 6s 7ms/step - loss: 0.7271 - accuracy: 0.7691 - val_loss: 0.4146 - val_accuracy: 0.8664\n",
            "epoch91\n",
            "828/834 [============================>.] - ETA: 0s - loss: 0.7218 - accuracy: 0.7726\n",
            "Epoch 00001: val_accuracy did not improve from 0.87446\n",
            "834/834 [==============================] - 6s 7ms/step - loss: 0.7211 - accuracy: 0.7729 - val_loss: 0.4533 - val_accuracy: 0.8664\n",
            "epoch92\n",
            "828/834 [============================>.] - ETA: 0s - loss: 0.8000 - accuracy: 0.7454\n",
            "Epoch 00001: val_accuracy did not improve from 0.87446\n",
            "834/834 [==============================] - 6s 7ms/step - loss: 0.7993 - accuracy: 0.7456 - val_loss: 0.4601 - val_accuracy: 0.8518\n",
            "epoch93\n",
            "828/834 [============================>.] - ETA: 0s - loss: 0.7141 - accuracy: 0.7759\n",
            "Epoch 00001: val_accuracy did not improve from 0.87446\n",
            "834/834 [==============================] - 6s 7ms/step - loss: 0.7138 - accuracy: 0.7761 - val_loss: 0.4087 - val_accuracy: 0.8661\n",
            "epoch94\n",
            "829/834 [============================>.] - ETA: 0s - loss: 0.7651 - accuracy: 0.7633\n",
            "Epoch 00001: val_accuracy improved from 0.87446 to 0.87723, saving model to best_model_adv.h5\n",
            "834/834 [==============================] - 6s 7ms/step - loss: 0.7643 - accuracy: 0.7635 - val_loss: 0.3852 - val_accuracy: 0.8772\n",
            "epoch95\n",
            "833/834 [============================>.] - ETA: 0s - loss: 0.7353 - accuracy: 0.7688\n",
            "Epoch 00001: val_accuracy did not improve from 0.87723\n",
            "834/834 [==============================] - 6s 7ms/step - loss: 0.7355 - accuracy: 0.7687 - val_loss: 0.4372 - val_accuracy: 0.8571\n",
            "epoch96\n",
            "827/834 [============================>.] - ETA: 0s - loss: 0.7883 - accuracy: 0.7551\n",
            "Epoch 00001: val_accuracy did not improve from 0.87723\n",
            "834/834 [==============================] - 6s 7ms/step - loss: 0.7879 - accuracy: 0.7553 - val_loss: 0.4517 - val_accuracy: 0.8514\n",
            "epoch97\n",
            "826/834 [============================>.] - ETA: 0s - loss: 0.7585 - accuracy: 0.7618\n",
            "Epoch 00001: val_accuracy improved from 0.87723 to 0.87911, saving model to best_model_adv.h5\n",
            "834/834 [==============================] - 6s 7ms/step - loss: 0.7581 - accuracy: 0.7620 - val_loss: 0.3754 - val_accuracy: 0.8791\n",
            "epoch98\n",
            "833/834 [============================>.] - ETA: 0s - loss: 0.7741 - accuracy: 0.7579\n",
            "Epoch 00001: val_accuracy did not improve from 0.87911\n",
            "834/834 [==============================] - 6s 7ms/step - loss: 0.7741 - accuracy: 0.7579 - val_loss: 0.4093 - val_accuracy: 0.8697\n",
            "epoch99\n",
            "828/834 [============================>.] - ETA: 0s - loss: 0.7127 - accuracy: 0.7757\n",
            "Epoch 00001: val_accuracy did not improve from 0.87911\n",
            "834/834 [==============================] - 6s 7ms/step - loss: 0.7121 - accuracy: 0.7758 - val_loss: 0.3853 - val_accuracy: 0.8767\n",
            "epoch100\n",
            "827/834 [============================>.] - ETA: 0s - loss: 0.7187 - accuracy: 0.7768\n",
            "Epoch 00001: val_accuracy did not improve from 0.87911\n",
            "834/834 [==============================] - 6s 7ms/step - loss: 0.7179 - accuracy: 0.7770 - val_loss: 0.4186 - val_accuracy: 0.8745\n",
            "epoch101\n",
            "833/834 [============================>.] - ETA: 0s - loss: 0.7224 - accuracy: 0.7750\n",
            "Epoch 00001: val_accuracy did not improve from 0.87911\n",
            "834/834 [==============================] - 6s 7ms/step - loss: 0.7225 - accuracy: 0.7750 - val_loss: 0.9359 - val_accuracy: 0.8746\n",
            "epoch102\n",
            "833/834 [============================>.] - ETA: 0s - loss: 0.7483 - accuracy: 0.7659\n",
            "Epoch 00001: val_accuracy did not improve from 0.87911\n",
            "834/834 [==============================] - 6s 7ms/step - loss: 0.7483 - accuracy: 0.7660 - val_loss: 0.5492 - val_accuracy: 0.8323\n",
            "epoch103\n",
            "831/834 [============================>.] - ETA: 0s - loss: 0.7235 - accuracy: 0.7764\n",
            "Epoch 00001: val_accuracy did not improve from 0.87911\n",
            "834/834 [==============================] - 6s 7ms/step - loss: 0.7235 - accuracy: 0.7763 - val_loss: 0.4241 - val_accuracy: 0.8652\n",
            "epoch104\n",
            "831/834 [============================>.] - ETA: 0s - loss: 0.7767 - accuracy: 0.7570\n",
            "Epoch 00001: val_accuracy did not improve from 0.87911\n",
            "834/834 [==============================] - 6s 7ms/step - loss: 0.7767 - accuracy: 0.7569 - val_loss: 0.4720 - val_accuracy: 0.8501\n",
            "epoch105\n",
            "828/834 [============================>.] - ETA: 0s - loss: 0.7814 - accuracy: 0.7550\n",
            "Epoch 00001: val_accuracy did not improve from 0.87911\n",
            "834/834 [==============================] - 6s 7ms/step - loss: 0.7800 - accuracy: 0.7552 - val_loss: 0.4123 - val_accuracy: 0.8716\n",
            "epoch106\n",
            "828/834 [============================>.] - ETA: 0s - loss: 0.8158 - accuracy: 0.7413\n",
            "Epoch 00001: val_accuracy did not improve from 0.87911\n",
            "834/834 [==============================] - 6s 7ms/step - loss: 0.8147 - accuracy: 0.7417 - val_loss: 0.5032 - val_accuracy: 0.8418\n",
            "epoch107\n",
            "833/834 [============================>.] - ETA: 0s - loss: 0.8370 - accuracy: 0.7329\n",
            "Epoch 00001: val_accuracy did not improve from 0.87911\n",
            "834/834 [==============================] - 6s 7ms/step - loss: 0.8369 - accuracy: 0.7329 - val_loss: 0.4792 - val_accuracy: 0.8434\n",
            "epoch108\n",
            "830/834 [============================>.] - ETA: 0s - loss: 0.7405 - accuracy: 0.7673\n",
            "Epoch 00001: val_accuracy did not improve from 0.87911\n",
            "834/834 [==============================] - 6s 7ms/step - loss: 0.7402 - accuracy: 0.7675 - val_loss: 0.4476 - val_accuracy: 0.8575\n",
            "epoch109\n",
            "829/834 [============================>.] - ETA: 0s - loss: 0.6989 - accuracy: 0.7837\n",
            "Epoch 00001: val_accuracy did not improve from 0.87911\n",
            "834/834 [==============================] - 6s 7ms/step - loss: 0.6991 - accuracy: 0.7835 - val_loss: 0.5110 - val_accuracy: 0.8340\n"
          ],
          "name": "stdout"
        }
      ]
    },
    {
      "cell_type": "code",
      "metadata": {
        "colab": {
          "base_uri": "https://localhost:8080/",
          "height": 283
        },
        "id": "qN1XY0QxhnMp",
        "outputId": "7ad30962-2c4f-4f5d-d1e7-1fca2ce513b5"
      },
      "source": [
        "plt.plot(courbes)"
      ],
      "execution_count": null,
      "outputs": [
        {
          "output_type": "execute_result",
          "data": {
            "text/plain": [
              "[<matplotlib.lines.Line2D at 0x7feceb8356a0>]"
            ]
          },
          "metadata": {
            "tags": []
          },
          "execution_count": 58
        },
        {
          "output_type": "display_data",
          "data": {
            "image/png": "[encoded data removed]",
            "text/plain": [
              "<Figure size 432x288 with 1 Axes>"
            ]
          },
          "metadata": {
            "tags": [],
            "needs_background": "light"
          }
        }
      ]
    },
    {
      "cell_type": "code",
      "metadata": {
        "colab": {
          "base_uri": "https://localhost:8080/",
          "height": 283
        },
        "id": "lZnTODfC4Fnk",
        "outputId": "b3fc90fb-3b0c-49a3-95d8-81ca9be1acc1"
      },
      "source": [
        "plt.plot(val_courbes)\n"
      ],
      "execution_count": null,
      "outputs": [
        {
          "output_type": "execute_result",
          "data": {
            "text/plain": [
              "[<matplotlib.lines.Line2D at 0x7feceb7b0978>]"
            ]
          },
          "metadata": {
            "tags": []
          },
          "execution_count": 59
        },
        {
          "output_type": "display_data",
          "data": {
            "image/png": "[encoded data removed]",
            "text/plain": [
              "<Figure size 432x288 with 1 Axes>"
            ]
          },
          "metadata": {
            "tags": [],
            "needs_background": "light"
          }
        }
      ]
    },
    {
      "cell_type": "code",
      "metadata": {
        "colab": {
          "base_uri": "https://localhost:8080/"
        },
        "id": "qbeT8GWcmoB1",
        "outputId": "2410b1d3-da9b-4b8d-9c69-00f3cf0edb59"
      },
      "source": [
        "print(\"Defended accuracy on regular images:\", model_adv.evaluate(x=x_test, y=y_test, verbose=0)[1])"
      ],
      "execution_count": null,
      "outputs": [
        {
          "output_type": "stream",
          "text": [
            "Defended accuracy on regular images: 0.7731000185012817\n"
          ],
          "name": "stdout"
        }
      ]
    },
    {
      "cell_type": "code",
      "metadata": {
        "id": "pOLY5-ZzIGmv"
      },
      "source": [
        "batch_size = 10000\n",
        "eps = 0.03\n",
        "x_adversarial_new, y_adversarial_new = generate_adversarials_test_FGSM(batch_size, eps,model_adv)\n",
        "\n"
      ],
      "execution_count": null,
      "outputs": []
    },
    {
      "cell_type": "code",
      "metadata": {
        "colab": {
          "base_uri": "https://localhost:8080/"
        },
        "id": "zFXbYArYM94q",
        "outputId": "7bd50ac8-587e-4cc4-9c58-c40fb76d777b"
      },
      "source": [
        "print(\"Defended accuracy on adversarial images:\", model_adv.evaluate(x=np.array(x_adversarial_new).reshape(-1,32,32,3), y=np.array(y_adversarial_new), verbose=0)[1])"
      ],
      "execution_count": null,
      "outputs": [
        {
          "output_type": "stream",
          "text": [
            "Defended accuracy on adversarial images: 0.2152000069618225\n"
          ],
          "name": "stdout"
        }
      ]
    },
    {
      "cell_type": "markdown",
      "metadata": {
        "id": "3eZ2KmQGmllJ"
      },
      "source": [
        "Results of adversarial training : \n",
        "* The accuracy on regular test images is a little less that the accuracy  obtained by normal neural network. <br>\n",
        "* The accuracy on adversarial test images  was significantly improved "
      ]
    },
    {
      "cell_type": "markdown",
      "metadata": {
        "id": "FO378DX8GcKS"
      },
      "source": [
        "Defended accuracy as a function of epsilon"
      ]
    },
    {
      "cell_type": "code",
      "metadata": {
        "id": "xcn2N9qADZjW",
        "colab": {
          "base_uri": "https://localhost:8080/",
          "height": 295
        },
        "outputId": "c1a0120b-6cae-468e-8f18-671d2b0e85b6"
      },
      "source": [
        "\n",
        "batch_size = 10000\n",
        "accuracies = []\n",
        "for eps in epsilons2 :\n",
        "  x_adversarial_test, y_adversarial_test = generate_adversarials_test_FGSM(batch_size, eps, model_adv)\n",
        "  accuracy =  model_adv.evaluate(x=np.array(x_adversarial_test).reshape(-1,32,32,3), y=np.array(y_adversarial_test), verbose=0)[1]\n",
        "  accuracies.append(accuracy)\n",
        "plt.plot(epsilons2,accuracies)\n",
        "plt.xlabel('epsilon') \n",
        "plt.ylabel('accuracy')\n",
        "plt.title('Accuracy on adversarial examples generated by baseline model (FGSM) with respect to epsilon with adversarial training')\n",
        "\n",
        "plt.show()\n"
      ],
      "execution_count": null,
      "outputs": [
        {
          "output_type": "display_data",
          "data": {
            "image/png": "[encoded data removed]",
            "text/plain": [
              "<Figure size 432x288 with 1 Axes>"
            ]
          },
          "metadata": {
            "tags": [],
            "needs_background": "light"
          }
        }
      ]
    },
    {
      "cell_type": "code",
      "metadata": {
        "colab": {
          "base_uri": "https://localhost:8080/",
          "height": 265
        },
        "id": "-om5-qM2Bxbc",
        "outputId": "af465a19-eb6f-4380-f106-bf53f752df72"
      },
      "source": [
        "plt.plot(epsilons2,accuracies1,label='without adversarial training, approximately 60 epochs of training')\r\n",
        "plt.plot(epsilons2,accuracies,label = 'with adversarial training, approximately 110 epochs of training')\r\n",
        "plt.legend()\r\n",
        "plt.show()"
      ],
      "execution_count": null,
      "outputs": [
        {
          "output_type": "display_data",
          "data": {
            "image/png": "[encoded data removed]",
            "text/plain": [
              "<Figure size 432x288 with 1 Axes>"
            ]
          },
          "metadata": {
            "tags": [],
            "needs_background": "light"
          }
        }
      ]
    },
    {
      "cell_type": "markdown",
      "metadata": {
        "id": "FRfLufIdG8Mb"
      },
      "source": [
        "# A method for improving the robustness against attacks : Denoising feature maps\n"
      ]
    },
    {
      "cell_type": "markdown",
      "metadata": {
        "id": "hupcmOaGLWbu"
      },
      "source": [
        "Code of denoising blocks is taken from this official repo : https://github.com/facebookresearch/ImageNet-Adversarial-Training/blob/master/resnet_model.py"
      ]
    },
    {
      "cell_type": "markdown",
      "metadata": {
        "id": "m2MB5294H3kP"
      },
      "source": [
        "Define the model with one denoising block after the  first convolution, It is the model we want to attack"
      ]
    },
    {
      "cell_type": "code",
      "metadata": {
        "id": "lBKvrQ0C1XJW"
      },
      "source": [
        "def build_model_denois(input_shape):\n",
        "  input = keras.Input(shape=input_shape, name='input')\n",
        "  x = Conv2D(32, (3, 3), activation='relu', kernel_initializer='he_uniform', padding='same')(input)\n",
        "  x = BatchNormalization()(x)\n",
        "    # ###denoising block\n",
        "  f = non_local_op(x, embed=False, softmax=False)\n",
        "  f = Conv2D(x.shape[1], 1, strides=1, activation='relu')(f)\n",
        "  \n",
        "  y = tf.keras.layers.Add()([f, x])\n",
        "  y = BatchNormalization()(y)\n",
        "  \n",
        "  # ##################\n",
        "  x = Conv2D(32, (3, 3), activation='relu', kernel_initializer='he_uniform', padding='same')(y)\n",
        "  x = BatchNormalization()(x)\n",
        "  \n",
        "  y = MaxPooling2D((2, 2))(x)\n",
        "  y = Dropout(0.3)(y)\n",
        "\n",
        "  x = Conv2D(64, (3, 3), activation='relu', kernel_initializer='he_uniform', padding='same')(y)\n",
        "  x = BatchNormalization()(x)\n",
        "  x = Conv2D(64, (3, 3), activation='relu', kernel_initializer='he_uniform', padding='same')(x)\n",
        "  x = BatchNormalization()(x)\n",
        "\n",
        "  y = MaxPooling2D((2, 2))(x)\n",
        "  y = Dropout(0.3)(y)\n",
        "\n",
        "\n",
        "  z = Conv2D(128, (3, 3), activation='relu', kernel_initializer='he_uniform', padding='same')(y)\n",
        "  z = BatchNormalization()(z)\n",
        "  z = Conv2D(128, (3, 3), activation='relu', kernel_initializer='he_uniform', padding='same')(z)\n",
        "  z = BatchNormalization()(z)\n",
        "\n",
        "  y = MaxPooling2D((2, 2))(z)\n",
        "  y = Dropout(0.3)(y)\n",
        "  y = Flatten()(y)\n",
        "  y = Dense(128, activation='relu', kernel_initializer='he_uniform')(y)\n",
        "  y = Dropout(0.3)(y)\n",
        "  y = Dense(10, activation='softmax')(y)\n",
        "  model = keras.Model(inputs=input, outputs=y)\n",
        "  opt = SGD(lr=0.01, momentum=0.9)\n",
        "  op = Adam(lr=0.01)\n",
        "  model.compile(optimizer=op, loss='categorical_crossentropy', metrics=['accuracy'])\n",
        "\n",
        "  return model"
      ],
      "execution_count": null,
      "outputs": []
    },
    {
      "cell_type": "code",
      "metadata": {
        "id": "R5fBUD3P4Siz"
      },
      "source": [
        "##  a portion of adversarial\r\n",
        "\r\n",
        "n_examples = 2*x_train.shape[0]//3\r\n",
        "eps = 0.03\r\n",
        "x_adversarial_train, y_adversarial_train = generate_adversarials_train_FGSM(n_examples, eps,model)\r\n",
        "\r\n",
        "## portion of  regular examples\r\n",
        "indexes = np.random.choice(x_train.shape[0],2*x_train.shape[0]//3)\r\n",
        "x_regular = x_train[indexes]\r\n",
        "y_regular = y_train[indexes]\r\n",
        "x_train_mixed = np.concatenate([x_regular,x_adversarial_train],axis = 0)\r\n",
        "y_train_mixed = np.concatenate([y_regular,y_adversarial_train],axis = 0)\r\n",
        "from sklearn.utils import shuffle\r\n",
        "x_train_mixed,y_train_mixed = shuffle(x_train_mixed,y_train_mixed, random_state = 0)"
      ],
      "execution_count": null,
      "outputs": []
    },
    {
      "cell_type": "code",
      "metadata": {
        "id": "TTY9Gm1B5bC7"
      },
      "source": [
        "\r\n",
        "denoised = build_model_denois(input_shape)"
      ],
      "execution_count": null,
      "outputs": []
    },
    {
      "cell_type": "code",
      "metadata": {
        "colab": {
          "base_uri": "https://localhost:8080/"
        },
        "id": "sJPwmPYG5cy9",
        "outputId": "47529a93-81bc-44ab-d0b8-93579c1cf1dd"
      },
      "source": [
        "denoised.summary()"
      ],
      "execution_count": null,
      "outputs": [
        {
          "output_type": "stream",
          "text": [
            "Model: \"functional_1\"\n",
            "__________________________________________________________________________________________________\n",
            "Layer (type)                    Output Shape         Param #     Connected to                     \n",
            "==================================================================================================\n",
            "input (InputLayer)              [(None, 32, 32, 3)]  0                                            \n",
            "__________________________________________________________________________________________________\n",
            "conv2d_6 (Conv2D)               (None, 32, 32, 32)   896         input[0][0]                      \n",
            "__________________________________________________________________________________________________\n",
            "batch_normalization_6 (BatchNor (None, 32, 32, 32)   128         conv2d_6[0][0]                   \n",
            "__________________________________________________________________________________________________\n",
            "tf_op_layer_Einsum (TensorFlowO [(None, 32, 32)]     0           batch_normalization_6[0][0]      \n",
            "                                                                 batch_normalization_6[0][0]      \n",
            "__________________________________________________________________________________________________\n",
            "tf_op_layer_Einsum_1 (TensorFlo [(None, 32, 32, 32)] 0           tf_op_layer_Einsum[0][0]         \n",
            "                                                                 batch_normalization_6[0][0]      \n",
            "__________________________________________________________________________________________________\n",
            "tf_op_layer_RealDiv (TensorFlow [(None, 32, 32, 32)] 0           tf_op_layer_Einsum_1[0][0]       \n",
            "__________________________________________________________________________________________________\n",
            "tf_op_layer_Shape (TensorFlowOp [(4,)]               0           batch_normalization_6[0][0]      \n",
            "__________________________________________________________________________________________________\n",
            "tf_op_layer_Reshape (TensorFlow [(None, 32, 32, 32)] 0           tf_op_layer_RealDiv[0][0]        \n",
            "                                                                 tf_op_layer_Shape[0][0]          \n",
            "__________________________________________________________________________________________________\n",
            "conv2d_7 (Conv2D)               (None, 32, 32, 32)   1056        tf_op_layer_Reshape[0][0]        \n",
            "__________________________________________________________________________________________________\n",
            "add (Add)                       (None, 32, 32, 32)   0           conv2d_7[0][0]                   \n",
            "                                                                 batch_normalization_6[0][0]      \n",
            "__________________________________________________________________________________________________\n",
            "batch_normalization_7 (BatchNor (None, 32, 32, 32)   128         add[0][0]                        \n",
            "__________________________________________________________________________________________________\n",
            "conv2d_8 (Conv2D)               (None, 32, 32, 32)   9248        batch_normalization_7[0][0]      \n",
            "__________________________________________________________________________________________________\n",
            "batch_normalization_8 (BatchNor (None, 32, 32, 32)   128         conv2d_8[0][0]                   \n",
            "__________________________________________________________________________________________________\n",
            "max_pooling2d_3 (MaxPooling2D)  (None, 16, 16, 32)   0           batch_normalization_8[0][0]      \n",
            "__________________________________________________________________________________________________\n",
            "dropout_4 (Dropout)             (None, 16, 16, 32)   0           max_pooling2d_3[0][0]            \n",
            "__________________________________________________________________________________________________\n",
            "conv2d_9 (Conv2D)               (None, 16, 16, 64)   18496       dropout_4[0][0]                  \n",
            "__________________________________________________________________________________________________\n",
            "batch_normalization_9 (BatchNor (None, 16, 16, 64)   256         conv2d_9[0][0]                   \n",
            "__________________________________________________________________________________________________\n",
            "conv2d_10 (Conv2D)              (None, 16, 16, 64)   36928       batch_normalization_9[0][0]      \n",
            "__________________________________________________________________________________________________\n",
            "batch_normalization_10 (BatchNo (None, 16, 16, 64)   256         conv2d_10[0][0]                  \n",
            "__________________________________________________________________________________________________\n",
            "max_pooling2d_4 (MaxPooling2D)  (None, 8, 8, 64)     0           batch_normalization_10[0][0]     \n",
            "__________________________________________________________________________________________________\n",
            "dropout_5 (Dropout)             (None, 8, 8, 64)     0           max_pooling2d_4[0][0]            \n",
            "__________________________________________________________________________________________________\n",
            "conv2d_11 (Conv2D)              (None, 8, 8, 128)    73856       dropout_5[0][0]                  \n",
            "__________________________________________________________________________________________________\n",
            "batch_normalization_11 (BatchNo (None, 8, 8, 128)    512         conv2d_11[0][0]                  \n",
            "__________________________________________________________________________________________________\n",
            "conv2d_12 (Conv2D)              (None, 8, 8, 128)    147584      batch_normalization_11[0][0]     \n",
            "__________________________________________________________________________________________________\n",
            "batch_normalization_12 (BatchNo (None, 8, 8, 128)    512         conv2d_12[0][0]                  \n",
            "__________________________________________________________________________________________________\n",
            "max_pooling2d_5 (MaxPooling2D)  (None, 4, 4, 128)    0           batch_normalization_12[0][0]     \n",
            "__________________________________________________________________________________________________\n",
            "dropout_6 (Dropout)             (None, 4, 4, 128)    0           max_pooling2d_5[0][0]            \n",
            "__________________________________________________________________________________________________\n",
            "flatten_1 (Flatten)             (None, 2048)         0           dropout_6[0][0]                  \n",
            "__________________________________________________________________________________________________\n",
            "dense_2 (Dense)                 (None, 128)          262272      flatten_1[0][0]                  \n",
            "__________________________________________________________________________________________________\n",
            "dropout_7 (Dropout)             (None, 128)          0           dense_2[0][0]                    \n",
            "__________________________________________________________________________________________________\n",
            "dense_3 (Dense)                 (None, 10)           1290        dropout_7[0][0]                  \n",
            "==================================================================================================\n",
            "Total params: 553,546\n",
            "Trainable params: 552,586\n",
            "Non-trainable params: 960\n",
            "__________________________________________________________________________________________________\n"
          ],
          "name": "stdout"
        }
      ]
    },
    {
      "cell_type": "code",
      "metadata": {
        "id": "cDzso25A1qB4"
      },
      "source": [
        "\n",
        "rlrop = ReduceLROnPlateau(monitor='val_loss', factor=0.1, patience=5)\n",
        "\n",
        "es = EarlyStopping(monitor='val_loss', mode='min', verbose=1,patience=15)\n",
        "mc = ModelCheckpoint('best_model_denoised.h5', monitor='val_accuracy', mode='max', verbose=1, save_best_only=True)\n",
        "\n"
      ],
      "execution_count": null,
      "outputs": []
    },
    {
      "cell_type": "code",
      "metadata": {
        "colab": {
          "base_uri": "https://localhost:8080/"
        },
        "id": "xGdwJv8HGTWa",
        "outputId": "a020a8f6-9aa9-441f-d390-ffdbf6024448"
      },
      "source": [
        "courbes_denois = []\r\n",
        "val_courbes_denois = []\r\n",
        "eps = 0.03\r\n",
        "for i in range(1,110):\r\n",
        "  print('epoch'+str(i))\r\n",
        "\r\n",
        "  history_denois = denoised.fit(np.array(x_train_mixed).reshape(-1,32,32,3), np.array(y_train_mixed), epochs=1, batch_size=64,verbose=1,validation_split = 0.2,callbacks=[es,mc,rlrop])\r\n",
        "  history_dict = history_denois.history\r\n",
        "  courbes_denois.append(history_dict['loss'])\r\n",
        "  val_courbes_denois.append(history_dict['val_loss'])\r\n",
        "  x_adversarial_train, y_adversarial_train = generate_adversarials_train_FGSM(n_examples, eps,denoised)\r\n",
        "\r\n",
        "  ## portion of  regular examples\r\n",
        "  indexes = np.random.choice(x_train.shape[0],2*x_train.shape[0]//3)\r\n",
        "  x_regular = x_train[indexes]\r\n",
        "  y_regular = y_train[indexes]\r\n",
        "  ## prepare data for next epoch\r\n",
        "  x_train_mixed = np.concatenate([x_regular,x_adversarial_train],axis = 0)\r\n",
        "  y_train_mixed = np.concatenate([y_regular,y_adversarial_train],axis = 0)\r\n",
        "  x_train_mixed,y_train_mixed = shuffle(x_train_mixed,y_train_mixed, random_state = 0)"
      ],
      "execution_count": null,
      "outputs": [
        {
          "output_type": "stream",
          "text": [
            "epoch1\n",
            "834/834 [==============================] - ETA: 0s - loss: 2.2313 - accuracy: 0.1909\n",
            "Epoch 00001: val_accuracy improved from -inf to 0.20346, saving model to best_model_denoised.h5\n",
            "834/834 [==============================] - 8s 10ms/step - loss: 2.2313 - accuracy: 0.1909 - val_loss: 2.0991 - val_accuracy: 0.2035\n",
            "epoch2\n",
            "828/834 [============================>.] - ETA: 0s - loss: 1.9303 - accuracy: 0.2647\n",
            "Epoch 00001: val_accuracy did not improve from 0.20346\n",
            "834/834 [==============================] - 8s 9ms/step - loss: 1.9297 - accuracy: 0.2650 - val_loss: 3.4883 - val_accuracy: 0.1564\n",
            "epoch3\n",
            "829/834 [============================>.] - ETA: 0s - loss: 1.7191 - accuracy: 0.3640\n",
            "Epoch 00001: val_accuracy improved from 0.20346 to 0.43348, saving model to best_model_denoised.h5\n",
            "834/834 [==============================] - 8s 9ms/step - loss: 1.7186 - accuracy: 0.3641 - val_loss: 1.6980 - val_accuracy: 0.4335\n",
            "epoch4\n",
            "831/834 [============================>.] - ETA: 0s - loss: 1.6639 - accuracy: 0.3892\n",
            "Epoch 00001: val_accuracy did not improve from 0.43348\n",
            "834/834 [==============================] - 8s 9ms/step - loss: 1.6636 - accuracy: 0.3892 - val_loss: 1.6167 - val_accuracy: 0.4171\n",
            "epoch5\n",
            "833/834 [============================>.] - ETA: 0s - loss: 1.3857 - accuracy: 0.5038\n",
            "Epoch 00001: val_accuracy improved from 0.43348 to 0.56352, saving model to best_model_denoised.h5\n",
            "834/834 [==============================] - 8s 9ms/step - loss: 1.3856 - accuracy: 0.5038 - val_loss: 1.2196 - val_accuracy: 0.5635\n",
            "epoch6\n",
            "831/834 [============================>.] - ETA: 0s - loss: 1.2717 - accuracy: 0.5477\n",
            "Epoch 00001: val_accuracy improved from 0.56352 to 0.62149, saving model to best_model_denoised.h5\n",
            "834/834 [==============================] - 8s 9ms/step - loss: 1.2712 - accuracy: 0.5478 - val_loss: 1.1168 - val_accuracy: 0.6215\n",
            "epoch7\n",
            "828/834 [============================>.] - ETA: 0s - loss: 1.2178 - accuracy: 0.5712\n",
            "Epoch 00001: val_accuracy improved from 0.62149 to 0.68689, saving model to best_model_denoised.h5\n",
            "834/834 [==============================] - 8s 9ms/step - loss: 1.2165 - accuracy: 0.5715 - val_loss: 0.8769 - val_accuracy: 0.6869\n",
            "epoch8\n",
            "830/834 [============================>.] - ETA: 0s - loss: 1.1953 - accuracy: 0.5778\n",
            "Epoch 00001: val_accuracy did not improve from 0.68689\n",
            "834/834 [==============================] - 8s 9ms/step - loss: 1.1945 - accuracy: 0.5783 - val_loss: 1.0503 - val_accuracy: 0.6390\n",
            "epoch9\n",
            "831/834 [============================>.] - ETA: 0s - loss: 1.1678 - accuracy: 0.5909\n",
            "Epoch 00001: val_accuracy improved from 0.68689 to 0.74179, saving model to best_model_denoised.h5\n",
            "834/834 [==============================] - 8s 9ms/step - loss: 1.1671 - accuracy: 0.5911 - val_loss: 0.7926 - val_accuracy: 0.7418\n",
            "epoch10\n",
            "829/834 [============================>.] - ETA: 0s - loss: 1.1090 - accuracy: 0.6149\n",
            "Epoch 00001: val_accuracy did not improve from 0.74179\n",
            "834/834 [==============================] - 8s 9ms/step - loss: 1.1078 - accuracy: 0.6155 - val_loss: 1.8223 - val_accuracy: 0.7056\n",
            "epoch11\n",
            "832/834 [============================>.] - ETA: 0s - loss: 1.1442 - accuracy: 0.5992\n",
            "Epoch 00001: val_accuracy did not improve from 0.74179\n",
            "834/834 [==============================] - 8s 9ms/step - loss: 1.1437 - accuracy: 0.5993 - val_loss: 1.0025 - val_accuracy: 0.7041\n",
            "epoch12\n",
            "830/834 [============================>.] - ETA: 0s - loss: 1.1604 - accuracy: 0.5934\n",
            "Epoch 00001: val_accuracy did not improve from 0.74179\n",
            "834/834 [==============================] - 8s 9ms/step - loss: 1.1587 - accuracy: 0.5940 - val_loss: 563.7461 - val_accuracy: 0.7269\n",
            "epoch13\n",
            "828/834 [============================>.] - ETA: 0s - loss: 1.2398 - accuracy: 0.5646\n",
            "Epoch 00001: val_accuracy did not improve from 0.74179\n",
            "834/834 [==============================] - 8s 9ms/step - loss: 1.2375 - accuracy: 0.5655 - val_loss: 46.2547 - val_accuracy: 0.7164\n",
            "epoch14\n",
            "829/834 [============================>.] - ETA: 0s - loss: 0.9300 - accuracy: 0.6867\n",
            "Epoch 00001: val_accuracy did not improve from 0.74179\n",
            "834/834 [==============================] - 8s 9ms/step - loss: 0.9297 - accuracy: 0.6869 - val_loss: 0.8536 - val_accuracy: 0.7145\n",
            "epoch15\n",
            "830/834 [============================>.] - ETA: 0s - loss: 0.9619 - accuracy: 0.6748\n",
            "Epoch 00001: val_accuracy improved from 0.74179 to 0.75619, saving model to best_model_denoised.h5\n",
            "834/834 [==============================] - 8s 9ms/step - loss: 0.9609 - accuracy: 0.6751 - val_loss: 1.2529 - val_accuracy: 0.7562\n",
            "epoch16\n",
            "830/834 [============================>.] - ETA: 0s - loss: 0.8687 - accuracy: 0.7137\n",
            "Epoch 00001: val_accuracy improved from 0.75619 to 0.78859, saving model to best_model_denoised.h5\n",
            "834/834 [==============================] - 8s 10ms/step - loss: 0.8691 - accuracy: 0.7137 - val_loss: 0.6231 - val_accuracy: 0.7886\n",
            "epoch17\n",
            "830/834 [============================>.] - ETA: 0s - loss: 0.8779 - accuracy: 0.7089\n",
            "Epoch 00001: val_accuracy did not improve from 0.78859\n",
            "834/834 [==============================] - 8s 9ms/step - loss: 0.8775 - accuracy: 0.7091 - val_loss: 0.7034 - val_accuracy: 0.7644\n",
            "epoch18\n",
            "828/834 [============================>.] - ETA: 0s - loss: 0.8276 - accuracy: 0.7216\n",
            "Epoch 00001: val_accuracy improved from 0.78859 to 0.80996, saving model to best_model_denoised.h5\n",
            "834/834 [==============================] - 8s 9ms/step - loss: 0.8270 - accuracy: 0.7215 - val_loss: 0.7039 - val_accuracy: 0.8100\n",
            "epoch19\n",
            "829/834 [============================>.] - ETA: 0s - loss: 0.8329 - accuracy: 0.7258\n",
            "Epoch 00001: val_accuracy did not improve from 0.80996\n",
            "834/834 [==============================] - 8s 9ms/step - loss: 0.8320 - accuracy: 0.7261 - val_loss: 0.6381 - val_accuracy: 0.7980\n",
            "epoch20\n",
            "828/834 [============================>.] - ETA: 0s - loss: 0.8368 - accuracy: 0.7282\n",
            "Epoch 00001: val_accuracy did not improve from 0.80996\n",
            "834/834 [==============================] - 8s 9ms/step - loss: 0.8360 - accuracy: 0.7285 - val_loss: 49.6265 - val_accuracy: 0.7667\n",
            "epoch21\n",
            "831/834 [============================>.] - ETA: 0s - loss: 0.8593 - accuracy: 0.7174\n",
            "Epoch 00001: val_accuracy did not improve from 0.80996\n",
            "834/834 [==============================] - 8s 9ms/step - loss: 0.8585 - accuracy: 0.7176 - val_loss: 0.7145 - val_accuracy: 0.7653\n",
            "epoch22\n",
            "828/834 [============================>.] - ETA: 0s - loss: 0.7667 - accuracy: 0.7516\n",
            "Epoch 00001: val_accuracy improved from 0.80996 to 0.83396, saving model to best_model_denoised.h5\n",
            "834/834 [==============================] - 8s 9ms/step - loss: 0.7666 - accuracy: 0.7518 - val_loss: 0.5396 - val_accuracy: 0.8340\n",
            "epoch23\n",
            "832/834 [============================>.] - ETA: 0s - loss: 0.8102 - accuracy: 0.7361\n",
            "Epoch 00001: val_accuracy improved from 0.83396 to 0.83883, saving model to best_model_denoised.h5\n",
            "834/834 [==============================] - 8s 9ms/step - loss: 0.8100 - accuracy: 0.7361 - val_loss: 0.4979 - val_accuracy: 0.8388\n",
            "epoch24\n",
            "833/834 [============================>.] - ETA: 0s - loss: 0.7467 - accuracy: 0.7590\n",
            "Epoch 00001: val_accuracy did not improve from 0.83883\n",
            "834/834 [==============================] - 8s 9ms/step - loss: 0.7467 - accuracy: 0.7591 - val_loss: 1.8067 - val_accuracy: 0.5239\n",
            "epoch25\n",
            "830/834 [============================>.] - ETA: 0s - loss: 0.8193 - accuracy: 0.7361\n",
            "Epoch 00001: val_accuracy did not improve from 0.83883\n",
            "834/834 [==============================] - 8s 9ms/step - loss: 0.8185 - accuracy: 0.7364 - val_loss: 0.8159 - val_accuracy: 0.8245\n",
            "epoch26\n",
            "833/834 [============================>.] - ETA: 0s - loss: 0.7651 - accuracy: 0.7469\n",
            "Epoch 00001: val_accuracy did not improve from 0.83883\n",
            "834/834 [==============================] - 8s 9ms/step - loss: 0.7651 - accuracy: 0.7469 - val_loss: 29.9236 - val_accuracy: 0.7959\n",
            "epoch27\n",
            "831/834 [============================>.] - ETA: 0s - loss: 0.7281 - accuracy: 0.7683\n",
            "Epoch 00001: val_accuracy did not improve from 0.83883\n",
            "834/834 [==============================] - 8s 9ms/step - loss: 0.7277 - accuracy: 0.7684 - val_loss: 1.3065 - val_accuracy: 0.6384\n",
            "epoch28\n",
            "832/834 [============================>.] - ETA: 0s - loss: 0.8796 - accuracy: 0.7089\n",
            "Epoch 00001: val_accuracy did not improve from 0.83883\n",
            "834/834 [==============================] - 8s 9ms/step - loss: 0.8794 - accuracy: 0.7090 - val_loss: 0.6816 - val_accuracy: 0.7658\n",
            "epoch29\n",
            "834/834 [==============================] - ETA: 0s - loss: 0.7129 - accuracy: 0.7688\n",
            "Epoch 00001: val_accuracy did not improve from 0.83883\n",
            "834/834 [==============================] - 8s 9ms/step - loss: 0.7129 - accuracy: 0.7688 - val_loss: 0.6185 - val_accuracy: 0.8119\n",
            "epoch30\n",
            "828/834 [============================>.] - ETA: 0s - loss: 0.7805 - accuracy: 0.7443\n",
            "Epoch 00001: val_accuracy did not improve from 0.83883\n",
            "834/834 [==============================] - 8s 9ms/step - loss: 0.7800 - accuracy: 0.7446 - val_loss: 4.0860 - val_accuracy: 0.8109\n",
            "epoch31\n",
            "833/834 [============================>.] - ETA: 0s - loss: 0.7633 - accuracy: 0.7526\n",
            "Epoch 00001: val_accuracy did not improve from 0.83883\n",
            "834/834 [==============================] - 8s 9ms/step - loss: 0.7633 - accuracy: 0.7525 - val_loss: 616.5132 - val_accuracy: 0.8250\n",
            "epoch32\n",
            "834/834 [==============================] - ETA: 0s - loss: 0.7781 - accuracy: 0.7456\n",
            "Epoch 00001: val_accuracy did not improve from 0.83883\n",
            "834/834 [==============================] - 8s 9ms/step - loss: 0.7781 - accuracy: 0.7456 - val_loss: 1.4271 - val_accuracy: 0.6703\n",
            "epoch33\n",
            "831/834 [============================>.] - ETA: 0s - loss: 0.8594 - accuracy: 0.7181\n",
            "Epoch 00001: val_accuracy improved from 0.83883 to 0.84468, saving model to best_model_denoised.h5\n",
            "834/834 [==============================] - 8s 9ms/step - loss: 0.8590 - accuracy: 0.7182 - val_loss: 1.0048 - val_accuracy: 0.8447\n",
            "epoch34\n",
            "828/834 [============================>.] - ETA: 0s - loss: 1.0046 - accuracy: 0.6803\n",
            "Epoch 00001: val_accuracy did not improve from 0.84468\n",
            "834/834 [==============================] - 8s 9ms/step - loss: 1.0033 - accuracy: 0.6804 - val_loss: 0.6420 - val_accuracy: 0.7914\n",
            "epoch35\n",
            "831/834 [============================>.] - ETA: 0s - loss: 0.7521 - accuracy: 0.7666\n",
            "Epoch 00001: val_accuracy did not improve from 0.84468\n",
            "834/834 [==============================] - 8s 9ms/step - loss: 0.7519 - accuracy: 0.7667 - val_loss: 1186.5142 - val_accuracy: 0.7443\n",
            "epoch36\n",
            "829/834 [============================>.] - ETA: 0s - loss: 1.0314 - accuracy: 0.6688\n",
            "Epoch 00001: val_accuracy did not improve from 0.84468\n",
            "834/834 [==============================] - 8s 9ms/step - loss: 1.0308 - accuracy: 0.6690 - val_loss: 1.0844 - val_accuracy: 0.7428\n",
            "epoch37\n",
            "832/834 [============================>.] - ETA: 0s - loss: 0.8955 - accuracy: 0.7151\n",
            "Epoch 00001: val_accuracy did not improve from 0.84468\n",
            "834/834 [==============================] - 8s 9ms/step - loss: 0.8956 - accuracy: 0.7150 - val_loss: 1.4946 - val_accuracy: 0.4638\n",
            "epoch38\n",
            "828/834 [============================>.] - ETA: 0s - loss: 0.7637 - accuracy: 0.7518\n",
            "Epoch 00001: val_accuracy did not improve from 0.84468\n",
            "834/834 [==============================] - 8s 9ms/step - loss: 0.7634 - accuracy: 0.7517 - val_loss: 1.0625 - val_accuracy: 0.6432\n",
            "epoch39\n",
            "830/834 [============================>.] - ETA: 0s - loss: 1.0803 - accuracy: 0.6372\n",
            "Epoch 00001: val_accuracy did not improve from 0.84468\n",
            "834/834 [==============================] - 8s 9ms/step - loss: 1.0801 - accuracy: 0.6373 - val_loss: 1.0916 - val_accuracy: 0.6478\n",
            "epoch40\n",
            "831/834 [============================>.] - ETA: 0s - loss: 0.8857 - accuracy: 0.7105\n",
            "Epoch 00001: val_accuracy did not improve from 0.84468\n",
            "834/834 [==============================] - 8s 9ms/step - loss: 0.8854 - accuracy: 0.7106 - val_loss: 112.5260 - val_accuracy: 0.5438\n",
            "epoch41\n",
            "829/834 [============================>.] - ETA: 0s - loss: 0.9831 - accuracy: 0.6715\n",
            "Epoch 00001: val_accuracy did not improve from 0.84468\n",
            "834/834 [==============================] - 8s 9ms/step - loss: 0.9829 - accuracy: 0.6716 - val_loss: 19699.2480 - val_accuracy: 0.6309\n",
            "epoch42\n",
            "833/834 [============================>.] - ETA: 0s - loss: 0.7911 - accuracy: 0.7406\n",
            "Epoch 00001: val_accuracy did not improve from 0.84468\n",
            "834/834 [==============================] - 8s 9ms/step - loss: 0.7910 - accuracy: 0.7406 - val_loss: 1.4414 - val_accuracy: 0.5208\n",
            "epoch43\n",
            "828/834 [============================>.] - ETA: 0s - loss: 0.7916 - accuracy: 0.7457\n",
            "Epoch 00001: val_accuracy did not improve from 0.84468\n",
            "834/834 [==============================] - 8s 9ms/step - loss: 0.7910 - accuracy: 0.7457 - val_loss: 4.3077 - val_accuracy: 0.3136\n",
            "epoch44\n",
            "833/834 [============================>.] - ETA: 0s - loss: 0.9217 - accuracy: 0.6950\n",
            "Epoch 00001: val_accuracy did not improve from 0.84468\n",
            "834/834 [==============================] - 8s 9ms/step - loss: 0.9219 - accuracy: 0.6950 - val_loss: 2.3295 - val_accuracy: 0.2915\n",
            "epoch45\n",
            "830/834 [============================>.] - ETA: 0s - loss: 0.7091 - accuracy: 0.7721\n",
            "Epoch 00001: val_accuracy did not improve from 0.84468\n",
            "834/834 [==============================] - 8s 9ms/step - loss: 0.7098 - accuracy: 0.7721 - val_loss: 0.8716 - val_accuracy: 0.7092\n",
            "epoch46\n",
            "833/834 [============================>.] - ETA: 0s - loss: 0.8836 - accuracy: 0.7152\n",
            "Epoch 00001: val_accuracy did not improve from 0.84468\n",
            "834/834 [==============================] - 8s 9ms/step - loss: 0.8838 - accuracy: 0.7152 - val_loss: 33.5252 - val_accuracy: 0.1128\n",
            "epoch47\n",
            "834/834 [==============================] - ETA: 0s - loss: 0.8421 - accuracy: 0.7259\n",
            "Epoch 00001: val_accuracy did not improve from 0.84468\n",
            "834/834 [==============================] - 8s 9ms/step - loss: 0.8421 - accuracy: 0.7259 - val_loss: 0.8964 - val_accuracy: 0.7005\n",
            "epoch48\n",
            "828/834 [============================>.] - ETA: 0s - loss: 0.8062 - accuracy: 0.7410\n",
            "Epoch 00001: val_accuracy did not improve from 0.84468\n",
            "834/834 [==============================] - 8s 9ms/step - loss: 0.8047 - accuracy: 0.7415 - val_loss: 374.7585 - val_accuracy: 0.4650\n",
            "epoch49\n",
            "830/834 [============================>.] - ETA: 0s - loss: 0.7767 - accuracy: 0.7445\n",
            "Epoch 00001: val_accuracy did not improve from 0.84468\n",
            "834/834 [==============================] - 8s 9ms/step - loss: 0.7765 - accuracy: 0.7445 - val_loss: 1.4531 - val_accuracy: 0.6337\n",
            "epoch50\n",
            "831/834 [============================>.] - ETA: 0s - loss: 0.8804 - accuracy: 0.7096\n",
            "Epoch 00001: val_accuracy did not improve from 0.84468\n",
            "834/834 [==============================] - 8s 9ms/step - loss: 0.8800 - accuracy: 0.7098 - val_loss: 4144.2021 - val_accuracy: 0.3946\n",
            "epoch51\n",
            "829/834 [============================>.] - ETA: 0s - loss: 0.7528 - accuracy: 0.7535\n",
            "Epoch 00001: val_accuracy did not improve from 0.84468\n",
            "834/834 [==============================] - 8s 9ms/step - loss: 0.7524 - accuracy: 0.7536 - val_loss: 1062371.6250 - val_accuracy: 0.0974\n",
            "epoch52\n",
            "832/834 [============================>.] - ETA: 0s - loss: 0.7197 - accuracy: 0.7660\n",
            "Epoch 00001: val_accuracy did not improve from 0.84468\n",
            "834/834 [==============================] - 8s 9ms/step - loss: 0.7195 - accuracy: 0.7661 - val_loss: 5.0555 - val_accuracy: 0.4300\n",
            "epoch53\n",
            "829/834 [============================>.] - ETA: 0s - loss: 0.8327 - accuracy: 0.7287\n",
            "Epoch 00001: val_accuracy did not improve from 0.84468\n",
            "834/834 [==============================] - 8s 9ms/step - loss: 0.8326 - accuracy: 0.7287 - val_loss: 12.5687 - val_accuracy: 0.1360\n",
            "epoch54\n",
            "831/834 [============================>.] - ETA: 0s - loss: 0.7758 - accuracy: 0.7495\n",
            "Epoch 00001: val_accuracy did not improve from 0.84468\n",
            "834/834 [==============================] - 8s 9ms/step - loss: 0.7749 - accuracy: 0.7497 - val_loss: 4.6455 - val_accuracy: 0.2470\n",
            "epoch55\n",
            "834/834 [==============================] - ETA: 0s - loss: 0.7196 - accuracy: 0.7695\n",
            "Epoch 00001: val_accuracy did not improve from 0.84468\n",
            "834/834 [==============================] - 8s 9ms/step - loss: 0.7196 - accuracy: 0.7695 - val_loss: 1.9715 - val_accuracy: 0.5577\n",
            "epoch56\n",
            "828/834 [============================>.] - ETA: 0s - loss: 0.7119 - accuracy: 0.7728\n",
            "Epoch 00001: val_accuracy did not improve from 0.84468\n",
            "834/834 [==============================] - 8s 9ms/step - loss: 0.7115 - accuracy: 0.7729 - val_loss: 3.7679 - val_accuracy: 0.2848\n",
            "epoch57\n",
            "833/834 [============================>.] - ETA: 0s - loss: 0.8579 - accuracy: 0.7147\n",
            "Epoch 00001: val_accuracy did not improve from 0.84468\n",
            "834/834 [==============================] - 8s 9ms/step - loss: 0.8578 - accuracy: 0.7147 - val_loss: 3128.5022 - val_accuracy: 0.2273\n",
            "epoch58\n",
            "829/834 [============================>.] - ETA: 0s - loss: 0.6202 - accuracy: 0.8026\n",
            "Epoch 00001: val_accuracy did not improve from 0.84468\n",
            "834/834 [==============================] - 8s 9ms/step - loss: 0.6202 - accuracy: 0.8027 - val_loss: 0.4903 - val_accuracy: 0.8436\n",
            "epoch59\n",
            "834/834 [==============================] - ETA: 0s - loss: 0.6447 - accuracy: 0.7967\n",
            "Epoch 00001: val_accuracy improved from 0.84468 to 0.85871, saving model to best_model_denoised.h5\n",
            "834/834 [==============================] - 8s 9ms/step - loss: 0.6447 - accuracy: 0.7967 - val_loss: 25344.6289 - val_accuracy: 0.8587\n",
            "epoch60\n",
            "830/834 [============================>.] - ETA: 0s - loss: 0.6006 - accuracy: 0.8081\n",
            "Epoch 00001: val_accuracy improved from 0.85871 to 0.88076, saving model to best_model_denoised.h5\n",
            "834/834 [==============================] - 8s 9ms/step - loss: 0.5999 - accuracy: 0.8084 - val_loss: 0.4001 - val_accuracy: 0.8808\n",
            "epoch61\n",
            "831/834 [============================>.] - ETA: 0s - loss: 0.7528 - accuracy: 0.7609\n",
            "Epoch 00001: val_accuracy did not improve from 0.88076\n",
            "834/834 [==============================] - 8s 9ms/step - loss: 0.7523 - accuracy: 0.7611 - val_loss: 0.7223 - val_accuracy: 0.7561\n",
            "epoch62\n",
            "833/834 [============================>.] - ETA: 0s - loss: 0.6129 - accuracy: 0.8066\n",
            "Epoch 00001: val_accuracy did not improve from 0.88076\n",
            "834/834 [==============================] - 8s 9ms/step - loss: 0.6128 - accuracy: 0.8067 - val_loss: 493.4233 - val_accuracy: 0.3357\n",
            "epoch63\n",
            "829/834 [============================>.] - ETA: 0s - loss: 0.6757 - accuracy: 0.7818\n",
            "Epoch 00001: val_accuracy did not improve from 0.88076\n",
            "834/834 [==============================] - 8s 9ms/step - loss: 0.6756 - accuracy: 0.7820 - val_loss: 0.8219 - val_accuracy: 0.7161\n",
            "epoch64\n",
            "830/834 [============================>.] - ETA: 0s - loss: 0.6569 - accuracy: 0.7968\n",
            "Epoch 00001: val_accuracy did not improve from 0.88076\n",
            "834/834 [==============================] - 8s 9ms/step - loss: 0.6567 - accuracy: 0.7969 - val_loss: 8700.5645 - val_accuracy: 0.7519\n",
            "epoch65\n",
            "828/834 [============================>.] - ETA: 0s - loss: 0.7660 - accuracy: 0.7508\n",
            "Epoch 00001: val_accuracy did not improve from 0.88076\n",
            "834/834 [==============================] - 8s 9ms/step - loss: 0.7644 - accuracy: 0.7515 - val_loss: 0.7715 - val_accuracy: 0.7669\n",
            "epoch66\n",
            "830/834 [============================>.] - ETA: 0s - loss: 0.5783 - accuracy: 0.8192\n",
            "Epoch 00001: val_accuracy did not improve from 0.88076\n",
            "834/834 [==============================] - 8s 9ms/step - loss: 0.5780 - accuracy: 0.8193 - val_loss: 12.4243 - val_accuracy: 0.7920\n",
            "epoch67\n",
            "831/834 [============================>.] - ETA: 0s - loss: 0.6582 - accuracy: 0.7934\n",
            "Epoch 00001: val_accuracy did not improve from 0.88076\n",
            "834/834 [==============================] - 8s 9ms/step - loss: 0.6584 - accuracy: 0.7935 - val_loss: 1.1154 - val_accuracy: 0.6947\n",
            "epoch68\n",
            "834/834 [==============================] - ETA: 0s - loss: 0.6862 - accuracy: 0.7800\n",
            "Epoch 00001: val_accuracy did not improve from 0.88076\n",
            "834/834 [==============================] - 8s 9ms/step - loss: 0.6862 - accuracy: 0.7800 - val_loss: 7584.5371 - val_accuracy: 0.6849\n",
            "epoch69\n",
            "831/834 [============================>.] - ETA: 0s - loss: 0.7028 - accuracy: 0.7787\n",
            "Epoch 00001: val_accuracy did not improve from 0.88076\n",
            "834/834 [==============================] - 8s 9ms/step - loss: 0.7023 - accuracy: 0.7789 - val_loss: 79.5567 - val_accuracy: 0.8604\n",
            "epoch70\n",
            "831/834 [============================>.] - ETA: 0s - loss: 0.6320 - accuracy: 0.8004\n",
            "Epoch 00001: val_accuracy did not improve from 0.88076\n",
            "834/834 [==============================] - 8s 9ms/step - loss: 0.6315 - accuracy: 0.8005 - val_loss: 3.9477 - val_accuracy: 0.8609\n",
            "epoch71\n",
            "831/834 [============================>.] - ETA: 0s - loss: 0.6922 - accuracy: 0.7855\n",
            "Epoch 00001: val_accuracy did not improve from 0.88076\n",
            "834/834 [==============================] - 8s 9ms/step - loss: 0.6919 - accuracy: 0.7856 - val_loss: 0.5007 - val_accuracy: 0.8368\n",
            "epoch72\n",
            "829/834 [============================>.] - ETA: 0s - loss: 0.5755 - accuracy: 0.8206\n",
            "Epoch 00001: val_accuracy did not improve from 0.88076\n",
            "834/834 [==============================] - 8s 9ms/step - loss: 0.5756 - accuracy: 0.8206 - val_loss: 1675.2723 - val_accuracy: 0.8217\n",
            "epoch73\n",
            "829/834 [============================>.] - ETA: 0s - loss: 0.6331 - accuracy: 0.8009\n",
            "Epoch 00001: val_accuracy did not improve from 0.88076\n",
            "834/834 [==============================] - 8s 9ms/step - loss: 0.6322 - accuracy: 0.8012 - val_loss: 1.7104 - val_accuracy: 0.5122\n",
            "epoch74\n",
            "831/834 [============================>.] - ETA: 0s - loss: 0.6702 - accuracy: 0.7856\n",
            "Epoch 00001: val_accuracy did not improve from 0.88076\n",
            "834/834 [==============================] - 8s 9ms/step - loss: 0.6700 - accuracy: 0.7855 - val_loss: 1575.2766 - val_accuracy: 0.6717\n",
            "epoch75\n",
            "833/834 [============================>.] - ETA: 0s - loss: 0.7368 - accuracy: 0.7642\n",
            "Epoch 00001: val_accuracy did not improve from 0.88076\n",
            "834/834 [==============================] - 8s 9ms/step - loss: 0.7368 - accuracy: 0.7641 - val_loss: 20837.4023 - val_accuracy: 0.7894\n",
            "epoch76\n",
            "830/834 [============================>.] - ETA: 0s - loss: 0.6405 - accuracy: 0.7979\n",
            "Epoch 00001: val_accuracy did not improve from 0.88076\n",
            "834/834 [==============================] - 8s 9ms/step - loss: 0.6398 - accuracy: 0.7981 - val_loss: 3.7116 - val_accuracy: 0.5164\n",
            "epoch77\n",
            "830/834 [============================>.] - ETA: 0s - loss: 0.7442 - accuracy: 0.7574\n",
            "Epoch 00001: val_accuracy did not improve from 0.88076\n",
            "834/834 [==============================] - 8s 9ms/step - loss: 0.7442 - accuracy: 0.7575 - val_loss: 2046.0538 - val_accuracy: 0.7808\n",
            "epoch78\n",
            "831/834 [============================>.] - ETA: 0s - loss: 0.5518 - accuracy: 0.8266\n",
            "Epoch 00001: val_accuracy improved from 0.88076 to 0.89726, saving model to best_model_denoised.h5\n",
            "834/834 [==============================] - 8s 10ms/step - loss: 0.5517 - accuracy: 0.8267 - val_loss: 0.3138 - val_accuracy: 0.8973\n",
            "epoch79\n",
            "828/834 [============================>.] - ETA: 0s - loss: 0.6486 - accuracy: 0.7976\n",
            "Epoch 00001: val_accuracy did not improve from 0.89726\n",
            "834/834 [==============================] - 8s 9ms/step - loss: 0.6477 - accuracy: 0.7979 - val_loss: 12452.3223 - val_accuracy: 0.4042\n",
            "epoch80\n",
            "833/834 [============================>.] - ETA: 0s - loss: 0.7198 - accuracy: 0.7698\n",
            "Epoch 00001: val_accuracy did not improve from 0.89726\n",
            "834/834 [==============================] - 8s 9ms/step - loss: 0.7197 - accuracy: 0.7698 - val_loss: 1.3373 - val_accuracy: 0.7168\n",
            "epoch81\n",
            "829/834 [============================>.] - ETA: 0s - loss: 0.7937 - accuracy: 0.7387\n",
            "Epoch 00001: val_accuracy did not improve from 0.89726\n",
            "834/834 [==============================] - 8s 9ms/step - loss: 0.7925 - accuracy: 0.7391 - val_loss: 0.3711 - val_accuracy: 0.8770\n",
            "epoch82\n",
            "829/834 [============================>.] - ETA: 0s - loss: 0.6329 - accuracy: 0.7995\n",
            "Epoch 00001: val_accuracy did not improve from 0.89726\n",
            "834/834 [==============================] - 8s 10ms/step - loss: 0.6327 - accuracy: 0.7996 - val_loss: 2414.9294 - val_accuracy: 0.8850\n"
          ],
          "name": "stdout"
        }
      ]
    },
    {
      "cell_type": "code",
      "metadata": {
        "id": "zaqY3swKPxY-"
      },
      "source": [
        "\r\n",
        "denoised = load_model('best_model_denoised.h5')"
      ],
      "execution_count": null,
      "outputs": []
    },
    {
      "cell_type": "code",
      "metadata": {
        "id": "UhokO9zgRm_7"
      },
      "source": [
        "##  a portion of adversarial\r\n",
        "\r\n",
        "n_examples = 2*x_train.shape[0]//3\r\n",
        "eps = 0.03\r\n",
        "x_adversarial_train, y_adversarial_train = generate_adversarials_train_FGSM(n_examples, eps,denoised)\r\n",
        "\r\n",
        "## portion of  regular examples\r\n",
        "indexes = np.random.choice(x_train.shape[0],2*x_train.shape[0]//3)\r\n",
        "x_regular = x_train[indexes]\r\n",
        "y_regular = y_train[indexes]\r\n",
        "x_train_mixed = np.concatenate([x_regular,x_adversarial_train],axis = 0)\r\n",
        "y_train_mixed = np.concatenate([y_regular,y_adversarial_train],axis = 0)\r\n",
        "from sklearn.utils import shuffle\r\n",
        "x_train_mixed,y_train_mixed = shuffle(x_train_mixed,y_train_mixed, random_state = 0)"
      ],
      "execution_count": null,
      "outputs": []
    },
    {
      "cell_type": "code",
      "metadata": {
        "colab": {
          "base_uri": "https://localhost:8080/"
        },
        "id": "kTHHZm5LRZGr",
        "outputId": "c8051e7d-86da-42eb-8565-ba7b3bd9af1f"
      },
      "source": [
        "courbes_denois = []\r\n",
        "val_courbes_denois = []\r\n",
        "eps = 0.03\r\n",
        "for i in range(1,40):\r\n",
        "  print('epoch'+str(i))\r\n",
        "\r\n",
        "  history_denois = denoised.fit(np.array(x_train_mixed).reshape(-1,32,32,3), np.array(y_train_mixed), epochs=1, batch_size=64,verbose=1,validation_split = 0.2,callbacks=[es,mc,rlrop])\r\n",
        "  history_dict = history_denois.history\r\n",
        "  courbes_denois.append(history_dict['loss'])\r\n",
        "  val_courbes_denois.append(history_dict['val_loss'])\r\n",
        "  x_adversarial_train, y_adversarial_train = generate_adversarials_train_FGSM(n_examples, eps,denoised)\r\n",
        "\r\n",
        "  ## portion of  regular examples\r\n",
        "  indexes = np.random.choice(x_train.shape[0],2*x_train.shape[0]//3)\r\n",
        "  x_regular = x_train[indexes]\r\n",
        "  y_regular = y_train[indexes]\r\n",
        "  ## prepare data for next epoch\r\n",
        "  x_train_mixed = np.concatenate([x_regular,x_adversarial_train],axis = 0)\r\n",
        "  y_train_mixed = np.concatenate([y_regular,y_adversarial_train],axis = 0)\r\n",
        "  x_train_mixed,y_train_mixed = shuffle(x_train_mixed,y_train_mixed, random_state = 0)"
      ],
      "execution_count": null,
      "outputs": [
        {
          "output_type": "stream",
          "text": [
            "epoch1\n",
            "834/834 [==============================] - ETA: 0s - loss: 0.6480 - accuracy: 0.7975\n",
            "Epoch 00001: val_accuracy improved from -inf to 0.89058, saving model to best_model_denoised.h5\n",
            "834/834 [==============================] - 8s 10ms/step - loss: 0.6480 - accuracy: 0.7975 - val_loss: 6.7348 - val_accuracy: 0.8906\n",
            "epoch2\n",
            "828/834 [============================>.] - ETA: 0s - loss: 0.6221 - accuracy: 0.8038\n",
            "Epoch 00001: val_accuracy did not improve from 0.89058\n",
            "834/834 [==============================] - 8s 9ms/step - loss: 0.6216 - accuracy: 0.8040 - val_loss: 141.0740 - val_accuracy: 0.7680\n",
            "epoch3\n",
            "831/834 [============================>.] - ETA: 0s - loss: 0.7432 - accuracy: 0.7582\n",
            "Epoch 00001: val_accuracy did not improve from 0.89058\n",
            "834/834 [==============================] - 8s 9ms/step - loss: 0.7432 - accuracy: 0.7583 - val_loss: 10.2481 - val_accuracy: 0.1475\n",
            "epoch4\n",
            "833/834 [============================>.] - ETA: 0s - loss: 0.7298 - accuracy: 0.7664\n",
            "Epoch 00001: val_accuracy did not improve from 0.89058\n",
            "834/834 [==============================] - 8s 9ms/step - loss: 0.7296 - accuracy: 0.7664 - val_loss: 1.2781 - val_accuracy: 0.6354\n",
            "epoch5\n",
            "832/834 [============================>.] - ETA: 0s - loss: 0.7011 - accuracy: 0.7768\n",
            "Epoch 00001: val_accuracy did not improve from 0.89058\n",
            "834/834 [==============================] - 8s 9ms/step - loss: 0.7010 - accuracy: 0.7768 - val_loss: 0.7014 - val_accuracy: 0.7923\n",
            "epoch6\n",
            "833/834 [============================>.] - ETA: 0s - loss: 0.6369 - accuracy: 0.7939\n",
            "Epoch 00001: val_accuracy improved from 0.89058 to 0.89148, saving model to best_model_denoised.h5\n",
            "834/834 [==============================] - 8s 9ms/step - loss: 0.6368 - accuracy: 0.7939 - val_loss: 0.3235 - val_accuracy: 0.8915\n",
            "epoch7\n",
            "832/834 [============================>.] - ETA: 0s - loss: 0.7670 - accuracy: 0.7471\n",
            "Epoch 00001: val_accuracy did not improve from 0.89148\n",
            "834/834 [==============================] - 8s 9ms/step - loss: 0.7665 - accuracy: 0.7473 - val_loss: 0.6670 - val_accuracy: 0.7933\n",
            "epoch8\n",
            "830/834 [============================>.] - ETA: 0s - loss: 0.6048 - accuracy: 0.8095\n",
            "Epoch 00001: val_accuracy did not improve from 0.89148\n",
            "834/834 [==============================] - 8s 9ms/step - loss: 0.6048 - accuracy: 0.8096 - val_loss: 0.8269 - val_accuracy: 0.7305\n",
            "epoch9\n",
            "830/834 [============================>.] - ETA: 0s - loss: 0.6424 - accuracy: 0.8006\n",
            "Epoch 00001: val_accuracy did not improve from 0.89148\n",
            "834/834 [==============================] - 8s 9ms/step - loss: 0.6414 - accuracy: 0.8007 - val_loss: 1.6889 - val_accuracy: 0.6030\n",
            "epoch10\n",
            "831/834 [============================>.] - ETA: 0s - loss: 0.5909 - accuracy: 0.8145\n",
            "Epoch 00001: val_accuracy did not improve from 0.89148\n",
            "834/834 [==============================] - 8s 9ms/step - loss: 0.5912 - accuracy: 0.8144 - val_loss: 0.4993 - val_accuracy: 0.8312\n",
            "epoch11\n",
            "832/834 [============================>.] - ETA: 0s - loss: 0.5849 - accuracy: 0.8182\n",
            "Epoch 00001: val_accuracy improved from 0.89148 to 0.89553, saving model to best_model_denoised.h5\n",
            "834/834 [==============================] - 8s 9ms/step - loss: 0.5846 - accuracy: 0.8183 - val_loss: 0.3313 - val_accuracy: 0.8955\n",
            "epoch12\n",
            "831/834 [============================>.] - ETA: 0s - loss: 0.5932 - accuracy: 0.8139\n",
            "Epoch 00001: val_accuracy did not improve from 0.89553\n",
            "834/834 [==============================] - 8s 9ms/step - loss: 0.5928 - accuracy: 0.8141 - val_loss: 26.3865 - val_accuracy: 0.2743\n",
            "epoch13\n",
            "832/834 [============================>.] - ETA: 0s - loss: 0.6493 - accuracy: 0.7939\n",
            "Epoch 00001: val_accuracy did not improve from 0.89553\n",
            "834/834 [==============================] - 8s 9ms/step - loss: 0.6496 - accuracy: 0.7939 - val_loss: 0.4406 - val_accuracy: 0.8583\n",
            "epoch14\n",
            "832/834 [============================>.] - ETA: 0s - loss: 0.7864 - accuracy: 0.7505\n",
            "Epoch 00001: val_accuracy did not improve from 0.89553\n",
            "834/834 [==============================] - 8s 9ms/step - loss: 0.7859 - accuracy: 0.7507 - val_loss: 20787088.0000 - val_accuracy: 0.1012\n",
            "epoch15\n",
            "831/834 [============================>.] - ETA: 0s - loss: 0.6351 - accuracy: 0.7973\n",
            "Epoch 00001: val_accuracy did not improve from 0.89553\n",
            "834/834 [==============================] - 8s 9ms/step - loss: 0.6350 - accuracy: 0.7973 - val_loss: 63.5308 - val_accuracy: 0.1267\n",
            "epoch16\n",
            "830/834 [============================>.] - ETA: 0s - loss: 0.6731 - accuracy: 0.7853\n",
            "Epoch 00001: val_accuracy did not improve from 0.89553\n",
            "834/834 [==============================] - 8s 9ms/step - loss: 0.6734 - accuracy: 0.7852 - val_loss: 4.3355 - val_accuracy: 0.2125\n",
            "epoch17\n",
            "831/834 [============================>.] - ETA: 0s - loss: 0.6644 - accuracy: 0.7852\n",
            "Epoch 00001: val_accuracy did not improve from 0.89553\n",
            "834/834 [==============================] - 8s 9ms/step - loss: 0.6641 - accuracy: 0.7853 - val_loss: 2.0432 - val_accuracy: 0.6154\n",
            "epoch18\n",
            "833/834 [============================>.] - ETA: 0s - loss: 0.7000 - accuracy: 0.7758\n",
            "Epoch 00001: val_accuracy did not improve from 0.89553\n",
            "834/834 [==============================] - 8s 9ms/step - loss: 0.6999 - accuracy: 0.7759 - val_loss: 1.5759 - val_accuracy: 0.5119\n",
            "epoch19\n",
            "834/834 [==============================] - ETA: 0s - loss: 0.6227 - accuracy: 0.8027\n",
            "Epoch 00001: val_accuracy did not improve from 0.89553\n",
            "834/834 [==============================] - 8s 9ms/step - loss: 0.6227 - accuracy: 0.8027 - val_loss: 0.7152 - val_accuracy: 0.7743\n",
            "epoch20\n",
            "829/834 [============================>.] - ETA: 0s - loss: 0.6304 - accuracy: 0.8002\n",
            "Epoch 00001: val_accuracy did not improve from 0.89553\n",
            "834/834 [==============================] - 8s 9ms/step - loss: 0.6303 - accuracy: 0.8003 - val_loss: 15.1458 - val_accuracy: 0.4738\n",
            "epoch21\n",
            "832/834 [============================>.] - ETA: 0s - loss: 0.5858 - accuracy: 0.8178\n",
            "Epoch 00001: val_accuracy did not improve from 0.89553\n",
            "834/834 [==============================] - 8s 9ms/step - loss: 0.5858 - accuracy: 0.8177 - val_loss: 0.6901 - val_accuracy: 0.8162\n",
            "epoch22\n",
            "834/834 [==============================] - ETA: 0s - loss: 0.6056 - accuracy: 0.8092\n",
            "Epoch 00001: val_accuracy did not improve from 0.89553\n",
            "834/834 [==============================] - 8s 9ms/step - loss: 0.6056 - accuracy: 0.8092 - val_loss: 2.6104 - val_accuracy: 0.5994\n",
            "epoch23\n",
            "833/834 [============================>.] - ETA: 0s - loss: 0.6700 - accuracy: 0.7866\n",
            "Epoch 00001: val_accuracy did not improve from 0.89553\n",
            "834/834 [==============================] - 8s 9ms/step - loss: 0.6699 - accuracy: 0.7867 - val_loss: 13.1892 - val_accuracy: 0.1584\n",
            "epoch24\n",
            "829/834 [============================>.] - ETA: 0s - loss: 0.6819 - accuracy: 0.7822\n",
            "Epoch 00001: val_accuracy did not improve from 0.89553\n",
            "834/834 [==============================] - 8s 9ms/step - loss: 0.6815 - accuracy: 0.7824 - val_loss: 7.5839 - val_accuracy: 0.3022\n",
            "epoch25\n",
            "829/834 [============================>.] - ETA: 0s - loss: 0.6603 - accuracy: 0.7895\n",
            "Epoch 00001: val_accuracy did not improve from 0.89553\n",
            "834/834 [==============================] - 8s 9ms/step - loss: 0.6603 - accuracy: 0.7895 - val_loss: 3.4782 - val_accuracy: 0.3685\n",
            "epoch26\n",
            "832/834 [============================>.] - ETA: 0s - loss: 0.6665 - accuracy: 0.7859\n",
            "Epoch 00001: val_accuracy did not improve from 0.89553\n",
            "834/834 [==============================] - 8s 9ms/step - loss: 0.6665 - accuracy: 0.7858 - val_loss: 6.1682 - val_accuracy: 0.1987\n",
            "epoch27\n",
            "831/834 [============================>.] - ETA: 0s - loss: 0.6359 - accuracy: 0.7958\n",
            "Epoch 00001: val_accuracy did not improve from 0.89553\n",
            "834/834 [==============================] - 8s 9ms/step - loss: 0.6362 - accuracy: 0.7957 - val_loss: 0.4503 - val_accuracy: 0.8525\n",
            "epoch28\n",
            "832/834 [============================>.] - ETA: 0s - loss: 0.5814 - accuracy: 0.8195\n",
            "Epoch 00001: val_accuracy improved from 0.89553 to 0.90220, saving model to best_model_denoised.h5\n",
            "834/834 [==============================] - 8s 10ms/step - loss: 0.5813 - accuracy: 0.8195 - val_loss: 150.3879 - val_accuracy: 0.9022\n",
            "epoch29\n",
            "828/834 [============================>.] - ETA: 0s - loss: 0.5473 - accuracy: 0.8303\n",
            "Epoch 00001: val_accuracy did not improve from 0.90220\n",
            "834/834 [==============================] - 8s 9ms/step - loss: 0.5470 - accuracy: 0.8305 - val_loss: 1.5235 - val_accuracy: 0.6129\n",
            "epoch30\n",
            "833/834 [============================>.] - ETA: 0s - loss: 0.5736 - accuracy: 0.8186\n",
            "Epoch 00001: val_accuracy improved from 0.90220 to 0.91525, saving model to best_model_denoised.h5\n",
            "834/834 [==============================] - 8s 9ms/step - loss: 0.5736 - accuracy: 0.8186 - val_loss: 65.7800 - val_accuracy: 0.9153\n",
            "epoch31\n",
            "829/834 [============================>.] - ETA: 0s - loss: 0.5574 - accuracy: 0.8256\n",
            "Epoch 00001: val_accuracy did not improve from 0.91525\n",
            "834/834 [==============================] - 8s 9ms/step - loss: 0.5565 - accuracy: 0.8258 - val_loss: 8.4929 - val_accuracy: 0.5335\n",
            "epoch32\n",
            "834/834 [==============================] - ETA: 0s - loss: 0.5925 - accuracy: 0.8136\n",
            "Epoch 00001: val_accuracy did not improve from 0.91525\n",
            "834/834 [==============================] - 8s 9ms/step - loss: 0.5925 - accuracy: 0.8136 - val_loss: 10526.7627 - val_accuracy: 0.7379\n",
            "epoch33\n",
            "833/834 [============================>.] - ETA: 0s - loss: 0.6428 - accuracy: 0.7954\n",
            "Epoch 00001: val_accuracy did not improve from 0.91525\n",
            "834/834 [==============================] - 8s 9ms/step - loss: 0.6427 - accuracy: 0.7955 - val_loss: 22.2611 - val_accuracy: 0.4575\n",
            "epoch34\n",
            "828/834 [============================>.] - ETA: 0s - loss: 0.5959 - accuracy: 0.8137\n",
            "Epoch 00001: val_accuracy did not improve from 0.91525\n",
            "834/834 [==============================] - 8s 9ms/step - loss: 0.5960 - accuracy: 0.8136 - val_loss: 1.0772 - val_accuracy: 0.7101\n",
            "epoch35\n",
            "829/834 [============================>.] - ETA: 0s - loss: 0.6675 - accuracy: 0.7879\n",
            "Epoch 00001: val_accuracy did not improve from 0.91525\n",
            "834/834 [==============================] - 8s 9ms/step - loss: 0.6664 - accuracy: 0.7883 - val_loss: 0.3495 - val_accuracy: 0.8890\n",
            "epoch36\n",
            "832/834 [============================>.] - ETA: 0s - loss: 0.6095 - accuracy: 0.8129\n",
            "Epoch 00001: val_accuracy did not improve from 0.91525\n",
            "834/834 [==============================] - 8s 9ms/step - loss: 0.6091 - accuracy: 0.8129 - val_loss: 6678.2026 - val_accuracy: 0.8535\n",
            "epoch37\n",
            "829/834 [============================>.] - ETA: 0s - loss: 0.5908 - accuracy: 0.8134\n",
            "Epoch 00001: val_accuracy did not improve from 0.91525\n",
            "834/834 [==============================] - 8s 9ms/step - loss: 0.5898 - accuracy: 0.8138 - val_loss: 4.4418 - val_accuracy: 0.3947\n",
            "epoch38\n",
            "833/834 [============================>.] - ETA: 0s - loss: 0.7321 - accuracy: 0.7713\n",
            "Epoch 00001: val_accuracy did not improve from 0.91525\n",
            "834/834 [==============================] - 8s 9ms/step - loss: 0.7321 - accuracy: 0.7713 - val_loss: 0.3860 - val_accuracy: 0.8716\n",
            "epoch39\n",
            "829/834 [============================>.] - ETA: 0s - loss: 0.7180 - accuracy: 0.7781\n",
            "Epoch 00001: val_accuracy did not improve from 0.91525\n",
            "834/834 [==============================] - 8s 9ms/step - loss: 0.7168 - accuracy: 0.7785 - val_loss: 206.7156 - val_accuracy: 0.8823\n"
          ],
          "name": "stdout"
        }
      ]
    },
    {
      "cell_type": "code",
      "metadata": {
        "colab": {
          "base_uri": "https://localhost:8080/"
        },
        "id": "LfUUe6yiHmIS",
        "outputId": "aeea43c8-e300-47cc-e9bb-d37ea61bef13"
      },
      "source": [
        "\n",
        "print(\"accuracy on regular images:\", denoised.evaluate(x=x_test, y=y_test, verbose=0)[1])"
      ],
      "execution_count": null,
      "outputs": [
        {
          "output_type": "stream",
          "text": [
            "accuracy on regular images: 0.7793999910354614\n"
          ],
          "name": "stdout"
        }
      ]
    },
    {
      "cell_type": "code",
      "metadata": {
        "id": "yEXSmr8WcuiJ"
      },
      "source": [
        "batch_size = 10000\n",
        "eps = 0.03\n",
        "x_adversarial_denois, y_adversarial_denois = generate_adversarials_test_FGSM(batch_size, eps,denoised)\n",
        "\n"
      ],
      "execution_count": null,
      "outputs": []
    },
    {
      "cell_type": "code",
      "metadata": {
        "id": "i_R447TTLmHn",
        "colab": {
          "base_uri": "https://localhost:8080/"
        },
        "outputId": "7ec8214d-b227-4b0c-8b5d-e0433d21e8a2"
      },
      "source": [
        "print(\"accuracy on adversarial images:\", denoised.evaluate(x=np.array(x_adversarial_denois).reshape(-1,32,32,3), y=np.array(y_adversarial_denois), verbose=0)[1])"
      ],
      "execution_count": null,
      "outputs": [
        {
          "output_type": "stream",
          "text": [
            "accuracy on adversarial images: 0.02879999950528145\n"
          ],
          "name": "stdout"
        }
      ]
    },
    {
      "cell_type": "code",
      "metadata": {
        "id": "UzeFQJoDLtHN"
      },
      "source": [
        "epsilons2 = np.arange(0,0.035,0.005)\r\n",
        "batch_size = 10000\r\n",
        "accuracies_denoised = []\r\n",
        "for eps in epsilons2 :\r\n",
        "  x_adversarial_test, y_adversarial_test = generate_adversarials_test_FGSM(batch_size, eps, denoised)\r\n",
        "  accuracy =  denoised.evaluate(x=np.array(x_adversarial_test).reshape(-1,32,32,3), y=np.array(y_adversarial_test), verbose=0)[1]\r\n",
        "  accuracies_denoised.append(accuracy)\r\n",
        "\r\n"
      ],
      "execution_count": null,
      "outputs": []
    },
    {
      "cell_type": "markdown",
      "metadata": {
        "id": "eMkKvflN6_LP"
      },
      "source": [
        "Comparison of the classical adversarial training"
      ]
    },
    {
      "cell_type": "code",
      "metadata": {
        "id": "7YOjQz36JOA3",
        "colab": {
          "base_uri": "https://localhost:8080/",
          "height": 265
        },
        "outputId": "af0bac7e-6214-4266-ca0b-0b282a1169bb"
      },
      "source": [
        "plt.plot(epsilons2,accuracies_denoised, label = 'accuracies for denoised neural network+adversarial training')\r\n",
        "# plt.plot(epsilons2,accuracies,label='accuracies for normal adversarial training')\r\n",
        "# plt.title('Accuracy on adversarial examples generated by baseline model (FGSM) with respect to epsilon with adversarial training')\r\n",
        "# plt.xlabel('epsilon')\r\n",
        "# plt.ylabel('Accuracy')\r\n",
        "plt.plot(epsilons2,accuracies1)\r\n",
        "plt.legend()\r\n",
        "plt.show()"
      ],
      "execution_count": null,
      "outputs": [
        {
          "output_type": "display_data",
          "data": {
            "image/png": "[encoded data removed]",
            "text/plain": [
              "<Figure size 432x288 with 1 Axes>"
            ]
          },
          "metadata": {
            "tags": [],
            "needs_background": "light"
          }
        }
      ]
    },
    {
      "cell_type": "code",
      "metadata": {
        "id": "UfuslIz2UfnR"
      },
      "source": [
        ""
      ],
      "execution_count": null,
      "outputs": []
    }
  ]
}
