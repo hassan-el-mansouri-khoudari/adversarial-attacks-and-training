{
  "nbformat": 4,
  "nbformat_minor": 0,
  "metadata": {
    "colab": {
      "name": "PGD_attack.ipynb",
      "provenance": [],
      "collapsed_sections": [],
      "toc_visible": true
    },
    "kernelspec": {
      "display_name": "Python 3",
      "name": "python3"
    },
    "accelerator": "GPU"
  },
  "cells": [
    {
      "cell_type": "code",
      "metadata": {
        "id": "IV_yCue8l8cb"
      },
      "source": [
        "from cifar_utils import *\n",
        "from tensorflow import keras\n",
        "from keras.models import load_model\n",
        "from tensorflow.keras.datasets import cifar10"
      ],
      "execution_count": 1,
      "outputs": []
    },
    {
      "cell_type": "code",
      "metadata": {
        "id": "t_HBwPWGl8YE",
        "colab": {
          "base_uri": "https://localhost:8080/"
        },
        "outputId": "b46e6bea-546f-4ed6-f9cb-d0e468f60429"
      },
      "source": [
        "x_train, train_labels, x_test, test_labels = load_CIFAR10_data()\n",
        "classes = ['airplane','automobile','bird','cat','deer','dog','frog','horse','ship','truck']\n",
        "\n",
        "y_train = keras.utils.to_categorical(train_labels, 10) \n",
        "y_test = keras.utils.to_categorical(test_labels, 10) \n",
        "\n",
        "del train_labels, test_labels\n"
      ],
      "execution_count": 2,
      "outputs": [
        {
          "output_type": "stream",
          "text": [
            "Downloading data from https://www.cs.toronto.edu/~kriz/cifar-10-python.tar.gz\n",
            "170500096/170498071 [==============================] - 11s 0us/step\n"
          ],
          "name": "stdout"
        }
      ]
    },
    {
      "cell_type": "code",
      "metadata": {
        "id": "wmbHrSpfl8VT"
      },
      "source": [
        "model = load_model('best_model.h5')"
      ],
      "execution_count": 4,
      "outputs": []
    },
    {
      "cell_type": "markdown",
      "metadata": {
        "id": "tZzI3YnXonHd"
      },
      "source": [
        "# **PGD Attack :**\n",
        "We want to hijack sample x :\n",
        "\n",
        "$x_0 = x$ \\\\\n",
        "$ x_{t+1} = \\Pi_{B_{l^{\\infty}}(x,\\delta)} [x_t + \\alpha sgn(∇_xL(θ, x_t, y))]$\n"
      ]
    },
    {
      "cell_type": "code",
      "metadata": {
        "id": "XbmpqW2Ikyfp"
      },
      "source": [
        "def adversarial_pattern(image, label):\n",
        "    image = tf.cast(image, tf.float32)\n",
        "\n",
        "    with tf.GradientTape() as tape:\n",
        "        tape.watch(image)\n",
        "        prediction = model(image)\n",
        "\n",
        "        loss = loss_object(prediction, label)\n",
        "    \n",
        "    gradient = tape.gradient(loss, image)\n",
        "    \n",
        "    signed_grad = tf.sign(gradient)\n",
        "    return signed_grad\n"
      ],
      "execution_count": 13,
      "outputs": []
    },
    {
      "cell_type": "code",
      "metadata": {
        "id": "wmiToKXV5CEC"
      },
      "source": [
        "def attack_PGD(x, y, delta, step_size, max_iter=100, verbose = 0):\n",
        "    pert_x = x\n",
        "    cpt = 0\n",
        "    while True :\n",
        "        cpt += 1\n",
        "        pert = adversarial_pattern(pert_x, y)\n",
        "        new_pert_x = pert_x + step_size*pert\n",
        "        #First clip serves to keep values between 0 and 1 and second clip for attacked examples to stay within the original examples l_inf sphere\n",
        "        new_pert_x = np.clip(np.clip(new_pert_x, x-delta, x+delta),0,1)\n",
        "\n",
        "        if cpt == max_iter :\n",
        "            pert_x = new_pert_x \n",
        "            if verbose :\n",
        "              print(\"max iter break\")\n",
        "            break\n",
        "        \n",
        "        pert_x = new_pert_x\n",
        "    \n",
        "    return pert_x"
      ],
      "execution_count": 14,
      "outputs": []
    },
    {
      "cell_type": "code",
      "metadata": {
        "id": "Mnn4zNVZOGHF"
      },
      "source": [
        "## A generator to generate PGD adversarial attacks from train\n",
        "def generate_adversarials_train_PGD(batch_size,delta, step_size, max_iter , seed=None, verbose = 0):\n",
        "    random.seed(seed)\n",
        "    x = []\n",
        "    y = []\n",
        "    indices_chosen = []\n",
        "\n",
        "    if batch_size == None :\n",
        "      indices_chosen = list(range(len(x_train)))\n",
        "    else :\n",
        "      for batch in range(batch_size):\n",
        "          indices_chosen.append(random.randint(0, x_train.shape[0]-1))\n",
        "\n",
        "    labels = y_train[indices_chosen]\n",
        "    ori_images = x_train[indices_chosen]\n",
        "\n",
        "    adversarial = attack_PGD(ori_images,labels, delta, step_size, max_iter, verbose)\n",
        "\n",
        "    \n",
        "    return indices_chosen, adversarial, labels\n",
        "## A generator to generate PGD adversarial attacks from test set\n",
        "\n",
        "def generate_adversarials_test_PGD(batch_size,delta, step_size, max_iter , seed=None, verbose = 0):\n",
        "    random.seed(seed)\n",
        "    x = []\n",
        "    y = []\n",
        "    indices_chosen = []\n",
        "\n",
        "    if batch_size == None :\n",
        "      indices_chosen = list(range(len(x_test)))\n",
        "    else :\n",
        "      for batch in range(batch_size):\n",
        "          indices_chosen.append(random.randint(0, x_test.shape[0]-1))\n",
        "\n",
        "    labels = y_test[indices_chosen]\n",
        "    ori_images = x_test[indices_chosen]\n",
        "\n",
        "    adversarial = attack_PGD(ori_images,labels, delta, step_size, max_iter, verbose)\n",
        "\n",
        "    \n",
        "    return indices_chosen, adversarial, labels"
      ],
      "execution_count": 15,
      "outputs": []
    },
    {
      "cell_type": "markdown",
      "metadata": {
        "id": "GhNmPU1BGlXU"
      },
      "source": [
        "# Hyper-parameters tuning :"
      ]
    },
    {
      "cell_type": "code",
      "metadata": {
        "colab": {
          "base_uri": "https://localhost:8080/"
        },
        "id": "YUhBGaMr9ANp",
        "outputId": "46f00944-706b-4b32-8060-be258f0cb190"
      },
      "source": [
        "batch_size = 5000\n",
        "max_iter = 20\n",
        "\n",
        "acc_orig_imgs = None\n",
        "acc_advers_imgs = []   \n",
        "\n",
        "#fix experiments randomness\n",
        "seed = 0 \n",
        "\n",
        "start = 0\n",
        "\n",
        "print(f'Accuracy on the same batch of adversarial images for :')\n",
        "for alpha in np.arange(0.01,0.06,0.005):\n",
        "  for delta in np.arange(0.05,0.1,0.005):\n",
        "\n",
        "      indices_chosen, x_adversarial_train, y_adversarial_train = generate_adversarials_train_PGD(batch_size, delta, alpha, max_iter, seed)\n",
        "      acc_advers_imgs.append(model.evaluate(x=np.array(x_adversarial_train).reshape(-1,32,32,3), y=np.array(y_adversarial_train), verbose=0)[1])\n",
        "      if start == 0 :\n",
        "        acc_orig_imgs = round(model.evaluate(x=x_train[indices_chosen].reshape(-1,32,32,3), y=y_train[indices_chosen].reshape(-1,10), verbose=0)[1],4)\n",
        "        start = 1\n",
        "      \n",
        "      print(f'   delta = {round(delta,3)}, alpha = {round(alpha,3)}, {round(acc_advers_imgs[-1]*100,3)} %')\n",
        "\n",
        "aft = np.array(acc_advers_imgs).reshape((len(np.arange(0.01,0.06,0.005)), len(np.arange(0.05,0.1,0.005))))"
      ],
      "execution_count": 76,
      "outputs": [
        {
          "output_type": "stream",
          "text": [
            "Accuracy on the same batch of adversarial images for :\n",
            "   delta = 0.05, alpha = 0.01, 0.0 %\n",
            "   delta = 0.055, alpha = 0.01, 0.0 %\n",
            "   delta = 0.06, alpha = 0.01, 0.0 %\n",
            "   delta = 0.065, alpha = 0.01, 0.0 %\n",
            "   delta = 0.07, alpha = 0.01, 0.0 %\n",
            "   delta = 0.075, alpha = 0.01, 0.0 %\n",
            "   delta = 0.08, alpha = 0.01, 0.0 %\n",
            "   delta = 0.085, alpha = 0.01, 0.0 %\n",
            "   delta = 0.09, alpha = 0.01, 0.0 %\n",
            "   delta = 0.095, alpha = 0.01, 0.0 %\n",
            "   delta = 0.05, alpha = 0.015, 0.04 %\n",
            "   delta = 0.055, alpha = 0.015, 0.02 %\n",
            "   delta = 0.06, alpha = 0.015, 0.0 %\n",
            "   delta = 0.065, alpha = 0.015, 0.0 %\n",
            "   delta = 0.07, alpha = 0.015, 0.0 %\n",
            "   delta = 0.075, alpha = 0.015, 0.0 %\n",
            "   delta = 0.08, alpha = 0.015, 0.0 %\n",
            "   delta = 0.085, alpha = 0.015, 0.0 %\n",
            "   delta = 0.09, alpha = 0.015, 0.0 %\n",
            "   delta = 0.095, alpha = 0.015, 0.0 %\n",
            "   delta = 0.05, alpha = 0.02, 0.16 %\n",
            "   delta = 0.055, alpha = 0.02, 0.06 %\n",
            "   delta = 0.06, alpha = 0.02, 0.02 %\n",
            "   delta = 0.065, alpha = 0.02, 0.02 %\n",
            "   delta = 0.07, alpha = 0.02, 0.0 %\n",
            "   delta = 0.075, alpha = 0.02, 0.0 %\n",
            "   delta = 0.08, alpha = 0.02, 0.0 %\n",
            "   delta = 0.085, alpha = 0.02, 0.0 %\n",
            "   delta = 0.09, alpha = 0.02, 0.0 %\n",
            "   delta = 0.095, alpha = 0.02, 0.0 %\n",
            "   delta = 0.05, alpha = 0.025, 0.6 %\n",
            "   delta = 0.055, alpha = 0.025, 0.28 %\n",
            "   delta = 0.06, alpha = 0.025, 0.16 %\n",
            "   delta = 0.065, alpha = 0.025, 0.08 %\n",
            "   delta = 0.07, alpha = 0.025, 0.06 %\n",
            "   delta = 0.075, alpha = 0.025, 0.0 %\n",
            "   delta = 0.08, alpha = 0.025, 0.0 %\n",
            "   delta = 0.085, alpha = 0.025, 0.02 %\n",
            "   delta = 0.09, alpha = 0.025, 0.02 %\n",
            "   delta = 0.095, alpha = 0.025, 0.0 %\n",
            "   delta = 0.05, alpha = 0.03, 1.36 %\n",
            "   delta = 0.055, alpha = 0.03, 0.66 %\n",
            "   delta = 0.06, alpha = 0.03, 0.4 %\n",
            "   delta = 0.065, alpha = 0.03, 0.36 %\n",
            "   delta = 0.07, alpha = 0.03, 0.08 %\n",
            "   delta = 0.075, alpha = 0.03, 0.1 %\n",
            "   delta = 0.08, alpha = 0.03, 0.04 %\n",
            "   delta = 0.085, alpha = 0.03, 0.02 %\n",
            "   delta = 0.09, alpha = 0.03, 0.04 %\n",
            "   delta = 0.095, alpha = 0.03, 0.02 %\n",
            "   delta = 0.05, alpha = 0.035, 2.5 %\n",
            "   delta = 0.055, alpha = 0.035, 1.26 %\n",
            "   delta = 0.06, alpha = 0.035, 0.88 %\n",
            "   delta = 0.065, alpha = 0.035, 0.52 %\n",
            "   delta = 0.07, alpha = 0.035, 0.44 %\n",
            "   delta = 0.075, alpha = 0.035, 0.2 %\n",
            "   delta = 0.08, alpha = 0.035, 0.1 %\n",
            "   delta = 0.085, alpha = 0.035, 0.06 %\n",
            "   delta = 0.09, alpha = 0.035, 0.04 %\n",
            "   delta = 0.095, alpha = 0.035, 0.04 %\n",
            "   delta = 0.05, alpha = 0.04, 2.62 %\n",
            "   delta = 0.055, alpha = 0.04, 1.86 %\n",
            "   delta = 0.06, alpha = 0.04, 1.26 %\n",
            "   delta = 0.065, alpha = 0.04, 1.08 %\n",
            "   delta = 0.07, alpha = 0.04, 0.82 %\n",
            "   delta = 0.075, alpha = 0.04, 0.38 %\n",
            "   delta = 0.08, alpha = 0.04, 0.32 %\n",
            "   delta = 0.085, alpha = 0.04, 0.24 %\n",
            "   delta = 0.09, alpha = 0.04, 0.16 %\n",
            "   delta = 0.095, alpha = 0.04, 0.06 %\n",
            "   delta = 0.05, alpha = 0.045, 3.16 %\n",
            "   delta = 0.055, alpha = 0.045, 2.84 %\n",
            "   delta = 0.06, alpha = 0.045, 2.08 %\n",
            "   delta = 0.065, alpha = 0.045, 1.64 %\n",
            "   delta = 0.07, alpha = 0.045, 1.2 %\n",
            "   delta = 0.075, alpha = 0.045, 0.8 %\n",
            "   delta = 0.08, alpha = 0.045, 0.52 %\n",
            "   delta = 0.085, alpha = 0.045, 0.34 %\n",
            "   delta = 0.09, alpha = 0.045, 0.26 %\n",
            "   delta = 0.095, alpha = 0.045, 0.2 %\n",
            "   delta = 0.05, alpha = 0.05, 3.16 %\n",
            "   delta = 0.055, alpha = 0.05, 3.3 %\n",
            "   delta = 0.06, alpha = 0.05, 2.36 %\n",
            "   delta = 0.065, alpha = 0.05, 1.88 %\n",
            "   delta = 0.07, alpha = 0.05, 1.4 %\n",
            "   delta = 0.075, alpha = 0.05, 1.36 %\n",
            "   delta = 0.08, alpha = 0.05, 0.98 %\n",
            "   delta = 0.085, alpha = 0.05, 0.64 %\n",
            "   delta = 0.09, alpha = 0.05, 0.5 %\n",
            "   delta = 0.095, alpha = 0.05, 0.22 %\n",
            "   delta = 0.05, alpha = 0.055, 3.46 %\n",
            "   delta = 0.055, alpha = 0.055, 3.34 %\n",
            "   delta = 0.06, alpha = 0.055, 3.08 %\n",
            "   delta = 0.065, alpha = 0.055, 2.52 %\n",
            "   delta = 0.07, alpha = 0.055, 1.96 %\n",
            "   delta = 0.075, alpha = 0.055, 1.42 %\n",
            "   delta = 0.08, alpha = 0.055, 1.56 %\n",
            "   delta = 0.085, alpha = 0.055, 0.8 %\n",
            "   delta = 0.09, alpha = 0.055, 0.64 %\n",
            "   delta = 0.095, alpha = 0.055, 0.58 %\n"
          ],
          "name": "stdout"
        }
      ]
    },
    {
      "cell_type": "markdown",
      "metadata": {
        "id": "LmWgBEehGMA4"
      },
      "source": [
        "**Fine tuning of the values of alpha (step size) and delta (radius of sphere around original example)**"
      ]
    },
    {
      "cell_type": "code",
      "metadata": {
        "colab": {
          "base_uri": "https://localhost:8080/",
          "height": 515
        },
        "id": "F6aQt2BCIEUw",
        "outputId": "56d52cbd-ebd0-42d2-e4c5-2961f94ce0a1"
      },
      "source": [
        "import seaborn as sns\n",
        "\n",
        "alphas = [round(i,3) for i in np.arange(0.01,0.06,0.005)]\n",
        "deltas = [round(i,3) for i in np.arange(0.05,0.1,0.005)]\n",
        "\n",
        "fig, ax = plt.subplots(figsize=(8,8))\n",
        "sns.heatmap(aft, yticklabels=alphas, xticklabels=deltas)\n",
        "ax.set(xlabel='deltas', ylabel='alphas')\n"
      ],
      "execution_count": 90,
      "outputs": [
        {
          "output_type": "execute_result",
          "data": {
            "text/plain": [
              "[Text(51.0, 0.5, 'alphas'), Text(0.5, 51.0, 'deltas')]"
            ]
          },
          "metadata": {
            "tags": []
          },
          "execution_count": 90
        },
        {
          "output_type": "display_data",
          "data": {
            "image/png": "[encoded data removed]",
            "text/plain": [
              "<Figure size 576x576 with 2 Axes>"
            ]
          },
          "metadata": {
            "tags": [],
            "needs_background": "light"
          }
        }
      ]
    },
    {
      "cell_type": "markdown",
      "metadata": {
        "id": "WFIaVXZvGWbq"
      },
      "source": [
        "==> By analysing this matrix, and since we prefer small deltas so as to not affect images greatly: We choose the values alpha = 0.01, delta = 0.05"
      ]
    },
    {
      "cell_type": "code",
      "metadata": {
        "id": "9oMF3SZuIL3Q",
        "colab": {
          "base_uri": "https://localhost:8080/"
        },
        "outputId": "fad9a918-b302-418c-e476-c5b688354445"
      },
      "source": [
        "batch_size = 5000\n",
        "\n",
        "seed = 0 \n",
        "\n",
        "alpha = 0.01\n",
        "delta = 0.05\n",
        "\n",
        "\n",
        "acc_advers_imgs = []\n",
        "for max_iter in range(0,10):\n",
        "  \n",
        "  if max_iter == 0:\n",
        "    indices_chosen, x_adversarial_train, y_adversarial_train = generate_adversarials_train_PGD(batch_size, delta, alpha, 1, seed)\n",
        "    acc_orig_imgs = model.evaluate(x=x_train[indices_chosen].reshape(-1,32,32,3), y=y_train[indices_chosen].reshape(-1,10), verbose=0)[1]\n",
        "    acc_advers_imgs.append(acc_orig_imgs)\n",
        "    print(f' Accuracy for iter {max_iter}, delta = {delta}, alpha = {alpha}, {round(acc_orig_imgs*100,3)} %')  #fix experiments randomness\n",
        "    continue\n",
        "\n",
        "  indices_chosen, x_adversarial_train, y_adversarial_train = generate_adversarials_train_PGD(batch_size, delta, alpha, max_iter, seed)\n",
        "  acc_advers_imgs.append(model.evaluate(x=np.array(x_adversarial_train).reshape(-1,32,32,3), y=np.array(y_adversarial_train), verbose=0)[1])\n",
        "  \n",
        "  print(f' Accuracy for iter {max_iter}, delta = {delta}, alpha = {alpha}, {round(acc_advers_imgs[-1]*100,3)} %')"
      ],
      "execution_count": 100,
      "outputs": [
        {
          "output_type": "stream",
          "text": [
            " Accuracy for iter 0, delta = 0.05, alpha = 0.01, 95.12 %\n",
            " Accuracy for iter 1, delta = 0.05, alpha = 0.01, 34.84 %\n",
            " Accuracy for iter 2, delta = 0.05, alpha = 0.01, 4.14 %\n",
            " Accuracy for iter 3, delta = 0.05, alpha = 0.01, 0.34 %\n",
            " Accuracy for iter 4, delta = 0.05, alpha = 0.01, 0.04 %\n",
            " Accuracy for iter 5, delta = 0.05, alpha = 0.01, 0.0 %\n",
            " Accuracy for iter 6, delta = 0.05, alpha = 0.01, 0.0 %\n",
            " Accuracy for iter 7, delta = 0.05, alpha = 0.01, 0.0 %\n",
            " Accuracy for iter 8, delta = 0.05, alpha = 0.01, 0.0 %\n",
            " Accuracy for iter 9, delta = 0.05, alpha = 0.01, 0.0 %\n"
          ],
          "name": "stdout"
        }
      ]
    },
    {
      "cell_type": "code",
      "metadata": {
        "colab": {
          "base_uri": "https://localhost:8080/",
          "height": 513
        },
        "id": "G49Ud9RvxfWl",
        "outputId": "703394a2-2033-4560-afae-fec7d6405761"
      },
      "source": [
        "plt.figure(figsize=(8,8))\n",
        "plt.plot(list(range(0,10)), 100*np.array(acc_advers_imgs), '-o')\n",
        "plt.xticks(list(range(0,10)))\n",
        "plt.yticks(list(100*np.array(acc_advers_imgs)))\n",
        "plt.xlabel('Nb_iterations')\n",
        "plt.xlabel('Accuracy on adversarial examples')\n",
        "plt.title('Accuracy on adversarial examples (PGD) with respect to number of iterations')\n",
        "plt.show()"
      ],
      "execution_count": 109,
      "outputs": [
        {
          "output_type": "display_data",
          "data": {
            "image/png": "[encoded data removed]",
            "text/plain": [
              "<Figure size 576x576 with 1 Axes>"
            ]
          },
          "metadata": {
            "tags": [],
            "needs_background": "light"
          }
        }
      ]
    },
    {
      "cell_type": "markdown",
      "metadata": {
        "id": "ByoxzOJ-2ar8"
      },
      "source": [
        "# Run PGD on test set"
      ]
    },
    {
      "cell_type": "code",
      "metadata": {
        "id": "-JNIeXs81o1D"
      },
      "source": [
        "batch_size = 5000\n",
        "delta = 0.05\n",
        "alpha = 0.01\n",
        "max_iter = 5\n",
        "\n",
        "#fix experiments randomness\n",
        "seed = 0 \n",
        "\n",
        "indices_chosen, x_adversarial_test, y_adversarial_test = generate_adversarials_test_PGD(batch_size, delta, alpha, max_iter, seed)"
      ],
      "execution_count": 110,
      "outputs": []
    },
    {
      "cell_type": "code",
      "metadata": {
        "id": "A4GNBqJV1qsl",
        "colab": {
          "base_uri": "https://localhost:8080/"
        },
        "outputId": "f44eb22d-08f1-4687-f7e0-8634a75c71cc"
      },
      "source": [
        "print(f'Accuracy on batch of test images =  {model.evaluate(x=x_test[indices_chosen].reshape(-1,32,32,3), y=y_test[indices_chosen].reshape(-1,10), verbose=0)[1]*100} %')\n",
        "\n",
        "print(f'Accuracy on the same batch of test adversarial images for delta = {delta}, alpha = {alpha}, {model.evaluate(x=np.array(x_adversarial_test).reshape(-1,32,32,3), y=np.array(y_adversarial_test), verbose=0)[1]*100} %')"
      ],
      "execution_count": 111,
      "outputs": [
        {
          "output_type": "stream",
          "text": [
            "Accuracy on batch of test images =  85.33999919891357 %\n",
            "Accuracy on the same batch of test adversarial images for delta = 0.05, alpha = 0.01, 0.03999999898951501 %\n"
          ],
          "name": "stdout"
        }
      ]
    },
    {
      "cell_type": "code",
      "metadata": {
        "id": "zHz6_jh_7CUV",
        "colab": {
          "base_uri": "https://localhost:8080/",
          "height": 484
        },
        "outputId": "9af30cd8-a6c1-4976-e765-55e84af85874"
      },
      "source": [
        "ind = random.randint(0,batch_size-1)\n",
        "plt.figure(figsize=(7,7))\n",
        "print(\"Before attack :\")\n",
        "plt.subplot(2,1,1)\n",
        "plt.imshow(x_test[indices_chosen[ind]].reshape(32,32,3))\n",
        "print(\"After attack :\")\n",
        "plt.subplot(2,1,2)\n",
        "plt.imshow(x_adversarial_test[ind].reshape(32,32,3))"
      ],
      "execution_count": 112,
      "outputs": [
        {
          "output_type": "stream",
          "text": [
            "Before attack :\n",
            "After attack :\n"
          ],
          "name": "stdout"
        },
        {
          "output_type": "execute_result",
          "data": {
            "text/plain": [
              "<matplotlib.image.AxesImage at 0x7ff66700e0b8>"
            ]
          },
          "metadata": {
            "tags": []
          },
          "execution_count": 112
        },
        {
          "output_type": "display_data",
          "data": {
            "image/png": "[encoded data removed]",
            "text/plain": [
              "<Figure size 504x504 with 2 Axes>"
            ]
          },
          "metadata": {
            "tags": [],
            "needs_background": "light"
          }
        }
      ]
    },
    {
      "cell_type": "markdown",
      "metadata": {
        "id": "QNU2brxC2ho9"
      },
      "source": [
        "# **PGD adversarial training :**"
      ]
    },
    {
      "cell_type": "code",
      "metadata": {
        "id": "ybZl2JML2fs9"
      },
      "source": [
        ""
      ],
      "execution_count": null,
      "outputs": []
    }
  ]
}